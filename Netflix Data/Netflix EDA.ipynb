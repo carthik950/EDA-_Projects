{
 "cells": [
  {
   "cell_type": "code",
   "execution_count": 1,
   "id": "1e7e8dcc-f101-4a01-99c7-2e1d67fa5162",
   "metadata": {},
   "outputs": [],
   "source": [
    "import numpy as np\n",
    "import pandas as pd\n",
    "import matplotlib.pyplot as plt\n",
    "import seaborn as sns\n"
   ]
  },
  {
   "cell_type": "code",
   "execution_count": 2,
   "id": "94ca1bb6-1050-4bc3-b4c0-0fbd8a9c92e6",
   "metadata": {},
   "outputs": [],
   "source": [
    "df = pd.read_csv('netflix_titles.csv')"
   ]
  },
  {
   "cell_type": "code",
   "execution_count": 3,
   "id": "da149526-1afd-4f37-981d-80fb7cb72655",
   "metadata": {},
   "outputs": [
    {
     "data": {
      "text/html": [
       "<div>\n",
       "<style scoped>\n",
       "    .dataframe tbody tr th:only-of-type {\n",
       "        vertical-align: middle;\n",
       "    }\n",
       "\n",
       "    .dataframe tbody tr th {\n",
       "        vertical-align: top;\n",
       "    }\n",
       "\n",
       "    .dataframe thead th {\n",
       "        text-align: right;\n",
       "    }\n",
       "</style>\n",
       "<table border=\"1\" class=\"dataframe\">\n",
       "  <thead>\n",
       "    <tr style=\"text-align: right;\">\n",
       "      <th></th>\n",
       "      <th>show_id</th>\n",
       "      <th>type</th>\n",
       "      <th>title</th>\n",
       "      <th>director</th>\n",
       "      <th>cast</th>\n",
       "      <th>country</th>\n",
       "      <th>date_added</th>\n",
       "      <th>release_year</th>\n",
       "      <th>rating</th>\n",
       "      <th>duration</th>\n",
       "      <th>listed_in</th>\n",
       "      <th>description</th>\n",
       "    </tr>\n",
       "  </thead>\n",
       "  <tbody>\n",
       "    <tr>\n",
       "      <th>0</th>\n",
       "      <td>s1</td>\n",
       "      <td>Movie</td>\n",
       "      <td>Dick Johnson Is Dead</td>\n",
       "      <td>Kirsten Johnson</td>\n",
       "      <td>NaN</td>\n",
       "      <td>United States</td>\n",
       "      <td>September 25, 2021</td>\n",
       "      <td>2020</td>\n",
       "      <td>PG-13</td>\n",
       "      <td>90 min</td>\n",
       "      <td>Documentaries</td>\n",
       "      <td>As her father nears the end of his life, filmm...</td>\n",
       "    </tr>\n",
       "    <tr>\n",
       "      <th>1</th>\n",
       "      <td>s2</td>\n",
       "      <td>TV Show</td>\n",
       "      <td>Blood &amp; Water</td>\n",
       "      <td>NaN</td>\n",
       "      <td>Ama Qamata, Khosi Ngema, Gail Mabalane, Thaban...</td>\n",
       "      <td>South Africa</td>\n",
       "      <td>September 24, 2021</td>\n",
       "      <td>2021</td>\n",
       "      <td>TV-MA</td>\n",
       "      <td>2 Seasons</td>\n",
       "      <td>International TV Shows, TV Dramas, TV Mysteries</td>\n",
       "      <td>After crossing paths at a party, a Cape Town t...</td>\n",
       "    </tr>\n",
       "    <tr>\n",
       "      <th>2</th>\n",
       "      <td>s3</td>\n",
       "      <td>TV Show</td>\n",
       "      <td>Ganglands</td>\n",
       "      <td>Julien Leclercq</td>\n",
       "      <td>Sami Bouajila, Tracy Gotoas, Samuel Jouy, Nabi...</td>\n",
       "      <td>NaN</td>\n",
       "      <td>September 24, 2021</td>\n",
       "      <td>2021</td>\n",
       "      <td>TV-MA</td>\n",
       "      <td>1 Season</td>\n",
       "      <td>Crime TV Shows, International TV Shows, TV Act...</td>\n",
       "      <td>To protect his family from a powerful drug lor...</td>\n",
       "    </tr>\n",
       "    <tr>\n",
       "      <th>3</th>\n",
       "      <td>s4</td>\n",
       "      <td>TV Show</td>\n",
       "      <td>Jailbirds New Orleans</td>\n",
       "      <td>NaN</td>\n",
       "      <td>NaN</td>\n",
       "      <td>NaN</td>\n",
       "      <td>September 24, 2021</td>\n",
       "      <td>2021</td>\n",
       "      <td>TV-MA</td>\n",
       "      <td>1 Season</td>\n",
       "      <td>Docuseries, Reality TV</td>\n",
       "      <td>Feuds, flirtations and toilet talk go down amo...</td>\n",
       "    </tr>\n",
       "    <tr>\n",
       "      <th>4</th>\n",
       "      <td>s5</td>\n",
       "      <td>TV Show</td>\n",
       "      <td>Kota Factory</td>\n",
       "      <td>NaN</td>\n",
       "      <td>Mayur More, Jitendra Kumar, Ranjan Raj, Alam K...</td>\n",
       "      <td>India</td>\n",
       "      <td>September 24, 2021</td>\n",
       "      <td>2021</td>\n",
       "      <td>TV-MA</td>\n",
       "      <td>2 Seasons</td>\n",
       "      <td>International TV Shows, Romantic TV Shows, TV ...</td>\n",
       "      <td>In a city of coaching centers known to train I...</td>\n",
       "    </tr>\n",
       "  </tbody>\n",
       "</table>\n",
       "</div>"
      ],
      "text/plain": [
       "  show_id     type                  title         director  \\\n",
       "0      s1    Movie   Dick Johnson Is Dead  Kirsten Johnson   \n",
       "1      s2  TV Show          Blood & Water              NaN   \n",
       "2      s3  TV Show              Ganglands  Julien Leclercq   \n",
       "3      s4  TV Show  Jailbirds New Orleans              NaN   \n",
       "4      s5  TV Show           Kota Factory              NaN   \n",
       "\n",
       "                                                cast        country  \\\n",
       "0                                                NaN  United States   \n",
       "1  Ama Qamata, Khosi Ngema, Gail Mabalane, Thaban...   South Africa   \n",
       "2  Sami Bouajila, Tracy Gotoas, Samuel Jouy, Nabi...            NaN   \n",
       "3                                                NaN            NaN   \n",
       "4  Mayur More, Jitendra Kumar, Ranjan Raj, Alam K...          India   \n",
       "\n",
       "           date_added  release_year rating   duration  \\\n",
       "0  September 25, 2021          2020  PG-13     90 min   \n",
       "1  September 24, 2021          2021  TV-MA  2 Seasons   \n",
       "2  September 24, 2021          2021  TV-MA   1 Season   \n",
       "3  September 24, 2021          2021  TV-MA   1 Season   \n",
       "4  September 24, 2021          2021  TV-MA  2 Seasons   \n",
       "\n",
       "                                           listed_in  \\\n",
       "0                                      Documentaries   \n",
       "1    International TV Shows, TV Dramas, TV Mysteries   \n",
       "2  Crime TV Shows, International TV Shows, TV Act...   \n",
       "3                             Docuseries, Reality TV   \n",
       "4  International TV Shows, Romantic TV Shows, TV ...   \n",
       "\n",
       "                                         description  \n",
       "0  As her father nears the end of his life, filmm...  \n",
       "1  After crossing paths at a party, a Cape Town t...  \n",
       "2  To protect his family from a powerful drug lor...  \n",
       "3  Feuds, flirtations and toilet talk go down amo...  \n",
       "4  In a city of coaching centers known to train I...  "
      ]
     },
     "execution_count": 3,
     "metadata": {},
     "output_type": "execute_result"
    }
   ],
   "source": [
    "df.head()"
   ]
  },
  {
   "cell_type": "code",
   "execution_count": 4,
   "id": "15c402e6-9f43-47d5-9b0f-06c515eee21d",
   "metadata": {},
   "outputs": [
    {
     "data": {
      "text/plain": [
       "(8807, 12)"
      ]
     },
     "execution_count": 4,
     "metadata": {},
     "output_type": "execute_result"
    }
   ],
   "source": [
    "df.shape"
   ]
  },
  {
   "cell_type": "code",
   "execution_count": 5,
   "id": "249d7234-4775-47d4-8287-5715183c8c1a",
   "metadata": {},
   "outputs": [
    {
     "data": {
      "text/plain": [
       "RangeIndex(start=0, stop=8807, step=1)"
      ]
     },
     "execution_count": 5,
     "metadata": {},
     "output_type": "execute_result"
    }
   ],
   "source": [
    "df.index"
   ]
  },
  {
   "cell_type": "code",
   "execution_count": 6,
   "id": "a4500882-cc7b-46c0-a009-4d72886ac2f4",
   "metadata": {},
   "outputs": [
    {
     "data": {
      "text/plain": [
       "Index(['show_id', 'type', 'title', 'director', 'cast', 'country', 'date_added',\n",
       "       'release_year', 'rating', 'duration', 'listed_in', 'description'],\n",
       "      dtype='object')"
      ]
     },
     "execution_count": 6,
     "metadata": {},
     "output_type": "execute_result"
    }
   ],
   "source": [
    "df.columns"
   ]
  },
  {
   "cell_type": "code",
   "execution_count": 7,
   "id": "b7a322c9-ff06-41bc-9eb4-09ab84b626e5",
   "metadata": {},
   "outputs": [
    {
     "name": "stdout",
     "output_type": "stream",
     "text": [
      "<class 'pandas.core.frame.DataFrame'>\n",
      "RangeIndex: 8807 entries, 0 to 8806\n",
      "Data columns (total 12 columns):\n",
      " #   Column        Non-Null Count  Dtype \n",
      "---  ------        --------------  ----- \n",
      " 0   show_id       8807 non-null   object\n",
      " 1   type          8807 non-null   object\n",
      " 2   title         8807 non-null   object\n",
      " 3   director      6173 non-null   object\n",
      " 4   cast          7982 non-null   object\n",
      " 5   country       7976 non-null   object\n",
      " 6   date_added    8797 non-null   object\n",
      " 7   release_year  8807 non-null   int64 \n",
      " 8   rating        8803 non-null   object\n",
      " 9   duration      8804 non-null   object\n",
      " 10  listed_in     8807 non-null   object\n",
      " 11  description   8807 non-null   object\n",
      "dtypes: int64(1), object(11)\n",
      "memory usage: 825.8+ KB\n"
     ]
    }
   ],
   "source": [
    "df.info()"
   ]
  },
  {
   "cell_type": "code",
   "execution_count": 8,
   "id": "85336018-37b3-4e35-9298-81b0065defdf",
   "metadata": {},
   "outputs": [
    {
     "data": {
      "text/plain": [
       "0          s1\n",
       "1          s2\n",
       "2          s3\n",
       "3          s4\n",
       "4          s5\n",
       "        ...  \n",
       "8802    s8803\n",
       "8803    s8804\n",
       "8804    s8805\n",
       "8805    s8806\n",
       "8806    s8807\n",
       "Name: show_id, Length: 8807, dtype: object"
      ]
     },
     "execution_count": 8,
     "metadata": {},
     "output_type": "execute_result"
    }
   ],
   "source": [
    "df['show_id']"
   ]
  },
  {
   "cell_type": "code",
   "execution_count": 9,
   "id": "e12f8006-b0de-4dbf-b93b-ca3609abc923",
   "metadata": {},
   "outputs": [
    {
     "data": {
      "text/plain": [
       "show_id            0\n",
       "type               0\n",
       "title              0\n",
       "director        2634\n",
       "cast             825\n",
       "country          831\n",
       "date_added        10\n",
       "release_year       0\n",
       "rating             4\n",
       "duration           3\n",
       "listed_in          0\n",
       "description        0\n",
       "dtype: int64"
      ]
     },
     "execution_count": 9,
     "metadata": {},
     "output_type": "execute_result"
    }
   ],
   "source": [
    "df.isnull().sum()"
   ]
  },
  {
   "cell_type": "code",
   "execution_count": 10,
   "id": "81723901-521d-4054-9ccc-c60287c9fe56",
   "metadata": {},
   "outputs": [
    {
     "data": {
      "text/plain": [
       "0       Kirsten Johnson\n",
       "1                   NaN\n",
       "2       Julien Leclercq\n",
       "3                   NaN\n",
       "4                   NaN\n",
       "             ...       \n",
       "8802      David Fincher\n",
       "8803                NaN\n",
       "8804    Ruben Fleischer\n",
       "8805       Peter Hewitt\n",
       "8806        Mozez Singh\n",
       "Name: director, Length: 8807, dtype: object"
      ]
     },
     "execution_count": 10,
     "metadata": {},
     "output_type": "execute_result"
    }
   ],
   "source": [
    "df['director']"
   ]
  },
  {
   "cell_type": "code",
   "execution_count": 11,
   "id": "340550bf-0e18-46f0-b3c7-b3d1e5a4d87d",
   "metadata": {},
   "outputs": [
    {
     "data": {
      "text/plain": [
       "Rajiv Chilaka                     19\n",
       "Raúl Campos, Jan Suter            18\n",
       "Marcus Raboy                      16\n",
       "Suhas Kadav                       16\n",
       "Jay Karas                         14\n",
       "                                  ..\n",
       "Raymie Muzquiz, Stu Livingston     1\n",
       "Joe Menendez                       1\n",
       "Eric Bross                         1\n",
       "Will Eisenberg                     1\n",
       "Mozez Singh                        1\n",
       "Name: director, Length: 4528, dtype: int64"
      ]
     },
     "execution_count": 11,
     "metadata": {},
     "output_type": "execute_result"
    }
   ],
   "source": [
    "df['director'].value_counts()"
   ]
  },
  {
   "cell_type": "code",
   "execution_count": 12,
   "id": "de49775a-3139-44de-a744-9739c821fb27",
   "metadata": {},
   "outputs": [
    {
     "data": {
      "text/plain": [
       "array(['Kirsten Johnson', nan, 'Julien Leclercq', ..., 'Majid Al Ansari',\n",
       "       'Peter Hewitt', 'Mozez Singh'], dtype=object)"
      ]
     },
     "execution_count": 12,
     "metadata": {},
     "output_type": "execute_result"
    }
   ],
   "source": [
    "df['director'].unique()"
   ]
  },
  {
   "cell_type": "code",
   "execution_count": 13,
   "id": "0ba908a9-d624-4f11-a6e0-b17161b40663",
   "metadata": {},
   "outputs": [
    {
     "data": {
      "text/plain": [
       "6173"
      ]
     },
     "execution_count": 13,
     "metadata": {},
     "output_type": "execute_result"
    }
   ],
   "source": [
    "df['director'].count()"
   ]
  },
  {
   "cell_type": "code",
   "execution_count": 14,
   "id": "bba1e2b8-f73f-453c-9631-386ba50e68cb",
   "metadata": {},
   "outputs": [
    {
     "data": {
      "text/html": [
       "<div>\n",
       "<style scoped>\n",
       "    .dataframe tbody tr th:only-of-type {\n",
       "        vertical-align: middle;\n",
       "    }\n",
       "\n",
       "    .dataframe tbody tr th {\n",
       "        vertical-align: top;\n",
       "    }\n",
       "\n",
       "    .dataframe thead th {\n",
       "        text-align: right;\n",
       "    }\n",
       "</style>\n",
       "<table border=\"1\" class=\"dataframe\">\n",
       "  <thead>\n",
       "    <tr style=\"text-align: right;\">\n",
       "      <th></th>\n",
       "      <th>release_year</th>\n",
       "    </tr>\n",
       "  </thead>\n",
       "  <tbody>\n",
       "    <tr>\n",
       "      <th>count</th>\n",
       "      <td>8807.000000</td>\n",
       "    </tr>\n",
       "    <tr>\n",
       "      <th>mean</th>\n",
       "      <td>2014.180198</td>\n",
       "    </tr>\n",
       "    <tr>\n",
       "      <th>std</th>\n",
       "      <td>8.819312</td>\n",
       "    </tr>\n",
       "    <tr>\n",
       "      <th>min</th>\n",
       "      <td>1925.000000</td>\n",
       "    </tr>\n",
       "    <tr>\n",
       "      <th>25%</th>\n",
       "      <td>2013.000000</td>\n",
       "    </tr>\n",
       "    <tr>\n",
       "      <th>50%</th>\n",
       "      <td>2017.000000</td>\n",
       "    </tr>\n",
       "    <tr>\n",
       "      <th>75%</th>\n",
       "      <td>2019.000000</td>\n",
       "    </tr>\n",
       "    <tr>\n",
       "      <th>max</th>\n",
       "      <td>2021.000000</td>\n",
       "    </tr>\n",
       "  </tbody>\n",
       "</table>\n",
       "</div>"
      ],
      "text/plain": [
       "       release_year\n",
       "count   8807.000000\n",
       "mean    2014.180198\n",
       "std        8.819312\n",
       "min     1925.000000\n",
       "25%     2013.000000\n",
       "50%     2017.000000\n",
       "75%     2019.000000\n",
       "max     2021.000000"
      ]
     },
     "execution_count": 14,
     "metadata": {},
     "output_type": "execute_result"
    }
   ],
   "source": [
    "df.describe()"
   ]
  },
  {
   "cell_type": "code",
   "execution_count": 15,
   "id": "d3f3b369-ec8c-4159-9be4-7c4b97fcb80b",
   "metadata": {},
   "outputs": [
    {
     "data": {
      "text/plain": [
       "(8807, 12)"
      ]
     },
     "execution_count": 15,
     "metadata": {},
     "output_type": "execute_result"
    }
   ],
   "source": [
    "df.shape"
   ]
  },
  {
   "cell_type": "code",
   "execution_count": 16,
   "id": "69354afc-4f0d-4864-ad46-39411662a512",
   "metadata": {},
   "outputs": [
    {
     "data": {
      "text/plain": [
       "show_id            0\n",
       "type               0\n",
       "title              0\n",
       "director        2634\n",
       "cast             825\n",
       "country          831\n",
       "date_added        10\n",
       "release_year       0\n",
       "rating             4\n",
       "duration           3\n",
       "listed_in          0\n",
       "description        0\n",
       "dtype: int64"
      ]
     },
     "execution_count": 16,
     "metadata": {},
     "output_type": "execute_result"
    }
   ],
   "source": [
    "df.isnull().sum()"
   ]
  },
  {
   "cell_type": "code",
   "execution_count": 17,
   "id": "4ebeac94-a3f7-492a-bdd8-9dd30c1cb51d",
   "metadata": {},
   "outputs": [
    {
     "data": {
      "text/plain": [
       "show_id          0.000000\n",
       "type             0.000000\n",
       "title            0.000000\n",
       "director        29.908028\n",
       "cast             9.367549\n",
       "country          9.435676\n",
       "date_added       0.113546\n",
       "release_year     0.000000\n",
       "rating           0.045418\n",
       "duration         0.034064\n",
       "listed_in        0.000000\n",
       "description      0.000000\n",
       "dtype: float64"
      ]
     },
     "execution_count": 17,
     "metadata": {},
     "output_type": "execute_result"
    }
   ],
   "source": [
    "df.isnull().sum()/len(df)*100"
   ]
  },
  {
   "cell_type": "code",
   "execution_count": 18,
   "id": "3b23fbd7-3150-4e75-9748-d2e910808123",
   "metadata": {},
   "outputs": [
    {
     "data": {
      "text/plain": [
       "Index(['show_id', 'type', 'title', 'director', 'cast', 'country', 'date_added',\n",
       "       'release_year', 'rating', 'duration', 'listed_in', 'description'],\n",
       "      dtype='object')"
      ]
     },
     "execution_count": 18,
     "metadata": {},
     "output_type": "execute_result"
    }
   ],
   "source": [
    "df.columns"
   ]
  },
  {
   "cell_type": "code",
   "execution_count": 19,
   "id": "51cdb56b-f3c5-492b-af35-77861a0854cd",
   "metadata": {},
   "outputs": [
    {
     "data": {
      "text/plain": [
       "(8807,)"
      ]
     },
     "execution_count": 19,
     "metadata": {},
     "output_type": "execute_result"
    }
   ],
   "source": [
    "df.director.shape"
   ]
  },
  {
   "cell_type": "code",
   "execution_count": 20,
   "id": "711f74ed-1e0a-4813-b512-54df3efac0e5",
   "metadata": {},
   "outputs": [
    {
     "data": {
      "text/plain": [
       "show_id            0\n",
       "type               0\n",
       "title              0\n",
       "director        2634\n",
       "cast             825\n",
       "country          831\n",
       "date_added        10\n",
       "release_year       0\n",
       "rating             4\n",
       "duration           3\n",
       "listed_in          0\n",
       "description        0\n",
       "dtype: int64"
      ]
     },
     "execution_count": 20,
     "metadata": {},
     "output_type": "execute_result"
    }
   ],
   "source": [
    "df.isnull().sum()"
   ]
  },
  {
   "cell_type": "code",
   "execution_count": 21,
   "id": "dc956ebd-41b5-41e8-bd97-f3dd79fabd3a",
   "metadata": {},
   "outputs": [],
   "source": [
    "df.drop('director', axis = 1, inplace = True)"
   ]
  },
  {
   "cell_type": "code",
   "execution_count": 22,
   "id": "8b5c3653-a264-433b-b1f3-b93bd35a14dd",
   "metadata": {},
   "outputs": [
    {
     "data": {
      "text/plain": [
       "show_id           0\n",
       "type              0\n",
       "title             0\n",
       "cast            825\n",
       "country         831\n",
       "date_added       10\n",
       "release_year      0\n",
       "rating            4\n",
       "duration          3\n",
       "listed_in         0\n",
       "description       0\n",
       "dtype: int64"
      ]
     },
     "execution_count": 22,
     "metadata": {},
     "output_type": "execute_result"
    }
   ],
   "source": [
    "df.isnull().sum()"
   ]
  },
  {
   "cell_type": "code",
   "execution_count": 23,
   "id": "9ce85d39-52a0-46a0-9db9-ee1f9999a1d0",
   "metadata": {},
   "outputs": [
    {
     "data": {
      "text/plain": [
       "Index(['show_id', 'type', 'title', 'cast', 'country', 'date_added',\n",
       "       'release_year', 'rating', 'duration', 'listed_in', 'description'],\n",
       "      dtype='object')"
      ]
     },
     "execution_count": 23,
     "metadata": {},
     "output_type": "execute_result"
    }
   ],
   "source": [
    "df.columns"
   ]
  },
  {
   "cell_type": "code",
   "execution_count": 24,
   "id": "4873aada-1383-46f0-920e-0b8d2a4e59ea",
   "metadata": {},
   "outputs": [
    {
     "data": {
      "text/html": [
       "<div>\n",
       "<style scoped>\n",
       "    .dataframe tbody tr th:only-of-type {\n",
       "        vertical-align: middle;\n",
       "    }\n",
       "\n",
       "    .dataframe tbody tr th {\n",
       "        vertical-align: top;\n",
       "    }\n",
       "\n",
       "    .dataframe thead th {\n",
       "        text-align: right;\n",
       "    }\n",
       "</style>\n",
       "<table border=\"1\" class=\"dataframe\">\n",
       "  <thead>\n",
       "    <tr style=\"text-align: right;\">\n",
       "      <th></th>\n",
       "      <th>show_id</th>\n",
       "      <th>type</th>\n",
       "      <th>title</th>\n",
       "      <th>cast</th>\n",
       "      <th>country</th>\n",
       "      <th>date_added</th>\n",
       "      <th>release_year</th>\n",
       "      <th>rating</th>\n",
       "      <th>duration</th>\n",
       "      <th>listed_in</th>\n",
       "      <th>description</th>\n",
       "    </tr>\n",
       "  </thead>\n",
       "  <tbody>\n",
       "    <tr>\n",
       "      <th>0</th>\n",
       "      <td>s1</td>\n",
       "      <td>Movie</td>\n",
       "      <td>Dick Johnson Is Dead</td>\n",
       "      <td>NaN</td>\n",
       "      <td>United States</td>\n",
       "      <td>September 25, 2021</td>\n",
       "      <td>2020</td>\n",
       "      <td>PG-13</td>\n",
       "      <td>90 min</td>\n",
       "      <td>Documentaries</td>\n",
       "      <td>As her father nears the end of his life, filmm...</td>\n",
       "    </tr>\n",
       "    <tr>\n",
       "      <th>1</th>\n",
       "      <td>s2</td>\n",
       "      <td>TV Show</td>\n",
       "      <td>Blood &amp; Water</td>\n",
       "      <td>Ama Qamata, Khosi Ngema, Gail Mabalane, Thaban...</td>\n",
       "      <td>South Africa</td>\n",
       "      <td>September 24, 2021</td>\n",
       "      <td>2021</td>\n",
       "      <td>TV-MA</td>\n",
       "      <td>2 Seasons</td>\n",
       "      <td>International TV Shows, TV Dramas, TV Mysteries</td>\n",
       "      <td>After crossing paths at a party, a Cape Town t...</td>\n",
       "    </tr>\n",
       "  </tbody>\n",
       "</table>\n",
       "</div>"
      ],
      "text/plain": [
       "  show_id     type                 title  \\\n",
       "0      s1    Movie  Dick Johnson Is Dead   \n",
       "1      s2  TV Show         Blood & Water   \n",
       "\n",
       "                                                cast        country  \\\n",
       "0                                                NaN  United States   \n",
       "1  Ama Qamata, Khosi Ngema, Gail Mabalane, Thaban...   South Africa   \n",
       "\n",
       "           date_added  release_year rating   duration  \\\n",
       "0  September 25, 2021          2020  PG-13     90 min   \n",
       "1  September 24, 2021          2021  TV-MA  2 Seasons   \n",
       "\n",
       "                                         listed_in  \\\n",
       "0                                    Documentaries   \n",
       "1  International TV Shows, TV Dramas, TV Mysteries   \n",
       "\n",
       "                                         description  \n",
       "0  As her father nears the end of his life, filmm...  \n",
       "1  After crossing paths at a party, a Cape Town t...  "
      ]
     },
     "execution_count": 24,
     "metadata": {},
     "output_type": "execute_result"
    }
   ],
   "source": [
    "df.head(2)"
   ]
  },
  {
   "cell_type": "code",
   "execution_count": 25,
   "id": "a2606faa-34bf-41b3-af5a-de058cea9e66",
   "metadata": {},
   "outputs": [
    {
     "data": {
      "text/plain": [
       "show_id           0\n",
       "type              0\n",
       "title             0\n",
       "cast            825\n",
       "country         831\n",
       "date_added       10\n",
       "release_year      0\n",
       "rating            4\n",
       "duration          3\n",
       "listed_in         0\n",
       "description       0\n",
       "dtype: int64"
      ]
     },
     "execution_count": 25,
     "metadata": {},
     "output_type": "execute_result"
    }
   ],
   "source": [
    "df.isnull().sum()"
   ]
  },
  {
   "cell_type": "code",
   "execution_count": 26,
   "id": "44bfd777-e006-4a22-9afb-208f9651e276",
   "metadata": {},
   "outputs": [
    {
     "data": {
      "text/plain": [
       "Index(['show_id', 'type', 'title', 'cast', 'country', 'date_added',\n",
       "       'release_year', 'rating', 'duration', 'listed_in', 'description'],\n",
       "      dtype='object')"
      ]
     },
     "execution_count": 26,
     "metadata": {},
     "output_type": "execute_result"
    }
   ],
   "source": [
    "df.columns"
   ]
  },
  {
   "cell_type": "code",
   "execution_count": 27,
   "id": "1b2e4554-2b91-4156-9a15-357150e14b04",
   "metadata": {},
   "outputs": [
    {
     "data": {
      "text/plain": [
       "TV-MA       3207\n",
       "TV-14       2160\n",
       "TV-PG        863\n",
       "R            799\n",
       "PG-13        490\n",
       "TV-Y7        334\n",
       "TV-Y         307\n",
       "PG           287\n",
       "TV-G         220\n",
       "NR            80\n",
       "G             41\n",
       "TV-Y7-FV       6\n",
       "NC-17          3\n",
       "UR             3\n",
       "74 min         1\n",
       "84 min         1\n",
       "66 min         1\n",
       "Name: rating, dtype: int64"
      ]
     },
     "execution_count": 27,
     "metadata": {},
     "output_type": "execute_result"
    }
   ],
   "source": [
    "df['rating'].value_counts()"
   ]
  },
  {
   "cell_type": "code",
   "execution_count": 28,
   "id": "e1c8eed9-171e-42ff-bcf9-f87972bb59f8",
   "metadata": {},
   "outputs": [
    {
     "data": {
      "text/plain": [
       "8803"
      ]
     },
     "execution_count": 28,
     "metadata": {},
     "output_type": "execute_result"
    }
   ],
   "source": [
    "df['rating'].count()"
   ]
  },
  {
   "cell_type": "code",
   "execution_count": 29,
   "id": "d436cf05-e1a2-4fe4-be99-b0ab73bb2658",
   "metadata": {},
   "outputs": [
    {
     "data": {
      "text/html": [
       "<div>\n",
       "<style scoped>\n",
       "    .dataframe tbody tr th:only-of-type {\n",
       "        vertical-align: middle;\n",
       "    }\n",
       "\n",
       "    .dataframe tbody tr th {\n",
       "        vertical-align: top;\n",
       "    }\n",
       "\n",
       "    .dataframe thead th {\n",
       "        text-align: right;\n",
       "    }\n",
       "</style>\n",
       "<table border=\"1\" class=\"dataframe\">\n",
       "  <thead>\n",
       "    <tr style=\"text-align: right;\">\n",
       "      <th></th>\n",
       "      <th>show_id</th>\n",
       "      <th>type</th>\n",
       "      <th>title</th>\n",
       "      <th>cast</th>\n",
       "      <th>country</th>\n",
       "      <th>date_added</th>\n",
       "      <th>release_year</th>\n",
       "      <th>rating</th>\n",
       "      <th>duration</th>\n",
       "      <th>listed_in</th>\n",
       "      <th>description</th>\n",
       "    </tr>\n",
       "  </thead>\n",
       "  <tbody>\n",
       "    <tr>\n",
       "      <th>0</th>\n",
       "      <td>s1</td>\n",
       "      <td>Movie</td>\n",
       "      <td>Dick Johnson Is Dead</td>\n",
       "      <td>NaN</td>\n",
       "      <td>United States</td>\n",
       "      <td>September 25, 2021</td>\n",
       "      <td>2020</td>\n",
       "      <td>PG-13</td>\n",
       "      <td>90 min</td>\n",
       "      <td>Documentaries</td>\n",
       "      <td>As her father nears the end of his life, filmm...</td>\n",
       "    </tr>\n",
       "    <tr>\n",
       "      <th>1</th>\n",
       "      <td>s2</td>\n",
       "      <td>TV Show</td>\n",
       "      <td>Blood &amp; Water</td>\n",
       "      <td>Ama Qamata, Khosi Ngema, Gail Mabalane, Thaban...</td>\n",
       "      <td>South Africa</td>\n",
       "      <td>September 24, 2021</td>\n",
       "      <td>2021</td>\n",
       "      <td>TV-MA</td>\n",
       "      <td>2 Seasons</td>\n",
       "      <td>International TV Shows, TV Dramas, TV Mysteries</td>\n",
       "      <td>After crossing paths at a party, a Cape Town t...</td>\n",
       "    </tr>\n",
       "  </tbody>\n",
       "</table>\n",
       "</div>"
      ],
      "text/plain": [
       "  show_id     type                 title  \\\n",
       "0      s1    Movie  Dick Johnson Is Dead   \n",
       "1      s2  TV Show         Blood & Water   \n",
       "\n",
       "                                                cast        country  \\\n",
       "0                                                NaN  United States   \n",
       "1  Ama Qamata, Khosi Ngema, Gail Mabalane, Thaban...   South Africa   \n",
       "\n",
       "           date_added  release_year rating   duration  \\\n",
       "0  September 25, 2021          2020  PG-13     90 min   \n",
       "1  September 24, 2021          2021  TV-MA  2 Seasons   \n",
       "\n",
       "                                         listed_in  \\\n",
       "0                                    Documentaries   \n",
       "1  International TV Shows, TV Dramas, TV Mysteries   \n",
       "\n",
       "                                         description  \n",
       "0  As her father nears the end of his life, filmm...  \n",
       "1  After crossing paths at a party, a Cape Town t...  "
      ]
     },
     "execution_count": 29,
     "metadata": {},
     "output_type": "execute_result"
    }
   ],
   "source": [
    "df.head(2)"
   ]
  },
  {
   "cell_type": "code",
   "execution_count": 30,
   "id": "17729804-6052-454e-b91d-27ca234a32a7",
   "metadata": {},
   "outputs": [
    {
     "data": {
      "text/html": [
       "<div>\n",
       "<style scoped>\n",
       "    .dataframe tbody tr th:only-of-type {\n",
       "        vertical-align: middle;\n",
       "    }\n",
       "\n",
       "    .dataframe tbody tr th {\n",
       "        vertical-align: top;\n",
       "    }\n",
       "\n",
       "    .dataframe thead th {\n",
       "        text-align: right;\n",
       "    }\n",
       "</style>\n",
       "<table border=\"1\" class=\"dataframe\">\n",
       "  <thead>\n",
       "    <tr style=\"text-align: right;\">\n",
       "      <th></th>\n",
       "      <th>show_id</th>\n",
       "      <th>type</th>\n",
       "      <th>title</th>\n",
       "      <th>cast</th>\n",
       "      <th>country</th>\n",
       "      <th>date_added</th>\n",
       "      <th>release_year</th>\n",
       "      <th>rating</th>\n",
       "      <th>duration</th>\n",
       "      <th>listed_in</th>\n",
       "      <th>description</th>\n",
       "    </tr>\n",
       "  </thead>\n",
       "  <tbody>\n",
       "    <tr>\n",
       "      <th>7</th>\n",
       "      <td>s8</td>\n",
       "      <td>Movie</td>\n",
       "      <td>Sankofa</td>\n",
       "      <td>Kofi Ghanaba, Oyafunmike Ogunlano, Alexandra D...</td>\n",
       "      <td>United States, Ghana, Burkina Faso, United Kin...</td>\n",
       "      <td>September 24, 2021</td>\n",
       "      <td>1993</td>\n",
       "      <td>TV-MA</td>\n",
       "      <td>125 min</td>\n",
       "      <td>Dramas, Independent Movies, International Movies</td>\n",
       "      <td>On a photo shoot in Ghana, an American model s...</td>\n",
       "    </tr>\n",
       "    <tr>\n",
       "      <th>12</th>\n",
       "      <td>s13</td>\n",
       "      <td>Movie</td>\n",
       "      <td>Je Suis Karl</td>\n",
       "      <td>Luna Wedler, Jannis Niewöhner, Milan Peschel, ...</td>\n",
       "      <td>Germany, Czech Republic</td>\n",
       "      <td>September 23, 2021</td>\n",
       "      <td>2021</td>\n",
       "      <td>TV-MA</td>\n",
       "      <td>127 min</td>\n",
       "      <td>Dramas, International Movies</td>\n",
       "      <td>After most of her family is murdered in a terr...</td>\n",
       "    </tr>\n",
       "    <tr>\n",
       "      <th>16</th>\n",
       "      <td>s17</td>\n",
       "      <td>Movie</td>\n",
       "      <td>Europe's Most Dangerous Man: Otto Skorzeny in ...</td>\n",
       "      <td>NaN</td>\n",
       "      <td>NaN</td>\n",
       "      <td>September 22, 2021</td>\n",
       "      <td>2020</td>\n",
       "      <td>TV-MA</td>\n",
       "      <td>67 min</td>\n",
       "      <td>Documentaries, International Movies</td>\n",
       "      <td>Declassified documents reveal the post-WWII li...</td>\n",
       "    </tr>\n",
       "  </tbody>\n",
       "</table>\n",
       "</div>"
      ],
      "text/plain": [
       "   show_id   type                                              title  \\\n",
       "7       s8  Movie                                            Sankofa   \n",
       "12     s13  Movie                                       Je Suis Karl   \n",
       "16     s17  Movie  Europe's Most Dangerous Man: Otto Skorzeny in ...   \n",
       "\n",
       "                                                 cast  \\\n",
       "7   Kofi Ghanaba, Oyafunmike Ogunlano, Alexandra D...   \n",
       "12  Luna Wedler, Jannis Niewöhner, Milan Peschel, ...   \n",
       "16                                                NaN   \n",
       "\n",
       "                                              country          date_added  \\\n",
       "7   United States, Ghana, Burkina Faso, United Kin...  September 24, 2021   \n",
       "12                            Germany, Czech Republic  September 23, 2021   \n",
       "16                                                NaN  September 22, 2021   \n",
       "\n",
       "    release_year rating duration  \\\n",
       "7           1993  TV-MA  125 min   \n",
       "12          2021  TV-MA  127 min   \n",
       "16          2020  TV-MA   67 min   \n",
       "\n",
       "                                           listed_in  \\\n",
       "7   Dramas, Independent Movies, International Movies   \n",
       "12                      Dramas, International Movies   \n",
       "16               Documentaries, International Movies   \n",
       "\n",
       "                                          description  \n",
       "7   On a photo shoot in Ghana, an American model s...  \n",
       "12  After most of her family is murdered in a terr...  \n",
       "16  Declassified documents reveal the post-WWII li...  "
      ]
     },
     "execution_count": 30,
     "metadata": {},
     "output_type": "execute_result"
    }
   ],
   "source": [
    "df.loc[(df['type']== 'Movie') & (df['rating'] == 'TV-MA'), :].head(3)"
   ]
  },
  {
   "cell_type": "code",
   "execution_count": 31,
   "id": "d3c07c38-a803-476b-9d63-0fc9aad071d1",
   "metadata": {},
   "outputs": [],
   "source": [
    "# plt.bar((df['release_year'] > 2010), height = (df['release_year'].value_counts()))"
   ]
  },
  {
   "cell_type": "code",
   "execution_count": 32,
   "id": "ca36dd2c-ed3d-4a65-ac8c-35e32c99e517",
   "metadata": {},
   "outputs": [
    {
     "data": {
      "text/html": [
       "<div>\n",
       "<style scoped>\n",
       "    .dataframe tbody tr th:only-of-type {\n",
       "        vertical-align: middle;\n",
       "    }\n",
       "\n",
       "    .dataframe tbody tr th {\n",
       "        vertical-align: top;\n",
       "    }\n",
       "\n",
       "    .dataframe thead th {\n",
       "        text-align: right;\n",
       "    }\n",
       "</style>\n",
       "<table border=\"1\" class=\"dataframe\">\n",
       "  <thead>\n",
       "    <tr style=\"text-align: right;\">\n",
       "      <th></th>\n",
       "      <th>show_id</th>\n",
       "      <th>type</th>\n",
       "      <th>title</th>\n",
       "      <th>cast</th>\n",
       "      <th>country</th>\n",
       "      <th>date_added</th>\n",
       "      <th>release_year</th>\n",
       "      <th>rating</th>\n",
       "      <th>duration</th>\n",
       "      <th>listed_in</th>\n",
       "      <th>description</th>\n",
       "    </tr>\n",
       "  </thead>\n",
       "  <tbody>\n",
       "    <tr>\n",
       "      <th>0</th>\n",
       "      <td>s1</td>\n",
       "      <td>Movie</td>\n",
       "      <td>Dick Johnson Is Dead</td>\n",
       "      <td>NaN</td>\n",
       "      <td>United States</td>\n",
       "      <td>September 25, 2021</td>\n",
       "      <td>2020</td>\n",
       "      <td>PG-13</td>\n",
       "      <td>90 min</td>\n",
       "      <td>Documentaries</td>\n",
       "      <td>As her father nears the end of his life, filmm...</td>\n",
       "    </tr>\n",
       "    <tr>\n",
       "      <th>1</th>\n",
       "      <td>s2</td>\n",
       "      <td>TV Show</td>\n",
       "      <td>Blood &amp; Water</td>\n",
       "      <td>Ama Qamata, Khosi Ngema, Gail Mabalane, Thaban...</td>\n",
       "      <td>South Africa</td>\n",
       "      <td>September 24, 2021</td>\n",
       "      <td>2021</td>\n",
       "      <td>TV-MA</td>\n",
       "      <td>2 Seasons</td>\n",
       "      <td>International TV Shows, TV Dramas, TV Mysteries</td>\n",
       "      <td>After crossing paths at a party, a Cape Town t...</td>\n",
       "    </tr>\n",
       "  </tbody>\n",
       "</table>\n",
       "</div>"
      ],
      "text/plain": [
       "  show_id     type                 title  \\\n",
       "0      s1    Movie  Dick Johnson Is Dead   \n",
       "1      s2  TV Show         Blood & Water   \n",
       "\n",
       "                                                cast        country  \\\n",
       "0                                                NaN  United States   \n",
       "1  Ama Qamata, Khosi Ngema, Gail Mabalane, Thaban...   South Africa   \n",
       "\n",
       "           date_added  release_year rating   duration  \\\n",
       "0  September 25, 2021          2020  PG-13     90 min   \n",
       "1  September 24, 2021          2021  TV-MA  2 Seasons   \n",
       "\n",
       "                                         listed_in  \\\n",
       "0                                    Documentaries   \n",
       "1  International TV Shows, TV Dramas, TV Mysteries   \n",
       "\n",
       "                                         description  \n",
       "0  As her father nears the end of his life, filmm...  \n",
       "1  After crossing paths at a party, a Cape Town t...  "
      ]
     },
     "execution_count": 32,
     "metadata": {},
     "output_type": "execute_result"
    }
   ],
   "source": [
    "df.head(2)"
   ]
  },
  {
   "cell_type": "code",
   "execution_count": 33,
   "id": "4882083d-6092-43e0-aec4-8f567dbf4319",
   "metadata": {},
   "outputs": [
    {
     "data": {
      "text/plain": [
       "2018    1147\n",
       "2017    1032\n",
       "2019    1030\n",
       "2020     953\n",
       "2016     902\n",
       "        ... \n",
       "1959       1\n",
       "1925       1\n",
       "1961       1\n",
       "1947       1\n",
       "1966       1\n",
       "Name: release_year, Length: 74, dtype: int64"
      ]
     },
     "execution_count": 33,
     "metadata": {},
     "output_type": "execute_result"
    }
   ],
   "source": [
    "df['release_year'].value_counts()"
   ]
  },
  {
   "cell_type": "code",
   "execution_count": 34,
   "id": "132114fa-b64a-41bc-bc66-c1859afc65b9",
   "metadata": {},
   "outputs": [
    {
     "data": {
      "text/plain": [
       "<AxesSubplot:ylabel='Frequency'>"
      ]
     },
     "execution_count": 34,
     "metadata": {},
     "output_type": "execute_result"
    },
    {
     "data": {
      "image/png": "[encoded data removed]",
      "text/plain": [
       "<Figure size 432x288 with 1 Axes>"
      ]
     },
     "metadata": {
      "needs_background": "light"
     },
     "output_type": "display_data"
    }
   ],
   "source": [
    "df['release_year'].plot(kind = 'hist', bins = 100)"
   ]
  },
  {
   "cell_type": "code",
   "execution_count": 35,
   "id": "ac1454cc-c3ab-412e-82fa-8e92dc13243a",
   "metadata": {},
   "outputs": [
    {
     "data": {
      "text/plain": [
       "<BarContainer object of 8807 artists>"
      ]
     },
     "execution_count": 35,
     "metadata": {},
     "output_type": "execute_result"
    },
    {
     "data": {
      "image/png": "[encoded data removed]",
      "text/plain": [
       "<Figure size 432x288 with 1 Axes>"
      ]
     },
     "metadata": {
      "needs_background": "light"
     },
     "output_type": "display_data"
    }
   ],
   "source": [
    "plt.bar((df['release_year'] > 2010), df['release_year'].values)"
   ]
  },
  {
   "cell_type": "code",
   "execution_count": 79,
   "id": "929545af-d625-47e6-a2e7-8234702e1628",
   "metadata": {},
   "outputs": [],
   "source": [
    "no_of_released_movies = df['release_year'].value_counts()"
   ]
  },
  {
   "cell_type": "code",
   "execution_count": 37,
   "id": "8c0fabc3-e6ba-4e49-9c9a-0cfac0daca18",
   "metadata": {},
   "outputs": [
    {
     "data": {
      "text/plain": [
       "Int64Index([2018, 2017, 2019, 2020, 2016, 2021, 2015, 2014, 2013, 2012, 2010,\n",
       "            2011, 2009, 2008, 2006, 2007, 2005, 2004, 2003, 2002, 2001, 1999,\n",
       "            1997, 2000, 1998, 1993, 1995, 1996, 1992, 1994, 1990, 1988, 1982,\n",
       "            1991, 1989, 1981, 1986, 1984, 1980, 1979, 1983, 1985, 1973, 1976,\n",
       "            1987, 1977, 1974, 1975, 1978, 1972, 1967, 1971, 1960, 1945, 1944,\n",
       "            1955, 1968, 1962, 1943, 1958, 1964, 1969, 1970, 1963, 1956, 1965,\n",
       "            1946, 1942, 1954, 1959, 1925, 1961, 1947, 1966],\n",
       "           dtype='int64')"
      ]
     },
     "execution_count": 37,
     "metadata": {},
     "output_type": "execute_result"
    }
   ],
   "source": [
    "no_of_released_movies.index"
   ]
  },
  {
   "cell_type": "code",
   "execution_count": 38,
   "id": "898b0349-d8d8-4166-bac0-ce7894c8704b",
   "metadata": {},
   "outputs": [
    {
     "data": {
      "text/plain": [
       "array([1147, 1032, 1030,  953,  902,  592,  560,  352,  288,  237,  194,\n",
       "        185,  152,  136,   96,   88,   80,   64,   61,   51,   45,   39,\n",
       "         38,   37,   36,   28,   25,   24,   23,   22,   22,   18,   17,\n",
       "         17,   16,   13,   13,   12,   11,   11,   11,   10,   10,    9,\n",
       "          8,    7,    7,    7,    7,    5,    5,    5,    4,    4,    3,\n",
       "          3,    3,    3,    3,    3,    2,    2,    2,    2,    2,    2,\n",
       "          2,    2,    2,    1,    1,    1,    1,    1], dtype=int64)"
      ]
     },
     "execution_count": 38,
     "metadata": {},
     "output_type": "execute_result"
    }
   ],
   "source": [
    "no_of_released_movies.values"
   ]
  },
  {
   "cell_type": "code",
   "execution_count": null,
   "id": "bb4f1368-7a88-4b61-8914-fa1d5bb5690a",
   "metadata": {},
   "outputs": [],
   "source": []
  },
  {
   "cell_type": "code",
   "execution_count": 39,
   "id": "82876904-8fb2-4105-a4ab-b409d27882b8",
   "metadata": {},
   "outputs": [],
   "source": [
    "released_movies = no_of_released_movies[no_of_released_movies.index > 2010]\n"
   ]
  },
  {
   "cell_type": "code",
   "execution_count": 40,
   "id": "e6d4c934-2bca-4a93-9c4d-192c4c2a700b",
   "metadata": {},
   "outputs": [
    {
     "data": {
      "text/plain": [
       "<BarContainer object of 11 artists>"
      ]
     },
     "execution_count": 40,
     "metadata": {},
     "output_type": "execute_result"
    },
    {
     "data": {
      "image/png": "[encoded data removed]",
      "text/plain": [
       "<Figure size 432x288 with 1 Axes>"
      ]
     },
     "metadata": {
      "needs_background": "light"
     },
     "output_type": "display_data"
    }
   ],
   "source": [
    "plt.bar(released_movies.index, released_movies.values)"
   ]
  },
  {
   "cell_type": "code",
   "execution_count": 41,
   "id": "78346ab0-aabc-4d39-bd3b-d05c660e7d52",
   "metadata": {},
   "outputs": [
    {
     "data": {
      "image/png": "[encoded data removed]",
      "text/plain": [
       "<Figure size 720x504 with 1 Axes>"
      ]
     },
     "metadata": {
      "needs_background": "light"
     },
     "output_type": "display_data"
    }
   ],
   "source": [
    "plt.figure(figsize= (13, 10))\n",
    "df[df['release_year']>2010].release_year.value_counts().plot.bar(figsize = (10,7))\n",
    "plt.xlabel('Release year')\n",
    "plt.ylabel('No of Released Movies')\n",
    "plt.legend()\n",
    "plt.title('Year wise releases')\n",
    "plt.style.use('seaborn')\n"
   ]
  },
  {
   "cell_type": "code",
   "execution_count": 42,
   "id": "6c241ebd-18a7-4577-98d3-60aff74c1c46",
   "metadata": {},
   "outputs": [
    {
     "data": {
      "text/html": [
       "<div>\n",
       "<style scoped>\n",
       "    .dataframe tbody tr th:only-of-type {\n",
       "        vertical-align: middle;\n",
       "    }\n",
       "\n",
       "    .dataframe tbody tr th {\n",
       "        vertical-align: top;\n",
       "    }\n",
       "\n",
       "    .dataframe thead th {\n",
       "        text-align: right;\n",
       "    }\n",
       "</style>\n",
       "<table border=\"1\" class=\"dataframe\">\n",
       "  <thead>\n",
       "    <tr style=\"text-align: right;\">\n",
       "      <th></th>\n",
       "      <th>show_id</th>\n",
       "      <th>type</th>\n",
       "      <th>title</th>\n",
       "      <th>cast</th>\n",
       "      <th>country</th>\n",
       "      <th>date_added</th>\n",
       "      <th>release_year</th>\n",
       "      <th>rating</th>\n",
       "      <th>duration</th>\n",
       "      <th>listed_in</th>\n",
       "      <th>description</th>\n",
       "    </tr>\n",
       "  </thead>\n",
       "  <tbody>\n",
       "    <tr>\n",
       "      <th>0</th>\n",
       "      <td>s1</td>\n",
       "      <td>Movie</td>\n",
       "      <td>Dick Johnson Is Dead</td>\n",
       "      <td>NaN</td>\n",
       "      <td>United States</td>\n",
       "      <td>September 25, 2021</td>\n",
       "      <td>2020</td>\n",
       "      <td>PG-13</td>\n",
       "      <td>90 min</td>\n",
       "      <td>Documentaries</td>\n",
       "      <td>As her father nears the end of his life, filmm...</td>\n",
       "    </tr>\n",
       "    <tr>\n",
       "      <th>1</th>\n",
       "      <td>s2</td>\n",
       "      <td>TV Show</td>\n",
       "      <td>Blood &amp; Water</td>\n",
       "      <td>Ama Qamata, Khosi Ngema, Gail Mabalane, Thaban...</td>\n",
       "      <td>South Africa</td>\n",
       "      <td>September 24, 2021</td>\n",
       "      <td>2021</td>\n",
       "      <td>TV-MA</td>\n",
       "      <td>2 Seasons</td>\n",
       "      <td>International TV Shows, TV Dramas, TV Mysteries</td>\n",
       "      <td>After crossing paths at a party, a Cape Town t...</td>\n",
       "    </tr>\n",
       "  </tbody>\n",
       "</table>\n",
       "</div>"
      ],
      "text/plain": [
       "  show_id     type                 title  \\\n",
       "0      s1    Movie  Dick Johnson Is Dead   \n",
       "1      s2  TV Show         Blood & Water   \n",
       "\n",
       "                                                cast        country  \\\n",
       "0                                                NaN  United States   \n",
       "1  Ama Qamata, Khosi Ngema, Gail Mabalane, Thaban...   South Africa   \n",
       "\n",
       "           date_added  release_year rating   duration  \\\n",
       "0  September 25, 2021          2020  PG-13     90 min   \n",
       "1  September 24, 2021          2021  TV-MA  2 Seasons   \n",
       "\n",
       "                                         listed_in  \\\n",
       "0                                    Documentaries   \n",
       "1  International TV Shows, TV Dramas, TV Mysteries   \n",
       "\n",
       "                                         description  \n",
       "0  As her father nears the end of his life, filmm...  \n",
       "1  After crossing paths at a party, a Cape Town t...  "
      ]
     },
     "execution_count": 42,
     "metadata": {},
     "output_type": "execute_result"
    }
   ],
   "source": [
    "df.head(2)"
   ]
  },
  {
   "cell_type": "code",
   "execution_count": null,
   "id": "b0474b49-49a7-4547-942e-382bc83342e0",
   "metadata": {
    "tags": []
   },
   "outputs": [],
   "source": []
  },
  {
   "cell_type": "code",
   "execution_count": 43,
   "id": "16d2dfd5-f0fb-4694-b59f-5862bc071ffd",
   "metadata": {},
   "outputs": [],
   "source": [
    "# plt.bar((df['release_year']>2010), height = (df['release_year'].value_counts()))"
   ]
  },
  {
   "cell_type": "code",
   "execution_count": 44,
   "id": "d06979cc-3f58-42b8-8bc9-4856d2a2eba8",
   "metadata": {},
   "outputs": [
    {
     "data": {
      "text/plain": [
       "Index(['show_id', 'type', 'title', 'cast', 'country', 'date_added',\n",
       "       'release_year', 'rating', 'duration', 'listed_in', 'description'],\n",
       "      dtype='object')"
      ]
     },
     "execution_count": 44,
     "metadata": {},
     "output_type": "execute_result"
    }
   ],
   "source": [
    "df.columns"
   ]
  },
  {
   "cell_type": "code",
   "execution_count": 45,
   "id": "69002ea9-dec6-4699-b341-feb83fbce26c",
   "metadata": {},
   "outputs": [
    {
     "data": {
      "text/html": [
       "<div>\n",
       "<style scoped>\n",
       "    .dataframe tbody tr th:only-of-type {\n",
       "        vertical-align: middle;\n",
       "    }\n",
       "\n",
       "    .dataframe tbody tr th {\n",
       "        vertical-align: top;\n",
       "    }\n",
       "\n",
       "    .dataframe thead th {\n",
       "        text-align: right;\n",
       "    }\n",
       "</style>\n",
       "<table border=\"1\" class=\"dataframe\">\n",
       "  <thead>\n",
       "    <tr style=\"text-align: right;\">\n",
       "      <th></th>\n",
       "      <th>show_id</th>\n",
       "      <th>type</th>\n",
       "      <th>title</th>\n",
       "      <th>cast</th>\n",
       "      <th>country</th>\n",
       "      <th>date_added</th>\n",
       "      <th>release_year</th>\n",
       "      <th>rating</th>\n",
       "      <th>duration</th>\n",
       "      <th>listed_in</th>\n",
       "      <th>description</th>\n",
       "    </tr>\n",
       "  </thead>\n",
       "  <tbody>\n",
       "    <tr>\n",
       "      <th>0</th>\n",
       "      <td>s1</td>\n",
       "      <td>Movie</td>\n",
       "      <td>Dick Johnson Is Dead</td>\n",
       "      <td>NaN</td>\n",
       "      <td>United States</td>\n",
       "      <td>September 25, 2021</td>\n",
       "      <td>2020</td>\n",
       "      <td>PG-13</td>\n",
       "      <td>90 min</td>\n",
       "      <td>Documentaries</td>\n",
       "      <td>As her father nears the end of his life, filmm...</td>\n",
       "    </tr>\n",
       "    <tr>\n",
       "      <th>1</th>\n",
       "      <td>s2</td>\n",
       "      <td>TV Show</td>\n",
       "      <td>Blood &amp; Water</td>\n",
       "      <td>Ama Qamata, Khosi Ngema, Gail Mabalane, Thaban...</td>\n",
       "      <td>South Africa</td>\n",
       "      <td>September 24, 2021</td>\n",
       "      <td>2021</td>\n",
       "      <td>TV-MA</td>\n",
       "      <td>2 Seasons</td>\n",
       "      <td>International TV Shows, TV Dramas, TV Mysteries</td>\n",
       "      <td>After crossing paths at a party, a Cape Town t...</td>\n",
       "    </tr>\n",
       "  </tbody>\n",
       "</table>\n",
       "</div>"
      ],
      "text/plain": [
       "  show_id     type                 title  \\\n",
       "0      s1    Movie  Dick Johnson Is Dead   \n",
       "1      s2  TV Show         Blood & Water   \n",
       "\n",
       "                                                cast        country  \\\n",
       "0                                                NaN  United States   \n",
       "1  Ama Qamata, Khosi Ngema, Gail Mabalane, Thaban...   South Africa   \n",
       "\n",
       "           date_added  release_year rating   duration  \\\n",
       "0  September 25, 2021          2020  PG-13     90 min   \n",
       "1  September 24, 2021          2021  TV-MA  2 Seasons   \n",
       "\n",
       "                                         listed_in  \\\n",
       "0                                    Documentaries   \n",
       "1  International TV Shows, TV Dramas, TV Mysteries   \n",
       "\n",
       "                                         description  \n",
       "0  As her father nears the end of his life, filmm...  \n",
       "1  After crossing paths at a party, a Cape Town t...  "
      ]
     },
     "execution_count": 45,
     "metadata": {},
     "output_type": "execute_result"
    }
   ],
   "source": [
    "df.head(2)"
   ]
  },
  {
   "cell_type": "code",
   "execution_count": 46,
   "id": "90d6451f-31f9-4c52-ae28-57e690465f6a",
   "metadata": {},
   "outputs": [
    {
     "data": {
      "text/plain": [
       "United States                             2818\n",
       "India                                      972\n",
       "United Kingdom                             419\n",
       "Japan                                      245\n",
       "South Korea                                199\n",
       "                                          ... \n",
       "Romania, Bulgaria, Hungary                   1\n",
       "Uruguay, Guatemala                           1\n",
       "France, Senegal, Belgium                     1\n",
       "Mexico, United States, Spain, Colombia       1\n",
       "United Arab Emirates, Jordan                 1\n",
       "Name: country, Length: 748, dtype: int64"
      ]
     },
     "execution_count": 46,
     "metadata": {},
     "output_type": "execute_result"
    }
   ],
   "source": [
    "df['country'].value_counts()"
   ]
  },
  {
   "cell_type": "markdown",
   "id": "0466afd6-1a68-4a0e-85e2-b76181174ecf",
   "metadata": {},
   "source": [
    "## Exploring movies v/s Shows"
   ]
  },
  {
   "cell_type": "code",
   "execution_count": 47,
   "id": "312484a3-3b33-4aaa-89fe-774344672e07",
   "metadata": {},
   "outputs": [],
   "source": [
    "df_type = df['type'].value_counts()"
   ]
  },
  {
   "cell_type": "code",
   "execution_count": 48,
   "id": "e86c5b1b-44d7-4559-9818-a7ac3b432a20",
   "metadata": {},
   "outputs": [
    {
     "data": {
      "text/plain": [
       "Movie      6131\n",
       "TV Show    2676\n",
       "Name: type, dtype: int64"
      ]
     },
     "execution_count": 48,
     "metadata": {},
     "output_type": "execute_result"
    }
   ],
   "source": [
    "df_type"
   ]
  },
  {
   "cell_type": "code",
   "execution_count": 49,
   "id": "8dd1afc5-396e-4f5f-ab13-1452c1240bf5",
   "metadata": {},
   "outputs": [
    {
     "data": {
      "text/plain": [
       "<matplotlib.legend.Legend at 0x1eb8a055ea0>"
      ]
     },
     "execution_count": 49,
     "metadata": {},
     "output_type": "execute_result"
    },
    {
     "data": {
      "image/png": "[encoded data removed]",
      "text/plain": [
       "<Figure size 576x396 with 1 Axes>"
      ]
     },
     "metadata": {},
     "output_type": "display_data"
    }
   ],
   "source": [
    "plt.pie(df_type, labels = df_type.index, autopct = '%1.1f%%', explode = [0.1, 0]);\n",
    "plt.ylabel('Types')\n",
    "plt.title('Movies & Tv shows')\n",
    "plt.legend()\n",
    "# plt.colorbar()\n",
    "# plt.imshow()"
   ]
  },
  {
   "cell_type": "code",
   "execution_count": 50,
   "id": "80e2f2c0-678c-4516-8f46-b24a4256a1e9",
   "metadata": {},
   "outputs": [
    {
     "data": {
      "text/html": [
       "<div>\n",
       "<style scoped>\n",
       "    .dataframe tbody tr th:only-of-type {\n",
       "        vertical-align: middle;\n",
       "    }\n",
       "\n",
       "    .dataframe tbody tr th {\n",
       "        vertical-align: top;\n",
       "    }\n",
       "\n",
       "    .dataframe thead th {\n",
       "        text-align: right;\n",
       "    }\n",
       "</style>\n",
       "<table border=\"1\" class=\"dataframe\">\n",
       "  <thead>\n",
       "    <tr style=\"text-align: right;\">\n",
       "      <th></th>\n",
       "      <th>show_id</th>\n",
       "      <th>type</th>\n",
       "      <th>title</th>\n",
       "      <th>cast</th>\n",
       "      <th>country</th>\n",
       "      <th>date_added</th>\n",
       "      <th>release_year</th>\n",
       "      <th>rating</th>\n",
       "      <th>duration</th>\n",
       "      <th>listed_in</th>\n",
       "      <th>description</th>\n",
       "    </tr>\n",
       "  </thead>\n",
       "  <tbody>\n",
       "    <tr>\n",
       "      <th>0</th>\n",
       "      <td>s1</td>\n",
       "      <td>Movie</td>\n",
       "      <td>Dick Johnson Is Dead</td>\n",
       "      <td>NaN</td>\n",
       "      <td>United States</td>\n",
       "      <td>September 25, 2021</td>\n",
       "      <td>2020</td>\n",
       "      <td>PG-13</td>\n",
       "      <td>90 min</td>\n",
       "      <td>Documentaries</td>\n",
       "      <td>As her father nears the end of his life, filmm...</td>\n",
       "    </tr>\n",
       "    <tr>\n",
       "      <th>1</th>\n",
       "      <td>s2</td>\n",
       "      <td>TV Show</td>\n",
       "      <td>Blood &amp; Water</td>\n",
       "      <td>Ama Qamata, Khosi Ngema, Gail Mabalane, Thaban...</td>\n",
       "      <td>South Africa</td>\n",
       "      <td>September 24, 2021</td>\n",
       "      <td>2021</td>\n",
       "      <td>TV-MA</td>\n",
       "      <td>2 Seasons</td>\n",
       "      <td>International TV Shows, TV Dramas, TV Mysteries</td>\n",
       "      <td>After crossing paths at a party, a Cape Town t...</td>\n",
       "    </tr>\n",
       "  </tbody>\n",
       "</table>\n",
       "</div>"
      ],
      "text/plain": [
       "  show_id     type                 title  \\\n",
       "0      s1    Movie  Dick Johnson Is Dead   \n",
       "1      s2  TV Show         Blood & Water   \n",
       "\n",
       "                                                cast        country  \\\n",
       "0                                                NaN  United States   \n",
       "1  Ama Qamata, Khosi Ngema, Gail Mabalane, Thaban...   South Africa   \n",
       "\n",
       "           date_added  release_year rating   duration  \\\n",
       "0  September 25, 2021          2020  PG-13     90 min   \n",
       "1  September 24, 2021          2021  TV-MA  2 Seasons   \n",
       "\n",
       "                                         listed_in  \\\n",
       "0                                    Documentaries   \n",
       "1  International TV Shows, TV Dramas, TV Mysteries   \n",
       "\n",
       "                                         description  \n",
       "0  As her father nears the end of his life, filmm...  \n",
       "1  After crossing paths at a party, a Cape Town t...  "
      ]
     },
     "execution_count": 50,
     "metadata": {},
     "output_type": "execute_result"
    }
   ],
   "source": [
    "df.head(2)"
   ]
  },
  {
   "cell_type": "markdown",
   "id": "de1ef21a-2ff9-4c52-8afc-4dc6e14149cd",
   "metadata": {},
   "source": [
    "# content distribution based on ratings"
   ]
  },
  {
   "cell_type": "code",
   "execution_count": 51,
   "id": "1f2d06f4-f30e-44b5-96d2-365aaa3b3144",
   "metadata": {},
   "outputs": [
    {
     "data": {
      "text/plain": [
       "TV-MA       3207\n",
       "TV-14       2160\n",
       "TV-PG        863\n",
       "R            799\n",
       "PG-13        490\n",
       "TV-Y7        334\n",
       "TV-Y         307\n",
       "PG           287\n",
       "TV-G         220\n",
       "NR            80\n",
       "G             41\n",
       "TV-Y7-FV       6\n",
       "NC-17          3\n",
       "UR             3\n",
       "74 min         1\n",
       "84 min         1\n",
       "66 min         1\n",
       "Name: rating, dtype: int64"
      ]
     },
     "execution_count": 51,
     "metadata": {},
     "output_type": "execute_result"
    }
   ],
   "source": [
    "df['rating'].value_counts()"
   ]
  },
  {
   "cell_type": "code",
   "execution_count": 52,
   "id": "21f043a4-cf70-4180-b8d0-a106f2068e74",
   "metadata": {},
   "outputs": [
    {
     "data": {
      "text/plain": [
       "array([3207, 2160,  863,  799,  490,  334,  307,  287,  220,   80,   41,\n",
       "          6,    3,    1], dtype=int64)"
      ]
     },
     "execution_count": 52,
     "metadata": {},
     "output_type": "execute_result"
    }
   ],
   "source": [
    "df['rating'].value_counts().unique()"
   ]
  },
  {
   "cell_type": "code",
   "execution_count": 53,
   "id": "59ba8218-bf0d-4b66-a48b-6ca0b408dbd0",
   "metadata": {},
   "outputs": [
    {
     "data": {
      "text/plain": [
       "Index(['TV-MA', 'TV-14', 'TV-PG', 'R', 'PG-13', 'TV-Y7', 'TV-Y', 'PG', 'TV-G',\n",
       "       'NR', 'G', 'TV-Y7-FV', 'NC-17', 'UR', '74 min', '84 min', '66 min'],\n",
       "      dtype='object')"
      ]
     },
     "execution_count": 53,
     "metadata": {},
     "output_type": "execute_result"
    }
   ],
   "source": [
    "df['rating'].value_counts().index"
   ]
  },
  {
   "cell_type": "code",
   "execution_count": 54,
   "id": "88d281c7-a4cb-4721-a520-574d0ddbb5ba",
   "metadata": {},
   "outputs": [],
   "source": [
    "df_rating = df['rating'].value_counts()"
   ]
  },
  {
   "cell_type": "code",
   "execution_count": 77,
   "id": "3e250f18-b4b8-4499-8ef6-8b85d71fea21",
   "metadata": {
    "tags": []
   },
   "outputs": [
    {
     "data": {
      "text/plain": [
       "TV-MA       3207\n",
       "TV-14       2160\n",
       "TV-PG        863\n",
       "R            799\n",
       "PG-13        490\n",
       "TV-Y7        334\n",
       "TV-Y         307\n",
       "PG           287\n",
       "TV-G         220\n",
       "NR            80\n",
       "G             41\n",
       "TV-Y7-FV       6\n",
       "NC-17          3\n",
       "UR             3\n",
       "74 min         1\n",
       "84 min         1\n",
       "66 min         1\n",
       "Name: rating, dtype: int64"
      ]
     },
     "execution_count": 77,
     "metadata": {},
     "output_type": "execute_result"
    }
   ],
   "source": [
    "df_rating"
   ]
  },
  {
   "cell_type": "code",
   "execution_count": 56,
   "id": "a23fc468-f7d7-4d68-b98f-951c7edabd45",
   "metadata": {},
   "outputs": [
    {
     "data": {
      "text/plain": [
       "Text(0.5, 1.0, 'Ratings wise counts')"
      ]
     },
     "execution_count": 56,
     "metadata": {},
     "output_type": "execute_result"
    },
    {
     "data": {
      "image/png": "[encoded data removed]",
      "text/plain": [
       "<Figure size 1080x504 with 1 Axes>"
      ]
     },
     "metadata": {},
     "output_type": "display_data"
    }
   ],
   "source": [
    "plt.figure(figsize = (15, 7))\n",
    "sns.countplot(x = df['rating'], order = df['rating'].value_counts().index)\n",
    "plt.xlabel('Ratings')\n",
    "plt.ylabel('NO.of Movies')\n",
    "plt.title('Ratings wise counts')\n"
   ]
  },
  {
   "cell_type": "code",
   "execution_count": 57,
   "id": "b36929e1-ee8b-4cae-9ded-64cca31ee633",
   "metadata": {},
   "outputs": [
    {
     "data": {
      "text/plain": [
       "0       PG-13\n",
       "1       TV-MA\n",
       "2       TV-MA\n",
       "3       TV-MA\n",
       "4       TV-MA\n",
       "        ...  \n",
       "8802        R\n",
       "8803    TV-Y7\n",
       "8804        R\n",
       "8805       PG\n",
       "8806    TV-14\n",
       "Name: rating, Length: 8807, dtype: object"
      ]
     },
     "execution_count": 57,
     "metadata": {},
     "output_type": "execute_result"
    }
   ],
   "source": [
    "df['rating']"
   ]
  },
  {
   "cell_type": "code",
   "execution_count": 58,
   "id": "cbc5f218-2e9c-4d8b-9467-76d5b8a6b335",
   "metadata": {},
   "outputs": [
    {
     "data": {
      "text/html": [
       "<div>\n",
       "<style scoped>\n",
       "    .dataframe tbody tr th:only-of-type {\n",
       "        vertical-align: middle;\n",
       "    }\n",
       "\n",
       "    .dataframe tbody tr th {\n",
       "        vertical-align: top;\n",
       "    }\n",
       "\n",
       "    .dataframe thead th {\n",
       "        text-align: right;\n",
       "    }\n",
       "</style>\n",
       "<table border=\"1\" class=\"dataframe\">\n",
       "  <thead>\n",
       "    <tr style=\"text-align: right;\">\n",
       "      <th></th>\n",
       "      <th>show_id</th>\n",
       "      <th>type</th>\n",
       "      <th>title</th>\n",
       "      <th>cast</th>\n",
       "      <th>country</th>\n",
       "      <th>date_added</th>\n",
       "      <th>release_year</th>\n",
       "      <th>rating</th>\n",
       "      <th>duration</th>\n",
       "      <th>listed_in</th>\n",
       "      <th>description</th>\n",
       "    </tr>\n",
       "  </thead>\n",
       "  <tbody>\n",
       "    <tr>\n",
       "      <th>0</th>\n",
       "      <td>s1</td>\n",
       "      <td>Movie</td>\n",
       "      <td>Dick Johnson Is Dead</td>\n",
       "      <td>NaN</td>\n",
       "      <td>United States</td>\n",
       "      <td>September 25, 2021</td>\n",
       "      <td>2020</td>\n",
       "      <td>PG-13</td>\n",
       "      <td>90 min</td>\n",
       "      <td>Documentaries</td>\n",
       "      <td>As her father nears the end of his life, filmm...</td>\n",
       "    </tr>\n",
       "    <tr>\n",
       "      <th>1</th>\n",
       "      <td>s2</td>\n",
       "      <td>TV Show</td>\n",
       "      <td>Blood &amp; Water</td>\n",
       "      <td>Ama Qamata, Khosi Ngema, Gail Mabalane, Thaban...</td>\n",
       "      <td>South Africa</td>\n",
       "      <td>September 24, 2021</td>\n",
       "      <td>2021</td>\n",
       "      <td>TV-MA</td>\n",
       "      <td>2 Seasons</td>\n",
       "      <td>International TV Shows, TV Dramas, TV Mysteries</td>\n",
       "      <td>After crossing paths at a party, a Cape Town t...</td>\n",
       "    </tr>\n",
       "  </tbody>\n",
       "</table>\n",
       "</div>"
      ],
      "text/plain": [
       "  show_id     type                 title  \\\n",
       "0      s1    Movie  Dick Johnson Is Dead   \n",
       "1      s2  TV Show         Blood & Water   \n",
       "\n",
       "                                                cast        country  \\\n",
       "0                                                NaN  United States   \n",
       "1  Ama Qamata, Khosi Ngema, Gail Mabalane, Thaban...   South Africa   \n",
       "\n",
       "           date_added  release_year rating   duration  \\\n",
       "0  September 25, 2021          2020  PG-13     90 min   \n",
       "1  September 24, 2021          2021  TV-MA  2 Seasons   \n",
       "\n",
       "                                         listed_in  \\\n",
       "0                                    Documentaries   \n",
       "1  International TV Shows, TV Dramas, TV Mysteries   \n",
       "\n",
       "                                         description  \n",
       "0  As her father nears the end of his life, filmm...  \n",
       "1  After crossing paths at a party, a Cape Town t...  "
      ]
     },
     "execution_count": 58,
     "metadata": {},
     "output_type": "execute_result"
    }
   ],
   "source": [
    "df.head(2)"
   ]
  },
  {
   "cell_type": "code",
   "execution_count": 59,
   "id": "7789ecbc-75b5-42a8-b47f-de5620fd1b1c",
   "metadata": {},
   "outputs": [
    {
     "data": {
      "text/plain": [
       "United States                             2818\n",
       "India                                      972\n",
       "United Kingdom                             419\n",
       "Japan                                      245\n",
       "South Korea                                199\n",
       "                                          ... \n",
       "Romania, Bulgaria, Hungary                   1\n",
       "Uruguay, Guatemala                           1\n",
       "France, Senegal, Belgium                     1\n",
       "Mexico, United States, Spain, Colombia       1\n",
       "United Arab Emirates, Jordan                 1\n",
       "Name: country, Length: 748, dtype: int64"
      ]
     },
     "execution_count": 59,
     "metadata": {},
     "output_type": "execute_result"
    }
   ],
   "source": [
    "df['country'].value_counts()"
   ]
  },
  {
   "cell_type": "code",
   "execution_count": null,
   "id": "67ecc3fa-46bc-4fd3-a84d-d4de0bc072f8",
   "metadata": {},
   "outputs": [],
   "source": []
  },
  {
   "cell_type": "code",
   "execution_count": 60,
   "id": "ec5c92f4-aecf-4da2-9ca4-d73fa205222c",
   "metadata": {
    "tags": []
   },
   "outputs": [
    {
     "data": {
      "text/html": [
       "<div>\n",
       "<style scoped>\n",
       "    .dataframe tbody tr th:only-of-type {\n",
       "        vertical-align: middle;\n",
       "    }\n",
       "\n",
       "    .dataframe tbody tr th {\n",
       "        vertical-align: top;\n",
       "    }\n",
       "\n",
       "    .dataframe thead th {\n",
       "        text-align: right;\n",
       "    }\n",
       "</style>\n",
       "<table border=\"1\" class=\"dataframe\">\n",
       "  <thead>\n",
       "    <tr style=\"text-align: right;\">\n",
       "      <th></th>\n",
       "      <th>show_id</th>\n",
       "      <th>type</th>\n",
       "      <th>title</th>\n",
       "      <th>cast</th>\n",
       "      <th>country</th>\n",
       "      <th>date_added</th>\n",
       "      <th>release_year</th>\n",
       "      <th>rating</th>\n",
       "      <th>duration</th>\n",
       "      <th>listed_in</th>\n",
       "      <th>description</th>\n",
       "    </tr>\n",
       "  </thead>\n",
       "  <tbody>\n",
       "    <tr>\n",
       "      <th>0</th>\n",
       "      <td>s1</td>\n",
       "      <td>Movie</td>\n",
       "      <td>Dick Johnson Is Dead</td>\n",
       "      <td>NaN</td>\n",
       "      <td>United States</td>\n",
       "      <td>September 25, 2021</td>\n",
       "      <td>2020</td>\n",
       "      <td>PG-13</td>\n",
       "      <td>90 min</td>\n",
       "      <td>Documentaries</td>\n",
       "      <td>As her father nears the end of his life, filmm...</td>\n",
       "    </tr>\n",
       "    <tr>\n",
       "      <th>9</th>\n",
       "      <td>s10</td>\n",
       "      <td>Movie</td>\n",
       "      <td>The Starling</td>\n",
       "      <td>Melissa McCarthy, Chris O'Dowd, Kevin Kline, T...</td>\n",
       "      <td>United States</td>\n",
       "      <td>September 24, 2021</td>\n",
       "      <td>2021</td>\n",
       "      <td>PG-13</td>\n",
       "      <td>104 min</td>\n",
       "      <td>Comedies, Dramas</td>\n",
       "      <td>A woman adjusting to life after a loss contend...</td>\n",
       "    </tr>\n",
       "    <tr>\n",
       "      <th>27</th>\n",
       "      <td>s28</td>\n",
       "      <td>Movie</td>\n",
       "      <td>Grown Ups</td>\n",
       "      <td>Adam Sandler, Kevin James, Chris Rock, David S...</td>\n",
       "      <td>United States</td>\n",
       "      <td>September 20, 2021</td>\n",
       "      <td>2010</td>\n",
       "      <td>PG-13</td>\n",
       "      <td>103 min</td>\n",
       "      <td>Comedies</td>\n",
       "      <td>Mourning the loss of their beloved junior high...</td>\n",
       "    </tr>\n",
       "    <tr>\n",
       "      <th>28</th>\n",
       "      <td>s29</td>\n",
       "      <td>Movie</td>\n",
       "      <td>Dark Skies</td>\n",
       "      <td>Keri Russell, Josh Hamilton, J.K. Simmons, Dak...</td>\n",
       "      <td>United States</td>\n",
       "      <td>September 19, 2021</td>\n",
       "      <td>2013</td>\n",
       "      <td>PG-13</td>\n",
       "      <td>97 min</td>\n",
       "      <td>Horror Movies, Sci-Fi &amp; Fantasy</td>\n",
       "      <td>A family’s idyllic suburban life shatters when...</td>\n",
       "    </tr>\n",
       "    <tr>\n",
       "      <th>41</th>\n",
       "      <td>s42</td>\n",
       "      <td>Movie</td>\n",
       "      <td>Jaws</td>\n",
       "      <td>Roy Scheider, Robert Shaw, Richard Dreyfuss, L...</td>\n",
       "      <td>United States</td>\n",
       "      <td>September 16, 2021</td>\n",
       "      <td>1975</td>\n",
       "      <td>PG</td>\n",
       "      <td>124 min</td>\n",
       "      <td>Action &amp; Adventure, Classic Movies, Dramas</td>\n",
       "      <td>When an insatiable great white shark terrorize...</td>\n",
       "    </tr>\n",
       "  </tbody>\n",
       "</table>\n",
       "</div>"
      ],
      "text/plain": [
       "   show_id   type                 title  \\\n",
       "0       s1  Movie  Dick Johnson Is Dead   \n",
       "9      s10  Movie          The Starling   \n",
       "27     s28  Movie             Grown Ups   \n",
       "28     s29  Movie            Dark Skies   \n",
       "41     s42  Movie                  Jaws   \n",
       "\n",
       "                                                 cast        country  \\\n",
       "0                                                 NaN  United States   \n",
       "9   Melissa McCarthy, Chris O'Dowd, Kevin Kline, T...  United States   \n",
       "27  Adam Sandler, Kevin James, Chris Rock, David S...  United States   \n",
       "28  Keri Russell, Josh Hamilton, J.K. Simmons, Dak...  United States   \n",
       "41  Roy Scheider, Robert Shaw, Richard Dreyfuss, L...  United States   \n",
       "\n",
       "            date_added  release_year rating duration  \\\n",
       "0   September 25, 2021          2020  PG-13   90 min   \n",
       "9   September 24, 2021          2021  PG-13  104 min   \n",
       "27  September 20, 2021          2010  PG-13  103 min   \n",
       "28  September 19, 2021          2013  PG-13   97 min   \n",
       "41  September 16, 2021          1975     PG  124 min   \n",
       "\n",
       "                                     listed_in  \\\n",
       "0                                Documentaries   \n",
       "9                             Comedies, Dramas   \n",
       "27                                    Comedies   \n",
       "28             Horror Movies, Sci-Fi & Fantasy   \n",
       "41  Action & Adventure, Classic Movies, Dramas   \n",
       "\n",
       "                                          description  \n",
       "0   As her father nears the end of his life, filmm...  \n",
       "9   A woman adjusting to life after a loss contend...  \n",
       "27  Mourning the loss of their beloved junior high...  \n",
       "28  A family’s idyllic suburban life shatters when...  \n",
       "41  When an insatiable great white shark terrorize...  "
      ]
     },
     "execution_count": 60,
     "metadata": {},
     "output_type": "execute_result"
    }
   ],
   "source": [
    "df.loc[(df['type']== 'Movie') & (df['country']== 'United States'), :].head(5)"
   ]
  },
  {
   "cell_type": "markdown",
   "id": "bb5de4ae-3343-44a9-bb2d-3f75da5dbee0",
   "metadata": {},
   "source": [
    "# TOP FIVE COUNTRIES WITH RATINGS"
   ]
  },
  {
   "cell_type": "code",
   "execution_count": 61,
   "id": "b22f02f1-b914-40be-922e-6ade19aaea08",
   "metadata": {},
   "outputs": [
    {
     "data": {
      "text/plain": [
       "<AxesSubplot:xlabel='rating', ylabel='country'>"
      ]
     },
     "execution_count": 61,
     "metadata": {},
     "output_type": "execute_result"
    },
    {
     "data": {
      "image/png": "[encoded data removed]",
      "text/plain": [
       "<Figure size 1440x360 with 1 Axes>"
      ]
     },
     "metadata": {},
     "output_type": "display_data"
    }
   ],
   "source": [
    "plt.figure(figsize= (20, 5))\n",
    "sns.histplot(y = 'country', x = 'rating', data  = df[df['country'].isin(['United States', 'India', 'United Kingdom','Japan','South Korea'])])"
   ]
  },
  {
   "cell_type": "markdown",
   "id": "6a77321b-b009-4697-8802-df146a88223a",
   "metadata": {},
   "source": [
    "# Top 10 oldest movies"
   ]
  },
  {
   "cell_type": "code",
   "execution_count": 62,
   "id": "7896d726-5a7c-47c0-975f-ef125911994f",
   "metadata": {},
   "outputs": [
    {
     "data": {
      "text/html": [
       "<div>\n",
       "<style scoped>\n",
       "    .dataframe tbody tr th:only-of-type {\n",
       "        vertical-align: middle;\n",
       "    }\n",
       "\n",
       "    .dataframe tbody tr th {\n",
       "        vertical-align: top;\n",
       "    }\n",
       "\n",
       "    .dataframe thead th {\n",
       "        text-align: right;\n",
       "    }\n",
       "</style>\n",
       "<table border=\"1\" class=\"dataframe\">\n",
       "  <thead>\n",
       "    <tr style=\"text-align: right;\">\n",
       "      <th></th>\n",
       "      <th>show_id</th>\n",
       "      <th>type</th>\n",
       "      <th>title</th>\n",
       "      <th>cast</th>\n",
       "      <th>country</th>\n",
       "      <th>date_added</th>\n",
       "      <th>release_year</th>\n",
       "      <th>rating</th>\n",
       "      <th>duration</th>\n",
       "      <th>listed_in</th>\n",
       "      <th>description</th>\n",
       "    </tr>\n",
       "  </thead>\n",
       "  <tbody>\n",
       "    <tr>\n",
       "      <th>0</th>\n",
       "      <td>s1</td>\n",
       "      <td>Movie</td>\n",
       "      <td>Dick Johnson Is Dead</td>\n",
       "      <td>NaN</td>\n",
       "      <td>United States</td>\n",
       "      <td>September 25, 2021</td>\n",
       "      <td>2020</td>\n",
       "      <td>PG-13</td>\n",
       "      <td>90 min</td>\n",
       "      <td>Documentaries</td>\n",
       "      <td>As her father nears the end of his life, filmm...</td>\n",
       "    </tr>\n",
       "    <tr>\n",
       "      <th>1</th>\n",
       "      <td>s2</td>\n",
       "      <td>TV Show</td>\n",
       "      <td>Blood &amp; Water</td>\n",
       "      <td>Ama Qamata, Khosi Ngema, Gail Mabalane, Thaban...</td>\n",
       "      <td>South Africa</td>\n",
       "      <td>September 24, 2021</td>\n",
       "      <td>2021</td>\n",
       "      <td>TV-MA</td>\n",
       "      <td>2 Seasons</td>\n",
       "      <td>International TV Shows, TV Dramas, TV Mysteries</td>\n",
       "      <td>After crossing paths at a party, a Cape Town t...</td>\n",
       "    </tr>\n",
       "    <tr>\n",
       "      <th>2</th>\n",
       "      <td>s3</td>\n",
       "      <td>TV Show</td>\n",
       "      <td>Ganglands</td>\n",
       "      <td>Sami Bouajila, Tracy Gotoas, Samuel Jouy, Nabi...</td>\n",
       "      <td>NaN</td>\n",
       "      <td>September 24, 2021</td>\n",
       "      <td>2021</td>\n",
       "      <td>TV-MA</td>\n",
       "      <td>1 Season</td>\n",
       "      <td>Crime TV Shows, International TV Shows, TV Act...</td>\n",
       "      <td>To protect his family from a powerful drug lor...</td>\n",
       "    </tr>\n",
       "  </tbody>\n",
       "</table>\n",
       "</div>"
      ],
      "text/plain": [
       "  show_id     type                 title  \\\n",
       "0      s1    Movie  Dick Johnson Is Dead   \n",
       "1      s2  TV Show         Blood & Water   \n",
       "2      s3  TV Show             Ganglands   \n",
       "\n",
       "                                                cast        country  \\\n",
       "0                                                NaN  United States   \n",
       "1  Ama Qamata, Khosi Ngema, Gail Mabalane, Thaban...   South Africa   \n",
       "2  Sami Bouajila, Tracy Gotoas, Samuel Jouy, Nabi...            NaN   \n",
       "\n",
       "           date_added  release_year rating   duration  \\\n",
       "0  September 25, 2021          2020  PG-13     90 min   \n",
       "1  September 24, 2021          2021  TV-MA  2 Seasons   \n",
       "2  September 24, 2021          2021  TV-MA   1 Season   \n",
       "\n",
       "                                           listed_in  \\\n",
       "0                                      Documentaries   \n",
       "1    International TV Shows, TV Dramas, TV Mysteries   \n",
       "2  Crime TV Shows, International TV Shows, TV Act...   \n",
       "\n",
       "                                         description  \n",
       "0  As her father nears the end of his life, filmm...  \n",
       "1  After crossing paths at a party, a Cape Town t...  \n",
       "2  To protect his family from a powerful drug lor...  "
      ]
     },
     "execution_count": 62,
     "metadata": {},
     "output_type": "execute_result"
    }
   ],
   "source": [
    "df.head(3)"
   ]
  },
  {
   "cell_type": "code",
   "execution_count": 63,
   "id": "0af09825-4899-4e4e-b03f-495f43fb021a",
   "metadata": {},
   "outputs": [
    {
     "data": {
      "text/plain": [
       "4250    1925\n",
       "7790    1942\n",
       "8205    1942\n",
       "8660    1943\n",
       "8739    1943\n",
       "        ... \n",
       "862     2021\n",
       "861     2021\n",
       "857     2021\n",
       "876     2021\n",
       "965     2021\n",
       "Name: release_year, Length: 8807, dtype: int64"
      ]
     },
     "execution_count": 63,
     "metadata": {},
     "output_type": "execute_result"
    }
   ],
   "source": [
    "df['release_year'].sort_values()"
   ]
  },
  {
   "cell_type": "code",
   "execution_count": 80,
   "id": "a1da5ab2-c7bd-4788-857b-dff1749abed6",
   "metadata": {},
   "outputs": [
    {
     "data": {
      "text/html": [
       "<div>\n",
       "<style scoped>\n",
       "    .dataframe tbody tr th:only-of-type {\n",
       "        vertical-align: middle;\n",
       "    }\n",
       "\n",
       "    .dataframe tbody tr th {\n",
       "        vertical-align: top;\n",
       "    }\n",
       "\n",
       "    .dataframe thead th {\n",
       "        text-align: right;\n",
       "    }\n",
       "</style>\n",
       "<table border=\"1\" class=\"dataframe\">\n",
       "  <thead>\n",
       "    <tr style=\"text-align: right;\">\n",
       "      <th></th>\n",
       "      <th>show_id</th>\n",
       "      <th>type</th>\n",
       "      <th>title</th>\n",
       "      <th>cast</th>\n",
       "      <th>country</th>\n",
       "      <th>date_added</th>\n",
       "      <th>release_year</th>\n",
       "      <th>rating</th>\n",
       "      <th>duration</th>\n",
       "      <th>listed_in</th>\n",
       "      <th>description</th>\n",
       "      <th>month</th>\n",
       "    </tr>\n",
       "  </thead>\n",
       "  <tbody>\n",
       "    <tr>\n",
       "      <th>7790</th>\n",
       "      <td>s7791</td>\n",
       "      <td>Movie</td>\n",
       "      <td>Prelude to War</td>\n",
       "      <td>NaN</td>\n",
       "      <td>United States</td>\n",
       "      <td>March 31, 2017</td>\n",
       "      <td>1942</td>\n",
       "      <td>TV-14</td>\n",
       "      <td>52 min</td>\n",
       "      <td>Classic Movies, Documentaries</td>\n",
       "      <td>Frank Capra's documentary chronicles the rise ...</td>\n",
       "      <td>3.0</td>\n",
       "    </tr>\n",
       "    <tr>\n",
       "      <th>8205</th>\n",
       "      <td>s8206</td>\n",
       "      <td>Movie</td>\n",
       "      <td>The Battle of Midway</td>\n",
       "      <td>Henry Fonda, Jane Darwell</td>\n",
       "      <td>United States</td>\n",
       "      <td>March 31, 2017</td>\n",
       "      <td>1942</td>\n",
       "      <td>TV-14</td>\n",
       "      <td>18 min</td>\n",
       "      <td>Classic Movies, Documentaries</td>\n",
       "      <td>Director John Ford captures combat footage of ...</td>\n",
       "      <td>3.0</td>\n",
       "    </tr>\n",
       "    <tr>\n",
       "      <th>8660</th>\n",
       "      <td>s8661</td>\n",
       "      <td>Movie</td>\n",
       "      <td>Undercover: How to Operate Behind Enemy Lines</td>\n",
       "      <td>NaN</td>\n",
       "      <td>United States</td>\n",
       "      <td>March 31, 2017</td>\n",
       "      <td>1943</td>\n",
       "      <td>TV-PG</td>\n",
       "      <td>61 min</td>\n",
       "      <td>Classic Movies, Documentaries</td>\n",
       "      <td>This World War II-era training film dramatizes...</td>\n",
       "      <td>3.0</td>\n",
       "    </tr>\n",
       "    <tr>\n",
       "      <th>8763</th>\n",
       "      <td>s8764</td>\n",
       "      <td>Movie</td>\n",
       "      <td>WWII: Report from the Aleutians</td>\n",
       "      <td>NaN</td>\n",
       "      <td>United States</td>\n",
       "      <td>March 31, 2017</td>\n",
       "      <td>1943</td>\n",
       "      <td>TV-PG</td>\n",
       "      <td>45 min</td>\n",
       "      <td>Documentaries</td>\n",
       "      <td>Filmmaker John Huston narrates this Oscar-nomi...</td>\n",
       "      <td>3.0</td>\n",
       "    </tr>\n",
       "    <tr>\n",
       "      <th>8739</th>\n",
       "      <td>s8740</td>\n",
       "      <td>Movie</td>\n",
       "      <td>Why We Fight: The Battle of Russia</td>\n",
       "      <td>NaN</td>\n",
       "      <td>United States</td>\n",
       "      <td>March 31, 2017</td>\n",
       "      <td>1943</td>\n",
       "      <td>TV-PG</td>\n",
       "      <td>82 min</td>\n",
       "      <td>Documentaries</td>\n",
       "      <td>This installment of Frank Capra's acclaimed do...</td>\n",
       "      <td>3.0</td>\n",
       "    </tr>\n",
       "    <tr>\n",
       "      <th>8419</th>\n",
       "      <td>s8420</td>\n",
       "      <td>Movie</td>\n",
       "      <td>The Memphis Belle: A Story of a\\nFlying Fortress</td>\n",
       "      <td>NaN</td>\n",
       "      <td>United States</td>\n",
       "      <td>March 31, 2017</td>\n",
       "      <td>1944</td>\n",
       "      <td>TV-PG</td>\n",
       "      <td>40 min</td>\n",
       "      <td>Classic Movies, Documentaries</td>\n",
       "      <td>This documentary centers on the crew of the B-...</td>\n",
       "      <td>3.0</td>\n",
       "    </tr>\n",
       "    <tr>\n",
       "      <th>8640</th>\n",
       "      <td>s8641</td>\n",
       "      <td>Movie</td>\n",
       "      <td>Tunisian Victory</td>\n",
       "      <td>Burgess Meredith</td>\n",
       "      <td>United States, United Kingdom</td>\n",
       "      <td>March 31, 2017</td>\n",
       "      <td>1944</td>\n",
       "      <td>TV-14</td>\n",
       "      <td>76 min</td>\n",
       "      <td>Classic Movies, Documentaries</td>\n",
       "      <td>British and American troops join forces to lib...</td>\n",
       "      <td>3.0</td>\n",
       "    </tr>\n",
       "    <tr>\n",
       "      <th>8436</th>\n",
       "      <td>s8437</td>\n",
       "      <td>Movie</td>\n",
       "      <td>The Negro Soldier</td>\n",
       "      <td>NaN</td>\n",
       "      <td>United States</td>\n",
       "      <td>March 31, 2017</td>\n",
       "      <td>1944</td>\n",
       "      <td>TV-14</td>\n",
       "      <td>40 min</td>\n",
       "      <td>Classic Movies, Documentaries</td>\n",
       "      <td>This documentary urged African Americans to en...</td>\n",
       "      <td>3.0</td>\n",
       "    </tr>\n",
       "    <tr>\n",
       "      <th>7575</th>\n",
       "      <td>s7576</td>\n",
       "      <td>Movie</td>\n",
       "      <td>Nazi Concentration Camps</td>\n",
       "      <td>NaN</td>\n",
       "      <td>United States</td>\n",
       "      <td>March 31, 2017</td>\n",
       "      <td>1945</td>\n",
       "      <td>TV-MA</td>\n",
       "      <td>59 min</td>\n",
       "      <td>Classic Movies, Documentaries</td>\n",
       "      <td>Shocking footage shows Nazi concentration camp...</td>\n",
       "      <td>3.0</td>\n",
       "    </tr>\n",
       "    <tr>\n",
       "      <th>7930</th>\n",
       "      <td>s7931</td>\n",
       "      <td>Movie</td>\n",
       "      <td>San Pietro</td>\n",
       "      <td>NaN</td>\n",
       "      <td>United States</td>\n",
       "      <td>March 31, 2017</td>\n",
       "      <td>1945</td>\n",
       "      <td>TV-14</td>\n",
       "      <td>32 min</td>\n",
       "      <td>Classic Movies, Documentaries</td>\n",
       "      <td>After the Allies invade Italy, the Liri Valley...</td>\n",
       "      <td>3.0</td>\n",
       "    </tr>\n",
       "  </tbody>\n",
       "</table>\n",
       "</div>"
      ],
      "text/plain": [
       "     show_id   type                                             title  \\\n",
       "7790   s7791  Movie                                    Prelude to War   \n",
       "8205   s8206  Movie                              The Battle of Midway   \n",
       "8660   s8661  Movie     Undercover: How to Operate Behind Enemy Lines   \n",
       "8763   s8764  Movie                   WWII: Report from the Aleutians   \n",
       "8739   s8740  Movie                Why We Fight: The Battle of Russia   \n",
       "8419   s8420  Movie  The Memphis Belle: A Story of a\\nFlying Fortress   \n",
       "8640   s8641  Movie                                  Tunisian Victory   \n",
       "8436   s8437  Movie                                 The Negro Soldier   \n",
       "7575   s7576  Movie                          Nazi Concentration Camps   \n",
       "7930   s7931  Movie                                        San Pietro   \n",
       "\n",
       "                           cast                        country  \\\n",
       "7790                        NaN                  United States   \n",
       "8205  Henry Fonda, Jane Darwell                  United States   \n",
       "8660                        NaN                  United States   \n",
       "8763                        NaN                  United States   \n",
       "8739                        NaN                  United States   \n",
       "8419                        NaN                  United States   \n",
       "8640           Burgess Meredith  United States, United Kingdom   \n",
       "8436                        NaN                  United States   \n",
       "7575                        NaN                  United States   \n",
       "7930                        NaN                  United States   \n",
       "\n",
       "          date_added  release_year rating duration  \\\n",
       "7790  March 31, 2017          1942  TV-14   52 min   \n",
       "8205  March 31, 2017          1942  TV-14   18 min   \n",
       "8660  March 31, 2017          1943  TV-PG   61 min   \n",
       "8763  March 31, 2017          1943  TV-PG   45 min   \n",
       "8739  March 31, 2017          1943  TV-PG   82 min   \n",
       "8419  March 31, 2017          1944  TV-PG   40 min   \n",
       "8640  March 31, 2017          1944  TV-14   76 min   \n",
       "8436  March 31, 2017          1944  TV-14   40 min   \n",
       "7575  March 31, 2017          1945  TV-MA   59 min   \n",
       "7930  March 31, 2017          1945  TV-14   32 min   \n",
       "\n",
       "                          listed_in  \\\n",
       "7790  Classic Movies, Documentaries   \n",
       "8205  Classic Movies, Documentaries   \n",
       "8660  Classic Movies, Documentaries   \n",
       "8763                  Documentaries   \n",
       "8739                  Documentaries   \n",
       "8419  Classic Movies, Documentaries   \n",
       "8640  Classic Movies, Documentaries   \n",
       "8436  Classic Movies, Documentaries   \n",
       "7575  Classic Movies, Documentaries   \n",
       "7930  Classic Movies, Documentaries   \n",
       "\n",
       "                                            description  month  \n",
       "7790  Frank Capra's documentary chronicles the rise ...    3.0  \n",
       "8205  Director John Ford captures combat footage of ...    3.0  \n",
       "8660  This World War II-era training film dramatizes...    3.0  \n",
       "8763  Filmmaker John Huston narrates this Oscar-nomi...    3.0  \n",
       "8739  This installment of Frank Capra's acclaimed do...    3.0  \n",
       "8419  This documentary centers on the crew of the B-...    3.0  \n",
       "8640  British and American troops join forces to lib...    3.0  \n",
       "8436  This documentary urged African Americans to en...    3.0  \n",
       "7575  Shocking footage shows Nazi concentration camp...    3.0  \n",
       "7930  After the Allies invade Italy, the Liri Valley...    3.0  "
      ]
     },
     "execution_count": 80,
     "metadata": {},
     "output_type": "execute_result"
    }
   ],
   "source": [
    "df[df['type']=='Movie'].sort_values('release_year')[0:10]"
   ]
  },
  {
   "cell_type": "markdown",
   "id": "56edbbb0-7b17-4a2b-b31a-9a00065310d5",
   "metadata": {},
   "source": [
    "# Top 10 oldest tv shows"
   ]
  },
  {
   "cell_type": "code",
   "execution_count": 65,
   "id": "0db5ecac-4cbd-479f-9736-738538b48e6e",
   "metadata": {},
   "outputs": [
    {
     "data": {
      "text/html": [
       "<div>\n",
       "<style scoped>\n",
       "    .dataframe tbody tr th:only-of-type {\n",
       "        vertical-align: middle;\n",
       "    }\n",
       "\n",
       "    .dataframe tbody tr th {\n",
       "        vertical-align: top;\n",
       "    }\n",
       "\n",
       "    .dataframe thead th {\n",
       "        text-align: right;\n",
       "    }\n",
       "</style>\n",
       "<table border=\"1\" class=\"dataframe\">\n",
       "  <thead>\n",
       "    <tr style=\"text-align: right;\">\n",
       "      <th></th>\n",
       "      <th>show_id</th>\n",
       "      <th>type</th>\n",
       "      <th>title</th>\n",
       "      <th>cast</th>\n",
       "      <th>country</th>\n",
       "      <th>date_added</th>\n",
       "      <th>release_year</th>\n",
       "      <th>rating</th>\n",
       "      <th>duration</th>\n",
       "      <th>listed_in</th>\n",
       "      <th>description</th>\n",
       "    </tr>\n",
       "  </thead>\n",
       "  <tbody>\n",
       "    <tr>\n",
       "      <th>0</th>\n",
       "      <td>s1</td>\n",
       "      <td>Movie</td>\n",
       "      <td>Dick Johnson Is Dead</td>\n",
       "      <td>NaN</td>\n",
       "      <td>United States</td>\n",
       "      <td>September 25, 2021</td>\n",
       "      <td>2020</td>\n",
       "      <td>PG-13</td>\n",
       "      <td>90 min</td>\n",
       "      <td>Documentaries</td>\n",
       "      <td>As her father nears the end of his life, filmm...</td>\n",
       "    </tr>\n",
       "    <tr>\n",
       "      <th>1</th>\n",
       "      <td>s2</td>\n",
       "      <td>TV Show</td>\n",
       "      <td>Blood &amp; Water</td>\n",
       "      <td>Ama Qamata, Khosi Ngema, Gail Mabalane, Thaban...</td>\n",
       "      <td>South Africa</td>\n",
       "      <td>September 24, 2021</td>\n",
       "      <td>2021</td>\n",
       "      <td>TV-MA</td>\n",
       "      <td>2 Seasons</td>\n",
       "      <td>International TV Shows, TV Dramas, TV Mysteries</td>\n",
       "      <td>After crossing paths at a party, a Cape Town t...</td>\n",
       "    </tr>\n",
       "  </tbody>\n",
       "</table>\n",
       "</div>"
      ],
      "text/plain": [
       "  show_id     type                 title  \\\n",
       "0      s1    Movie  Dick Johnson Is Dead   \n",
       "1      s2  TV Show         Blood & Water   \n",
       "\n",
       "                                                cast        country  \\\n",
       "0                                                NaN  United States   \n",
       "1  Ama Qamata, Khosi Ngema, Gail Mabalane, Thaban...   South Africa   \n",
       "\n",
       "           date_added  release_year rating   duration  \\\n",
       "0  September 25, 2021          2020  PG-13     90 min   \n",
       "1  September 24, 2021          2021  TV-MA  2 Seasons   \n",
       "\n",
       "                                         listed_in  \\\n",
       "0                                    Documentaries   \n",
       "1  International TV Shows, TV Dramas, TV Mysteries   \n",
       "\n",
       "                                         description  \n",
       "0  As her father nears the end of his life, filmm...  \n",
       "1  After crossing paths at a party, a Cape Town t...  "
      ]
     },
     "execution_count": 65,
     "metadata": {},
     "output_type": "execute_result"
    }
   ],
   "source": [
    "df.head(2)"
   ]
  },
  {
   "cell_type": "code",
   "execution_count": 66,
   "id": "9bebe359-6366-4f1a-924e-2812a82b48f9",
   "metadata": {
    "tags": []
   },
   "outputs": [
    {
     "data": {
      "text/html": [
       "<div>\n",
       "<style scoped>\n",
       "    .dataframe tbody tr th:only-of-type {\n",
       "        vertical-align: middle;\n",
       "    }\n",
       "\n",
       "    .dataframe tbody tr th {\n",
       "        vertical-align: top;\n",
       "    }\n",
       "\n",
       "    .dataframe thead th {\n",
       "        text-align: right;\n",
       "    }\n",
       "</style>\n",
       "<table border=\"1\" class=\"dataframe\">\n",
       "  <thead>\n",
       "    <tr style=\"text-align: right;\">\n",
       "      <th></th>\n",
       "      <th>show_id</th>\n",
       "      <th>type</th>\n",
       "      <th>title</th>\n",
       "      <th>cast</th>\n",
       "      <th>country</th>\n",
       "      <th>date_added</th>\n",
       "      <th>release_year</th>\n",
       "      <th>rating</th>\n",
       "      <th>duration</th>\n",
       "      <th>listed_in</th>\n",
       "      <th>description</th>\n",
       "    </tr>\n",
       "  </thead>\n",
       "  <tbody>\n",
       "    <tr>\n",
       "      <th>4250</th>\n",
       "      <td>s4251</td>\n",
       "      <td>TV Show</td>\n",
       "      <td>Pioneers: First Women Filmmakers*</td>\n",
       "      <td>NaN</td>\n",
       "      <td>NaN</td>\n",
       "      <td>December 30, 2018</td>\n",
       "      <td>1925</td>\n",
       "      <td>TV-14</td>\n",
       "      <td>1 Season</td>\n",
       "      <td>TV Shows</td>\n",
       "      <td>This collection restores films from women who ...</td>\n",
       "    </tr>\n",
       "    <tr>\n",
       "      <th>1331</th>\n",
       "      <td>s1332</td>\n",
       "      <td>TV Show</td>\n",
       "      <td>Five Came Back: The Reference Films</td>\n",
       "      <td>NaN</td>\n",
       "      <td>United States</td>\n",
       "      <td>February 9, 2021</td>\n",
       "      <td>1945</td>\n",
       "      <td>TV-MA</td>\n",
       "      <td>1 Season</td>\n",
       "      <td>TV Shows</td>\n",
       "      <td>This collection includes 12 World War II-era p...</td>\n",
       "    </tr>\n",
       "    <tr>\n",
       "      <th>7743</th>\n",
       "      <td>s7744</td>\n",
       "      <td>TV Show</td>\n",
       "      <td>Pioneers of African-American Cinema</td>\n",
       "      <td>NaN</td>\n",
       "      <td>United States</td>\n",
       "      <td>February 1, 2017</td>\n",
       "      <td>1946</td>\n",
       "      <td>TV-14</td>\n",
       "      <td>1 Season</td>\n",
       "      <td>TV Shows</td>\n",
       "      <td>This newly preserved collection features more ...</td>\n",
       "    </tr>\n",
       "    <tr>\n",
       "      <th>8541</th>\n",
       "      <td>s8542</td>\n",
       "      <td>TV Show</td>\n",
       "      <td>The Twilight Zone (Original Series)</td>\n",
       "      <td>Rod Serling</td>\n",
       "      <td>United States</td>\n",
       "      <td>July 1, 2017</td>\n",
       "      <td>1963</td>\n",
       "      <td>TV-14</td>\n",
       "      <td>4 Seasons</td>\n",
       "      <td>Classic &amp; Cult TV, TV Sci-Fi &amp; Fantasy</td>\n",
       "      <td>Hosted by creator Rod Serling, this groundbrea...</td>\n",
       "    </tr>\n",
       "    <tr>\n",
       "      <th>8189</th>\n",
       "      <td>s8190</td>\n",
       "      <td>TV Show</td>\n",
       "      <td>The Andy Griffith Show</td>\n",
       "      <td>Andy Griffith, Ron Howard, Don Knotts, Frances...</td>\n",
       "      <td>United States</td>\n",
       "      <td>July 1, 2017</td>\n",
       "      <td>1967</td>\n",
       "      <td>TV-G</td>\n",
       "      <td>8 Seasons</td>\n",
       "      <td>Classic &amp; Cult TV, TV Comedies</td>\n",
       "      <td>Homespun humor and easygoing Sheriff Andy Tayl...</td>\n",
       "    </tr>\n",
       "    <tr>\n",
       "      <th>4550</th>\n",
       "      <td>s4551</td>\n",
       "      <td>TV Show</td>\n",
       "      <td>Monty Python's Fliegender Zirkus</td>\n",
       "      <td>Graham Chapman, John Cleese, Eric Idle, Terry ...</td>\n",
       "      <td>United Kingdom, West Germany</td>\n",
       "      <td>October 2, 2018</td>\n",
       "      <td>1972</td>\n",
       "      <td>TV-MA</td>\n",
       "      <td>1 Season</td>\n",
       "      <td>International TV Shows, TV Comedies</td>\n",
       "      <td>The Pythons elevate the absurd to new heights ...</td>\n",
       "    </tr>\n",
       "    <tr>\n",
       "      <th>4551</th>\n",
       "      <td>s4552</td>\n",
       "      <td>TV Show</td>\n",
       "      <td>Monty Python's Flying Circus</td>\n",
       "      <td>John Cleese, Graham Chapman, Terry Jones, Eric...</td>\n",
       "      <td>United Kingdom</td>\n",
       "      <td>October 2, 2018</td>\n",
       "      <td>1974</td>\n",
       "      <td>TV-14</td>\n",
       "      <td>4 Seasons</td>\n",
       "      <td>British TV Shows, Classic &amp; Cult TV, Internati...</td>\n",
       "      <td>The Monty Python players make their mark with ...</td>\n",
       "    </tr>\n",
       "    <tr>\n",
       "      <th>6549</th>\n",
       "      <td>s6550</td>\n",
       "      <td>TV Show</td>\n",
       "      <td>Dad's Army</td>\n",
       "      <td>Arthur Lowe, John Le Mesurier, Clive Dunn, Joh...</td>\n",
       "      <td>United Kingdom</td>\n",
       "      <td>March 31, 2018</td>\n",
       "      <td>1977</td>\n",
       "      <td>TV-PG</td>\n",
       "      <td>10 Seasons</td>\n",
       "      <td>British TV Shows, Classic &amp; Cult TV, TV Comedies</td>\n",
       "      <td>This beloved sitcom follows the unlikely heroe...</td>\n",
       "    </tr>\n",
       "    <tr>\n",
       "      <th>6674</th>\n",
       "      <td>s6675</td>\n",
       "      <td>TV Show</td>\n",
       "      <td>El Chavo</td>\n",
       "      <td>Roberto Gómez Bolaños, María Antonieta de las ...</td>\n",
       "      <td>Mexico</td>\n",
       "      <td>December 31, 2017</td>\n",
       "      <td>1979</td>\n",
       "      <td>TV-PG</td>\n",
       "      <td>1 Season</td>\n",
       "      <td>Classic &amp; Cult TV, Kids' TV, Spanish-Language ...</td>\n",
       "      <td>El Chavo is a poor, nameless orphan who lives ...</td>\n",
       "    </tr>\n",
       "    <tr>\n",
       "      <th>7588</th>\n",
       "      <td>s7589</td>\n",
       "      <td>TV Show</td>\n",
       "      <td>Ninja Hattori</td>\n",
       "      <td>Junko Hori, Masako Sugaya, Yuko Mita, Kaneta K...</td>\n",
       "      <td>Japan</td>\n",
       "      <td>December 23, 2018</td>\n",
       "      <td>1981</td>\n",
       "      <td>TV-Y7</td>\n",
       "      <td>1 Season</td>\n",
       "      <td>Anime Series, Kids' TV</td>\n",
       "      <td>Elementary school student Kenichi Mitsuba's ho...</td>\n",
       "    </tr>\n",
       "  </tbody>\n",
       "</table>\n",
       "</div>"
      ],
      "text/plain": [
       "     show_id     type                                title  \\\n",
       "4250   s4251  TV Show    Pioneers: First Women Filmmakers*   \n",
       "1331   s1332  TV Show  Five Came Back: The Reference Films   \n",
       "7743   s7744  TV Show  Pioneers of African-American Cinema   \n",
       "8541   s8542  TV Show  The Twilight Zone (Original Series)   \n",
       "8189   s8190  TV Show               The Andy Griffith Show   \n",
       "4550   s4551  TV Show     Monty Python's Fliegender Zirkus   \n",
       "4551   s4552  TV Show         Monty Python's Flying Circus   \n",
       "6549   s6550  TV Show                           Dad's Army   \n",
       "6674   s6675  TV Show                             El Chavo   \n",
       "7588   s7589  TV Show                        Ninja Hattori   \n",
       "\n",
       "                                                   cast  \\\n",
       "4250                                                NaN   \n",
       "1331                                                NaN   \n",
       "7743                                                NaN   \n",
       "8541                                        Rod Serling   \n",
       "8189  Andy Griffith, Ron Howard, Don Knotts, Frances...   \n",
       "4550  Graham Chapman, John Cleese, Eric Idle, Terry ...   \n",
       "4551  John Cleese, Graham Chapman, Terry Jones, Eric...   \n",
       "6549  Arthur Lowe, John Le Mesurier, Clive Dunn, Joh...   \n",
       "6674  Roberto Gómez Bolaños, María Antonieta de las ...   \n",
       "7588  Junko Hori, Masako Sugaya, Yuko Mita, Kaneta K...   \n",
       "\n",
       "                           country         date_added  release_year rating  \\\n",
       "4250                           NaN  December 30, 2018          1925  TV-14   \n",
       "1331                 United States   February 9, 2021          1945  TV-MA   \n",
       "7743                 United States   February 1, 2017          1946  TV-14   \n",
       "8541                 United States       July 1, 2017          1963  TV-14   \n",
       "8189                 United States       July 1, 2017          1967   TV-G   \n",
       "4550  United Kingdom, West Germany    October 2, 2018          1972  TV-MA   \n",
       "4551                United Kingdom    October 2, 2018          1974  TV-14   \n",
       "6549                United Kingdom     March 31, 2018          1977  TV-PG   \n",
       "6674                        Mexico  December 31, 2017          1979  TV-PG   \n",
       "7588                         Japan  December 23, 2018          1981  TV-Y7   \n",
       "\n",
       "        duration                                          listed_in  \\\n",
       "4250    1 Season                                           TV Shows   \n",
       "1331    1 Season                                           TV Shows   \n",
       "7743    1 Season                                           TV Shows   \n",
       "8541   4 Seasons             Classic & Cult TV, TV Sci-Fi & Fantasy   \n",
       "8189   8 Seasons                     Classic & Cult TV, TV Comedies   \n",
       "4550    1 Season                International TV Shows, TV Comedies   \n",
       "4551   4 Seasons  British TV Shows, Classic & Cult TV, Internati...   \n",
       "6549  10 Seasons   British TV Shows, Classic & Cult TV, TV Comedies   \n",
       "6674    1 Season  Classic & Cult TV, Kids' TV, Spanish-Language ...   \n",
       "7588    1 Season                             Anime Series, Kids' TV   \n",
       "\n",
       "                                            description  \n",
       "4250  This collection restores films from women who ...  \n",
       "1331  This collection includes 12 World War II-era p...  \n",
       "7743  This newly preserved collection features more ...  \n",
       "8541  Hosted by creator Rod Serling, this groundbrea...  \n",
       "8189  Homespun humor and easygoing Sheriff Andy Tayl...  \n",
       "4550  The Pythons elevate the absurd to new heights ...  \n",
       "4551  The Monty Python players make their mark with ...  \n",
       "6549  This beloved sitcom follows the unlikely heroe...  \n",
       "6674  El Chavo is a poor, nameless orphan who lives ...  \n",
       "7588  Elementary school student Kenichi Mitsuba's ho...  "
      ]
     },
     "execution_count": 66,
     "metadata": {},
     "output_type": "execute_result"
    }
   ],
   "source": [
    "df[df['type']== 'TV Show'].sort_values('release_year')[0:10]"
   ]
  },
  {
   "cell_type": "code",
   "execution_count": 67,
   "id": "da67d812-9d39-4f61-bb72-130a371923f0",
   "metadata": {},
   "outputs": [
    {
     "data": {
      "text/plain": [
       "693     2021\n",
       "781     2021\n",
       "762     2021\n",
       "763     2021\n",
       "764     2021\n",
       "        ... \n",
       "8660    1943\n",
       "8763    1943\n",
       "8205    1942\n",
       "7790    1942\n",
       "4250    1925\n",
       "Name: release_year, Length: 8807, dtype: int64"
      ]
     },
     "execution_count": 67,
     "metadata": {},
     "output_type": "execute_result"
    }
   ],
   "source": [
    "df['release_year'].sort_values(ascending= False)"
   ]
  },
  {
   "cell_type": "markdown",
   "id": "c84ce1be-a8f6-45db-8153-9bef73f1f908",
   "metadata": {},
   "source": [
    "# Top 10 latest tv shows"
   ]
  },
  {
   "cell_type": "code",
   "execution_count": 68,
   "id": "758ff5ac-f22b-4f83-8b84-123bd1f73b02",
   "metadata": {},
   "outputs": [
    {
     "data": {
      "text/html": [
       "<div>\n",
       "<style scoped>\n",
       "    .dataframe tbody tr th:only-of-type {\n",
       "        vertical-align: middle;\n",
       "    }\n",
       "\n",
       "    .dataframe tbody tr th {\n",
       "        vertical-align: top;\n",
       "    }\n",
       "\n",
       "    .dataframe thead th {\n",
       "        text-align: right;\n",
       "    }\n",
       "</style>\n",
       "<table border=\"1\" class=\"dataframe\">\n",
       "  <thead>\n",
       "    <tr style=\"text-align: right;\">\n",
       "      <th></th>\n",
       "      <th>show_id</th>\n",
       "      <th>type</th>\n",
       "      <th>title</th>\n",
       "      <th>cast</th>\n",
       "      <th>country</th>\n",
       "      <th>date_added</th>\n",
       "      <th>release_year</th>\n",
       "      <th>rating</th>\n",
       "      <th>duration</th>\n",
       "      <th>listed_in</th>\n",
       "      <th>description</th>\n",
       "    </tr>\n",
       "  </thead>\n",
       "  <tbody>\n",
       "    <tr>\n",
       "      <th>1</th>\n",
       "      <td>s2</td>\n",
       "      <td>TV Show</td>\n",
       "      <td>Blood &amp; Water</td>\n",
       "      <td>Ama Qamata, Khosi Ngema, Gail Mabalane, Thaban...</td>\n",
       "      <td>South Africa</td>\n",
       "      <td>September 24, 2021</td>\n",
       "      <td>2021</td>\n",
       "      <td>TV-MA</td>\n",
       "      <td>2 Seasons</td>\n",
       "      <td>International TV Shows, TV Dramas, TV Mysteries</td>\n",
       "      <td>After crossing paths at a party, a Cape Town t...</td>\n",
       "    </tr>\n",
       "    <tr>\n",
       "      <th>835</th>\n",
       "      <td>s836</td>\n",
       "      <td>TV Show</td>\n",
       "      <td>Eden</td>\n",
       "      <td>Marika Kono, Kentaro Ito, Kyoko Hikami, Tarusu...</td>\n",
       "      <td>NaN</td>\n",
       "      <td>May 27, 2021</td>\n",
       "      <td>2021</td>\n",
       "      <td>TV-PG</td>\n",
       "      <td>1 Season</td>\n",
       "      <td>Anime Series, International TV Shows</td>\n",
       "      <td>A human girl secretly raised by robots starts ...</td>\n",
       "    </tr>\n",
       "    <tr>\n",
       "      <th>876</th>\n",
       "      <td>s877</td>\n",
       "      <td>TV Show</td>\n",
       "      <td>Alma Matters</td>\n",
       "      <td>NaN</td>\n",
       "      <td>India</td>\n",
       "      <td>May 14, 2021</td>\n",
       "      <td>2021</td>\n",
       "      <td>TV-MA</td>\n",
       "      <td>1 Season</td>\n",
       "      <td>Docuseries, International TV Shows</td>\n",
       "      <td>Alumni of India’s elite academic institutes sh...</td>\n",
       "    </tr>\n",
       "    <tr>\n",
       "      <th>874</th>\n",
       "      <td>s875</td>\n",
       "      <td>TV Show</td>\n",
       "      <td>Booba: Food Puzzle</td>\n",
       "      <td>Artem Kretov, Elena Solovieva, Vyacheslav Kataev</td>\n",
       "      <td>United Kingdom</td>\n",
       "      <td>May 15, 2021</td>\n",
       "      <td>2021</td>\n",
       "      <td>TV-Y</td>\n",
       "      <td>1 Season</td>\n",
       "      <td>Kids' TV</td>\n",
       "      <td>Curious Booba is now a chef! With friends Lool...</td>\n",
       "    </tr>\n",
       "    <tr>\n",
       "      <th>862</th>\n",
       "      <td>s863</td>\n",
       "      <td>TV Show</td>\n",
       "      <td>Special</td>\n",
       "      <td>Ryan O'Connell, Jessica Hecht, Punam Patel, Ma...</td>\n",
       "      <td>United States</td>\n",
       "      <td>May 20, 2021</td>\n",
       "      <td>2021</td>\n",
       "      <td>TV-MA</td>\n",
       "      <td>2 Seasons</td>\n",
       "      <td>TV Comedies</td>\n",
       "      <td>A young gay man with cerebral palsy branches o...</td>\n",
       "    </tr>\n",
       "    <tr>\n",
       "      <th>857</th>\n",
       "      <td>s858</td>\n",
       "      <td>TV Show</td>\n",
       "      <td>The Neighbor</td>\n",
       "      <td>Quim Gutiérrez, Clara Lago, Adrián Pino, Catel...</td>\n",
       "      <td>Spain</td>\n",
       "      <td>May 21, 2021</td>\n",
       "      <td>2021</td>\n",
       "      <td>TV-MA</td>\n",
       "      <td>2 Seasons</td>\n",
       "      <td>International TV Shows, Spanish-Language TV Sh...</td>\n",
       "      <td>Self-centered Javier's life gets a bit messy w...</td>\n",
       "    </tr>\n",
       "    <tr>\n",
       "      <th>855</th>\n",
       "      <td>s856</td>\n",
       "      <td>TV Show</td>\n",
       "      <td>Jurassic World Camp Cretaceous</td>\n",
       "      <td>Paul-Mikél Williams, Jenna Ortega, Sean Giambr...</td>\n",
       "      <td>United States</td>\n",
       "      <td>May 21, 2021</td>\n",
       "      <td>2021</td>\n",
       "      <td>TV-Y7</td>\n",
       "      <td>3 Seasons</td>\n",
       "      <td>Kids' TV, TV Action &amp; Adventure, TV Sci-Fi &amp; F...</td>\n",
       "      <td>Six teens invited to attend a state-of-the-art...</td>\n",
       "    </tr>\n",
       "    <tr>\n",
       "      <th>848</th>\n",
       "      <td>s849</td>\n",
       "      <td>TV Show</td>\n",
       "      <td>Master of None</td>\n",
       "      <td>Aziz Ansari, Noël Wells, Eric Wareheim, Lena W...</td>\n",
       "      <td>United States</td>\n",
       "      <td>May 23, 2021</td>\n",
       "      <td>2021</td>\n",
       "      <td>TV-MA</td>\n",
       "      <td>3 Seasons</td>\n",
       "      <td>TV Comedies, TV Dramas</td>\n",
       "      <td>Dev tries to jump-start his acting career and ...</td>\n",
       "    </tr>\n",
       "    <tr>\n",
       "      <th>847</th>\n",
       "      <td>s848</td>\n",
       "      <td>TV Show</td>\n",
       "      <td>Mad for Each Other</td>\n",
       "      <td>Jung Woo, Oh Yeon-seo, Baik Ji-won, Lee Hye-eu...</td>\n",
       "      <td>NaN</td>\n",
       "      <td>May 24, 2021</td>\n",
       "      <td>2021</td>\n",
       "      <td>TV-MA</td>\n",
       "      <td>1 Season</td>\n",
       "      <td>International TV Shows, Romantic TV Shows, TV ...</td>\n",
       "      <td>Bothered to realize they are next-door neighbo...</td>\n",
       "    </tr>\n",
       "    <tr>\n",
       "      <th>842</th>\n",
       "      <td>s843</td>\n",
       "      <td>TV Show</td>\n",
       "      <td>High on the Hog: How African American Cuisine ...</td>\n",
       "      <td>NaN</td>\n",
       "      <td>NaN</td>\n",
       "      <td>May 26, 2021</td>\n",
       "      <td>2021</td>\n",
       "      <td>TV-14</td>\n",
       "      <td>1 Season</td>\n",
       "      <td>Docuseries</td>\n",
       "      <td>Black food is American food. Chef and writer S...</td>\n",
       "    </tr>\n",
       "  </tbody>\n",
       "</table>\n",
       "</div>"
      ],
      "text/plain": [
       "    show_id     type                                              title  \\\n",
       "1        s2  TV Show                                      Blood & Water   \n",
       "835    s836  TV Show                                               Eden   \n",
       "876    s877  TV Show                                       Alma Matters   \n",
       "874    s875  TV Show                                 Booba: Food Puzzle   \n",
       "862    s863  TV Show                                            Special   \n",
       "857    s858  TV Show                                       The Neighbor   \n",
       "855    s856  TV Show                     Jurassic World Camp Cretaceous   \n",
       "848    s849  TV Show                                     Master of None   \n",
       "847    s848  TV Show                                 Mad for Each Other   \n",
       "842    s843  TV Show  High on the Hog: How African American Cuisine ...   \n",
       "\n",
       "                                                  cast         country  \\\n",
       "1    Ama Qamata, Khosi Ngema, Gail Mabalane, Thaban...    South Africa   \n",
       "835  Marika Kono, Kentaro Ito, Kyoko Hikami, Tarusu...             NaN   \n",
       "876                                                NaN           India   \n",
       "874   Artem Kretov, Elena Solovieva, Vyacheslav Kataev  United Kingdom   \n",
       "862  Ryan O'Connell, Jessica Hecht, Punam Patel, Ma...   United States   \n",
       "857  Quim Gutiérrez, Clara Lago, Adrián Pino, Catel...           Spain   \n",
       "855  Paul-Mikél Williams, Jenna Ortega, Sean Giambr...   United States   \n",
       "848  Aziz Ansari, Noël Wells, Eric Wareheim, Lena W...   United States   \n",
       "847  Jung Woo, Oh Yeon-seo, Baik Ji-won, Lee Hye-eu...             NaN   \n",
       "842                                                NaN             NaN   \n",
       "\n",
       "             date_added  release_year rating   duration  \\\n",
       "1    September 24, 2021          2021  TV-MA  2 Seasons   \n",
       "835        May 27, 2021          2021  TV-PG   1 Season   \n",
       "876        May 14, 2021          2021  TV-MA   1 Season   \n",
       "874        May 15, 2021          2021   TV-Y   1 Season   \n",
       "862        May 20, 2021          2021  TV-MA  2 Seasons   \n",
       "857        May 21, 2021          2021  TV-MA  2 Seasons   \n",
       "855        May 21, 2021          2021  TV-Y7  3 Seasons   \n",
       "848        May 23, 2021          2021  TV-MA  3 Seasons   \n",
       "847        May 24, 2021          2021  TV-MA   1 Season   \n",
       "842        May 26, 2021          2021  TV-14   1 Season   \n",
       "\n",
       "                                             listed_in  \\\n",
       "1      International TV Shows, TV Dramas, TV Mysteries   \n",
       "835               Anime Series, International TV Shows   \n",
       "876                 Docuseries, International TV Shows   \n",
       "874                                           Kids' TV   \n",
       "862                                        TV Comedies   \n",
       "857  International TV Shows, Spanish-Language TV Sh...   \n",
       "855  Kids' TV, TV Action & Adventure, TV Sci-Fi & F...   \n",
       "848                             TV Comedies, TV Dramas   \n",
       "847  International TV Shows, Romantic TV Shows, TV ...   \n",
       "842                                         Docuseries   \n",
       "\n",
       "                                           description  \n",
       "1    After crossing paths at a party, a Cape Town t...  \n",
       "835  A human girl secretly raised by robots starts ...  \n",
       "876  Alumni of India’s elite academic institutes sh...  \n",
       "874  Curious Booba is now a chef! With friends Lool...  \n",
       "862  A young gay man with cerebral palsy branches o...  \n",
       "857  Self-centered Javier's life gets a bit messy w...  \n",
       "855  Six teens invited to attend a state-of-the-art...  \n",
       "848  Dev tries to jump-start his acting career and ...  \n",
       "847  Bothered to realize they are next-door neighbo...  \n",
       "842  Black food is American food. Chef and writer S...  "
      ]
     },
     "execution_count": 68,
     "metadata": {},
     "output_type": "execute_result"
    }
   ],
   "source": [
    "df[df['type']=='TV Show'].sort_values('release_year', ascending = False)[0:10]"
   ]
  },
  {
   "cell_type": "code",
   "execution_count": 69,
   "id": "1f4122ba-ca0a-4faa-8763-53f0a5d368be",
   "metadata": {},
   "outputs": [
    {
     "data": {
      "text/plain": [
       "Index(['show_id', 'type', 'title', 'cast', 'country', 'date_added',\n",
       "       'release_year', 'rating', 'duration', 'listed_in', 'description'],\n",
       "      dtype='object')"
      ]
     },
     "execution_count": 69,
     "metadata": {},
     "output_type": "execute_result"
    }
   ],
   "source": [
    "df.columns"
   ]
  },
  {
   "cell_type": "code",
   "execution_count": 70,
   "id": "2450394f-40ac-4f55-97e2-482c26e8747f",
   "metadata": {},
   "outputs": [
    {
     "data": {
      "text/html": [
       "<div>\n",
       "<style scoped>\n",
       "    .dataframe tbody tr th:only-of-type {\n",
       "        vertical-align: middle;\n",
       "    }\n",
       "\n",
       "    .dataframe tbody tr th {\n",
       "        vertical-align: top;\n",
       "    }\n",
       "\n",
       "    .dataframe thead th {\n",
       "        text-align: right;\n",
       "    }\n",
       "</style>\n",
       "<table border=\"1\" class=\"dataframe\">\n",
       "  <thead>\n",
       "    <tr style=\"text-align: right;\">\n",
       "      <th></th>\n",
       "      <th>show_id</th>\n",
       "      <th>type</th>\n",
       "      <th>title</th>\n",
       "      <th>cast</th>\n",
       "      <th>country</th>\n",
       "      <th>date_added</th>\n",
       "      <th>release_year</th>\n",
       "      <th>rating</th>\n",
       "      <th>duration</th>\n",
       "      <th>listed_in</th>\n",
       "      <th>description</th>\n",
       "    </tr>\n",
       "  </thead>\n",
       "  <tbody>\n",
       "    <tr>\n",
       "      <th>0</th>\n",
       "      <td>s1</td>\n",
       "      <td>Movie</td>\n",
       "      <td>Dick Johnson Is Dead</td>\n",
       "      <td>NaN</td>\n",
       "      <td>United States</td>\n",
       "      <td>September 25, 2021</td>\n",
       "      <td>2020</td>\n",
       "      <td>PG-13</td>\n",
       "      <td>90 min</td>\n",
       "      <td>Documentaries</td>\n",
       "      <td>As her father nears the end of his life, filmm...</td>\n",
       "    </tr>\n",
       "    <tr>\n",
       "      <th>1</th>\n",
       "      <td>s2</td>\n",
       "      <td>TV Show</td>\n",
       "      <td>Blood &amp; Water</td>\n",
       "      <td>Ama Qamata, Khosi Ngema, Gail Mabalane, Thaban...</td>\n",
       "      <td>South Africa</td>\n",
       "      <td>September 24, 2021</td>\n",
       "      <td>2021</td>\n",
       "      <td>TV-MA</td>\n",
       "      <td>2 Seasons</td>\n",
       "      <td>International TV Shows, TV Dramas, TV Mysteries</td>\n",
       "      <td>After crossing paths at a party, a Cape Town t...</td>\n",
       "    </tr>\n",
       "  </tbody>\n",
       "</table>\n",
       "</div>"
      ],
      "text/plain": [
       "  show_id     type                 title  \\\n",
       "0      s1    Movie  Dick Johnson Is Dead   \n",
       "1      s2  TV Show         Blood & Water   \n",
       "\n",
       "                                                cast        country  \\\n",
       "0                                                NaN  United States   \n",
       "1  Ama Qamata, Khosi Ngema, Gail Mabalane, Thaban...   South Africa   \n",
       "\n",
       "           date_added  release_year rating   duration  \\\n",
       "0  September 25, 2021          2020  PG-13     90 min   \n",
       "1  September 24, 2021          2021  TV-MA  2 Seasons   \n",
       "\n",
       "                                         listed_in  \\\n",
       "0                                    Documentaries   \n",
       "1  International TV Shows, TV Dramas, TV Mysteries   \n",
       "\n",
       "                                         description  \n",
       "0  As her father nears the end of his life, filmm...  \n",
       "1  After crossing paths at a party, a Cape Town t...  "
      ]
     },
     "execution_count": 70,
     "metadata": {},
     "output_type": "execute_result"
    }
   ],
   "source": [
    "df.head(2)"
   ]
  },
  {
   "cell_type": "code",
   "execution_count": 71,
   "id": "566e498e-55b8-4c8e-b378-a397301f1898",
   "metadata": {},
   "outputs": [
    {
     "data": {
      "text/plain": [
       "January 1, 2020      109\n",
       "November 1, 2019      89\n",
       "March 1, 2018         75\n",
       "December 31, 2019     74\n",
       "October 1, 2018       71\n",
       "                    ... \n",
       "December 4, 2016       1\n",
       "November 21, 2016      1\n",
       "November 19, 2016      1\n",
       "November 17, 2016      1\n",
       "January 11, 2020       1\n",
       "Name: date_added, Length: 1767, dtype: int64"
      ]
     },
     "execution_count": 71,
     "metadata": {},
     "output_type": "execute_result"
    }
   ],
   "source": [
    "df['date_added'].value_counts()"
   ]
  },
  {
   "cell_type": "markdown",
   "id": "fbe6a9ca-b0ed-4ca4-858d-fd4c3de1ba52",
   "metadata": {},
   "source": [
    "# how to extract month from date_added column"
   ]
  },
  {
   "cell_type": "code",
   "execution_count": 72,
   "id": "90ade82e-52bc-4915-9b07-2981c94aa9ae",
   "metadata": {},
   "outputs": [],
   "source": [
    "df['month'] = pd.DatetimeIndex(df['date_added']).month"
   ]
  },
  {
   "cell_type": "code",
   "execution_count": 73,
   "id": "cae73a57-8cb4-4e90-8cd6-3cb03cab0141",
   "metadata": {},
   "outputs": [
    {
     "data": {
      "text/plain": [
       "Text(0.5, 1.0, 'Month Wise release')"
      ]
     },
     "execution_count": 73,
     "metadata": {},
     "output_type": "execute_result"
    },
    {
     "data": {
      "image/png": "[encoded data removed]",
      "text/plain": [
       "<Figure size 936x504 with 1 Axes>"
      ]
     },
     "metadata": {},
     "output_type": "display_data"
    }
   ],
   "source": [
    "plt.figure(figsize= (13, 7))\n",
    "x = sns.countplot(x = 'month', data = df)\n",
    "x.set_xticklabels(['January','February','March','April',\n",
    "                   'May','June','July','August','September','October','November','December'])\n",
    "plt.xlabel('No of months')\n",
    "plt.ylabel('No of movies')\n",
    "plt.title('Month Wise release')\n"
   ]
  },
  {
   "cell_type": "code",
   "execution_count": null,
   "id": "67f659c2-afd8-4a8d-bc78-b9be5d6a1017",
   "metadata": {},
   "outputs": [],
   "source": []
  }
 ],
 "metadata": {
  "kernelspec": {
   "display_name": "Python 3 (ipykernel)",
   "language": "python",
   "name": "python3"
  },
  "language_info": {
   "codemirror_mode": {
    "name": "ipython",
    "version": 3
   },
   "file_extension": ".py",
   "mimetype": "text/x-python",
   "name": "python",
   "nbconvert_exporter": "python",
   "pygments_lexer": "ipython3",
   "version": "3.10.5"
  }
 },
 "nbformat": 4,
 "nbformat_minor": 5
}
