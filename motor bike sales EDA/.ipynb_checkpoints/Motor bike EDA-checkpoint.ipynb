{
 "cells": [
  {
   "cell_type": "code",
   "execution_count": 213,
   "id": "61d2c071-6e3a-49bb-9bbb-25d1e9fc87a3",
   "metadata": {},
   "outputs": [],
   "source": [
    "import numpy as np\n",
    "import pandas as pd\n",
    "import matplotlib.pyplot as plt\n",
    "import seaborn as sns \n",
    "import warnings"
   ]
  },
  {
   "cell_type": "code",
   "execution_count": 214,
   "id": "b9426049-5131-4510-b172-de58ae65aed3",
   "metadata": {},
   "outputs": [],
   "source": [
    "df = pd.read_csv('bikes.csv')"
   ]
  },
  {
   "cell_type": "code",
   "execution_count": 215,
   "id": "a0acfc5b-401e-4f8a-8310-55770171ee8e",
   "metadata": {},
   "outputs": [
    {
     "data": {
      "text/html": [
       "<div>\n",
       "<style scoped>\n",
       "    .dataframe tbody tr th:only-of-type {\n",
       "        vertical-align: middle;\n",
       "    }\n",
       "\n",
       "    .dataframe tbody tr th {\n",
       "        vertical-align: top;\n",
       "    }\n",
       "\n",
       "    .dataframe thead th {\n",
       "        text-align: right;\n",
       "    }\n",
       "</style>\n",
       "<table border=\"1\" class=\"dataframe\">\n",
       "  <thead>\n",
       "    <tr style=\"text-align: right;\">\n",
       "      <th></th>\n",
       "      <th>Unnamed: 0</th>\n",
       "      <th>Model Name</th>\n",
       "      <th>Price</th>\n",
       "      <th>CC</th>\n",
       "      <th>Mileage</th>\n",
       "      <th>Weight</th>\n",
       "      <th>Links</th>\n",
       "    </tr>\n",
       "  </thead>\n",
       "  <tbody>\n",
       "    <tr>\n",
       "      <th>0</th>\n",
       "      <td>0</td>\n",
       "      <td>Royal Enfield Himalayan</td>\n",
       "      <td>₹ 2,10,784</td>\n",
       "      <td>411.0 CC</td>\n",
       "      <td>45 Km/l</td>\n",
       "      <td>191 Kg</td>\n",
       "      <td>https://www.carandbike.com/royal-enfield-bikes...</td>\n",
       "    </tr>\n",
       "    <tr>\n",
       "      <th>1</th>\n",
       "      <td>1</td>\n",
       "      <td>Royal Enfield Classic Chrome</td>\n",
       "      <td>₹ 1,88,868</td>\n",
       "      <td>499.0 CC</td>\n",
       "      <td>27 Km/l</td>\n",
       "      <td>194 Kg</td>\n",
       "      <td>https://www.carandbike.com/royal-enfield-bikes...</td>\n",
       "    </tr>\n",
       "    <tr>\n",
       "      <th>2</th>\n",
       "      <td>2</td>\n",
       "      <td>Royal Enfield Meteor 350</td>\n",
       "      <td>₹ 2,05,844</td>\n",
       "      <td>349.0 CC</td>\n",
       "      <td>41.88 Km/l</td>\n",
       "      <td>183 Kg</td>\n",
       "      <td>https://www.carandbike.com/royal-enfield-bikes...</td>\n",
       "    </tr>\n",
       "    <tr>\n",
       "      <th>3</th>\n",
       "      <td>3</td>\n",
       "      <td>Royal Enfield Bullet 350</td>\n",
       "      <td>₹ 1,27,094</td>\n",
       "      <td>346.0 CC</td>\n",
       "      <td>45 Km/l</td>\n",
       "      <td>183 Kg</td>\n",
       "      <td>https://www.carandbike.com/royal-enfield-bikes...</td>\n",
       "    </tr>\n",
       "    <tr>\n",
       "      <th>4</th>\n",
       "      <td>4</td>\n",
       "      <td>Hero Splendor +</td>\n",
       "      <td>₹ 69,380</td>\n",
       "      <td>97.2 CC</td>\n",
       "      <td>70 Km/l</td>\n",
       "      <td>110 Kg</td>\n",
       "      <td>https://www.carandbike.com/hero-bikes/splendor...</td>\n",
       "    </tr>\n",
       "  </tbody>\n",
       "</table>\n",
       "</div>"
      ],
      "text/plain": [
       "   Unnamed: 0                    Model Name       Price        CC     Mileage  \\\n",
       "0           0       Royal Enfield Himalayan  ₹ 2,10,784  411.0 CC     45 Km/l   \n",
       "1           1  Royal Enfield Classic Chrome  ₹ 1,88,868  499.0 CC     27 Km/l   \n",
       "2           2      Royal Enfield Meteor 350  ₹ 2,05,844  349.0 CC  41.88 Km/l   \n",
       "3           3      Royal Enfield Bullet 350  ₹ 1,27,094  346.0 CC     45 Km/l   \n",
       "4           4               Hero Splendor +    ₹ 69,380   97.2 CC     70 Km/l   \n",
       "\n",
       "   Weight                                              Links  \n",
       "0  191 Kg  https://www.carandbike.com/royal-enfield-bikes...  \n",
       "1  194 Kg  https://www.carandbike.com/royal-enfield-bikes...  \n",
       "2  183 Kg  https://www.carandbike.com/royal-enfield-bikes...  \n",
       "3  183 Kg  https://www.carandbike.com/royal-enfield-bikes...  \n",
       "4  110 Kg  https://www.carandbike.com/hero-bikes/splendor...  "
      ]
     },
     "execution_count": 215,
     "metadata": {},
     "output_type": "execute_result"
    }
   ],
   "source": [
    "df.head()"
   ]
  },
  {
   "cell_type": "code",
   "execution_count": 216,
   "id": "450c9731-c59f-4be4-9a03-54175e7735a6",
   "metadata": {},
   "outputs": [
    {
     "data": {
      "text/plain": [
       "(3589, 7)"
      ]
     },
     "execution_count": 216,
     "metadata": {},
     "output_type": "execute_result"
    }
   ],
   "source": [
    "df.shape"
   ]
  },
  {
   "cell_type": "markdown",
   "id": "76118b84-c66d-472b-9194-c0e970bbda37",
   "metadata": {},
   "source": [
    "# similar columns so drop unnamed: 0 columns"
   ]
  },
  {
   "cell_type": "code",
   "execution_count": 217,
   "id": "27a09bb5-9ffb-4be8-963a-6f4f562a8eb4",
   "metadata": {},
   "outputs": [],
   "source": [
    "df.drop(['Unnamed: 0'], axis = 1, inplace = True) "
   ]
  },
  {
   "cell_type": "code",
   "execution_count": 218,
   "id": "c1ddb28c-26b7-4bbe-aeea-6029a5a16d7d",
   "metadata": {},
   "outputs": [
    {
     "data": {
      "text/html": [
       "<div>\n",
       "<style scoped>\n",
       "    .dataframe tbody tr th:only-of-type {\n",
       "        vertical-align: middle;\n",
       "    }\n",
       "\n",
       "    .dataframe tbody tr th {\n",
       "        vertical-align: top;\n",
       "    }\n",
       "\n",
       "    .dataframe thead th {\n",
       "        text-align: right;\n",
       "    }\n",
       "</style>\n",
       "<table border=\"1\" class=\"dataframe\">\n",
       "  <thead>\n",
       "    <tr style=\"text-align: right;\">\n",
       "      <th></th>\n",
       "      <th>Model Name</th>\n",
       "      <th>Price</th>\n",
       "      <th>CC</th>\n",
       "      <th>Mileage</th>\n",
       "      <th>Weight</th>\n",
       "      <th>Links</th>\n",
       "    </tr>\n",
       "  </thead>\n",
       "  <tbody>\n",
       "    <tr>\n",
       "      <th>0</th>\n",
       "      <td>Royal Enfield Himalayan</td>\n",
       "      <td>₹ 2,10,784</td>\n",
       "      <td>411.0 CC</td>\n",
       "      <td>45 Km/l</td>\n",
       "      <td>191 Kg</td>\n",
       "      <td>https://www.carandbike.com/royal-enfield-bikes...</td>\n",
       "    </tr>\n",
       "    <tr>\n",
       "      <th>1</th>\n",
       "      <td>Royal Enfield Classic Chrome</td>\n",
       "      <td>₹ 1,88,868</td>\n",
       "      <td>499.0 CC</td>\n",
       "      <td>27 Km/l</td>\n",
       "      <td>194 Kg</td>\n",
       "      <td>https://www.carandbike.com/royal-enfield-bikes...</td>\n",
       "    </tr>\n",
       "    <tr>\n",
       "      <th>2</th>\n",
       "      <td>Royal Enfield Meteor 350</td>\n",
       "      <td>₹ 2,05,844</td>\n",
       "      <td>349.0 CC</td>\n",
       "      <td>41.88 Km/l</td>\n",
       "      <td>183 Kg</td>\n",
       "      <td>https://www.carandbike.com/royal-enfield-bikes...</td>\n",
       "    </tr>\n",
       "    <tr>\n",
       "      <th>3</th>\n",
       "      <td>Royal Enfield Bullet 350</td>\n",
       "      <td>₹ 1,27,094</td>\n",
       "      <td>346.0 CC</td>\n",
       "      <td>45 Km/l</td>\n",
       "      <td>183 Kg</td>\n",
       "      <td>https://www.carandbike.com/royal-enfield-bikes...</td>\n",
       "    </tr>\n",
       "    <tr>\n",
       "      <th>4</th>\n",
       "      <td>Hero Splendor +</td>\n",
       "      <td>₹ 69,380</td>\n",
       "      <td>97.2 CC</td>\n",
       "      <td>70 Km/l</td>\n",
       "      <td>110 Kg</td>\n",
       "      <td>https://www.carandbike.com/hero-bikes/splendor...</td>\n",
       "    </tr>\n",
       "  </tbody>\n",
       "</table>\n",
       "</div>"
      ],
      "text/plain": [
       "                     Model Name       Price        CC     Mileage  Weight  \\\n",
       "0       Royal Enfield Himalayan  ₹ 2,10,784  411.0 CC     45 Km/l  191 Kg   \n",
       "1  Royal Enfield Classic Chrome  ₹ 1,88,868  499.0 CC     27 Km/l  194 Kg   \n",
       "2      Royal Enfield Meteor 350  ₹ 2,05,844  349.0 CC  41.88 Km/l  183 Kg   \n",
       "3      Royal Enfield Bullet 350  ₹ 1,27,094  346.0 CC     45 Km/l  183 Kg   \n",
       "4               Hero Splendor +    ₹ 69,380   97.2 CC     70 Km/l  110 Kg   \n",
       "\n",
       "                                               Links  \n",
       "0  https://www.carandbike.com/royal-enfield-bikes...  \n",
       "1  https://www.carandbike.com/royal-enfield-bikes...  \n",
       "2  https://www.carandbike.com/royal-enfield-bikes...  \n",
       "3  https://www.carandbike.com/royal-enfield-bikes...  \n",
       "4  https://www.carandbike.com/hero-bikes/splendor...  "
      ]
     },
     "execution_count": 218,
     "metadata": {},
     "output_type": "execute_result"
    }
   ],
   "source": [
    "df.head(5)"
   ]
  },
  {
   "cell_type": "markdown",
   "id": "3186d8b7-6ce2-4a5f-bb9a-75941b11ac3d",
   "metadata": {},
   "source": [
    "# give name for index column."
   ]
  },
  {
   "cell_type": "code",
   "execution_count": 219,
   "id": "13dcf4df-a0e2-4c92-a767-3b416e7a9609",
   "metadata": {},
   "outputs": [],
   "source": [
    "df.index.name = 'Serial No'"
   ]
  },
  {
   "cell_type": "code",
   "execution_count": 220,
   "id": "9805bca0-ea4f-4e4f-b3a8-aacee40af071",
   "metadata": {},
   "outputs": [
    {
     "data": {
      "text/html": [
       "<div>\n",
       "<style scoped>\n",
       "    .dataframe tbody tr th:only-of-type {\n",
       "        vertical-align: middle;\n",
       "    }\n",
       "\n",
       "    .dataframe tbody tr th {\n",
       "        vertical-align: top;\n",
       "    }\n",
       "\n",
       "    .dataframe thead th {\n",
       "        text-align: right;\n",
       "    }\n",
       "</style>\n",
       "<table border=\"1\" class=\"dataframe\">\n",
       "  <thead>\n",
       "    <tr style=\"text-align: right;\">\n",
       "      <th></th>\n",
       "      <th>Model Name</th>\n",
       "      <th>Price</th>\n",
       "      <th>CC</th>\n",
       "      <th>Mileage</th>\n",
       "      <th>Weight</th>\n",
       "      <th>Links</th>\n",
       "    </tr>\n",
       "    <tr>\n",
       "      <th>Serial No</th>\n",
       "      <th></th>\n",
       "      <th></th>\n",
       "      <th></th>\n",
       "      <th></th>\n",
       "      <th></th>\n",
       "      <th></th>\n",
       "    </tr>\n",
       "  </thead>\n",
       "  <tbody>\n",
       "    <tr>\n",
       "      <th>0</th>\n",
       "      <td>Royal Enfield Himalayan</td>\n",
       "      <td>₹ 2,10,784</td>\n",
       "      <td>411.0 CC</td>\n",
       "      <td>45 Km/l</td>\n",
       "      <td>191 Kg</td>\n",
       "      <td>https://www.carandbike.com/royal-enfield-bikes...</td>\n",
       "    </tr>\n",
       "    <tr>\n",
       "      <th>1</th>\n",
       "      <td>Royal Enfield Classic Chrome</td>\n",
       "      <td>₹ 1,88,868</td>\n",
       "      <td>499.0 CC</td>\n",
       "      <td>27 Km/l</td>\n",
       "      <td>194 Kg</td>\n",
       "      <td>https://www.carandbike.com/royal-enfield-bikes...</td>\n",
       "    </tr>\n",
       "  </tbody>\n",
       "</table>\n",
       "</div>"
      ],
      "text/plain": [
       "                             Model Name       Price        CC  Mileage  \\\n",
       "Serial No                                                                \n",
       "0               Royal Enfield Himalayan  ₹ 2,10,784  411.0 CC  45 Km/l   \n",
       "1          Royal Enfield Classic Chrome  ₹ 1,88,868  499.0 CC  27 Km/l   \n",
       "\n",
       "           Weight                                              Links  \n",
       "Serial No                                                             \n",
       "0          191 Kg  https://www.carandbike.com/royal-enfield-bikes...  \n",
       "1          194 Kg  https://www.carandbike.com/royal-enfield-bikes...  "
      ]
     },
     "execution_count": 220,
     "metadata": {},
     "output_type": "execute_result"
    }
   ],
   "source": [
    "df.head(2)"
   ]
  },
  {
   "cell_type": "markdown",
   "id": "d95e69a4-a645-48bc-bd0a-f223f9e915fe",
   "metadata": {},
   "source": [
    "# if you want to change or rename any columns u can use rename() function."
   ]
  },
  {
   "cell_type": "code",
   "execution_count": 221,
   "id": "907cec27-bc61-4781-ad32-a1acad2f858b",
   "metadata": {},
   "outputs": [],
   "source": [
    "# df.rename(columns = {'Price' : 'Amount'}).head(2)"
   ]
  },
  {
   "cell_type": "code",
   "execution_count": 222,
   "id": "9c99bd5e-e5ab-4135-b51c-03439c02565d",
   "metadata": {},
   "outputs": [
    {
     "data": {
      "text/html": [
       "<div>\n",
       "<style scoped>\n",
       "    .dataframe tbody tr th:only-of-type {\n",
       "        vertical-align: middle;\n",
       "    }\n",
       "\n",
       "    .dataframe tbody tr th {\n",
       "        vertical-align: top;\n",
       "    }\n",
       "\n",
       "    .dataframe thead th {\n",
       "        text-align: right;\n",
       "    }\n",
       "</style>\n",
       "<table border=\"1\" class=\"dataframe\">\n",
       "  <thead>\n",
       "    <tr style=\"text-align: right;\">\n",
       "      <th></th>\n",
       "      <th>Model Name</th>\n",
       "      <th>Price</th>\n",
       "      <th>CC</th>\n",
       "      <th>Mileage</th>\n",
       "      <th>Weight</th>\n",
       "      <th>Links</th>\n",
       "    </tr>\n",
       "    <tr>\n",
       "      <th>Serial No</th>\n",
       "      <th></th>\n",
       "      <th></th>\n",
       "      <th></th>\n",
       "      <th></th>\n",
       "      <th></th>\n",
       "      <th></th>\n",
       "    </tr>\n",
       "  </thead>\n",
       "  <tbody>\n",
       "    <tr>\n",
       "      <th>0</th>\n",
       "      <td>Royal Enfield Himalayan</td>\n",
       "      <td>₹ 2,10,784</td>\n",
       "      <td>411.0 CC</td>\n",
       "      <td>45 Km/l</td>\n",
       "      <td>191 Kg</td>\n",
       "      <td>https://www.carandbike.com/royal-enfield-bikes...</td>\n",
       "    </tr>\n",
       "    <tr>\n",
       "      <th>1</th>\n",
       "      <td>Royal Enfield Classic Chrome</td>\n",
       "      <td>₹ 1,88,868</td>\n",
       "      <td>499.0 CC</td>\n",
       "      <td>27 Km/l</td>\n",
       "      <td>194 Kg</td>\n",
       "      <td>https://www.carandbike.com/royal-enfield-bikes...</td>\n",
       "    </tr>\n",
       "    <tr>\n",
       "      <th>2</th>\n",
       "      <td>Royal Enfield Meteor 350</td>\n",
       "      <td>₹ 2,05,844</td>\n",
       "      <td>349.0 CC</td>\n",
       "      <td>41.88 Km/l</td>\n",
       "      <td>183 Kg</td>\n",
       "      <td>https://www.carandbike.com/royal-enfield-bikes...</td>\n",
       "    </tr>\n",
       "  </tbody>\n",
       "</table>\n",
       "</div>"
      ],
      "text/plain": [
       "                             Model Name       Price        CC     Mileage  \\\n",
       "Serial No                                                                   \n",
       "0               Royal Enfield Himalayan  ₹ 2,10,784  411.0 CC     45 Km/l   \n",
       "1          Royal Enfield Classic Chrome  ₹ 1,88,868  499.0 CC     27 Km/l   \n",
       "2              Royal Enfield Meteor 350  ₹ 2,05,844  349.0 CC  41.88 Km/l   \n",
       "\n",
       "           Weight                                              Links  \n",
       "Serial No                                                             \n",
       "0          191 Kg  https://www.carandbike.com/royal-enfield-bikes...  \n",
       "1          194 Kg  https://www.carandbike.com/royal-enfield-bikes...  \n",
       "2          183 Kg  https://www.carandbike.com/royal-enfield-bikes...  "
      ]
     },
     "execution_count": 222,
     "metadata": {},
     "output_type": "execute_result"
    }
   ],
   "source": [
    "df.head(3)"
   ]
  },
  {
   "cell_type": "code",
   "execution_count": 223,
   "id": "5663309e-92f4-44de-9f8d-e572f559bf58",
   "metadata": {},
   "outputs": [
    {
     "name": "stdout",
     "output_type": "stream",
     "text": [
      "<class 'pandas.core.frame.DataFrame'>\n",
      "RangeIndex: 3589 entries, 0 to 3588\n",
      "Data columns (total 6 columns):\n",
      " #   Column      Non-Null Count  Dtype \n",
      "---  ------      --------------  ----- \n",
      " 0   Model Name  3589 non-null   object\n",
      " 1   Price       3589 non-null   object\n",
      " 2   CC          3533 non-null   object\n",
      " 3   Mileage     3559 non-null   object\n",
      " 4   Weight      3589 non-null   object\n",
      " 5   Links       3589 non-null   object\n",
      "dtypes: object(6)\n",
      "memory usage: 168.4+ KB\n"
     ]
    }
   ],
   "source": [
    "df.info()"
   ]
  },
  {
   "cell_type": "code",
   "execution_count": 224,
   "id": "a9e0926b-1153-44fd-be75-c25469030e6b",
   "metadata": {},
   "outputs": [
    {
     "data": {
      "text/plain": [
       "Model Name     0\n",
       "Price          0\n",
       "CC            56\n",
       "Mileage       30\n",
       "Weight         0\n",
       "Links          0\n",
       "dtype: int64"
      ]
     },
     "execution_count": 224,
     "metadata": {},
     "output_type": "execute_result"
    }
   ],
   "source": [
    "df.isnull().sum()"
   ]
  },
  {
   "cell_type": "code",
   "execution_count": 225,
   "id": "6d8917d4-6a6c-4320-9832-6b9bbc8e922b",
   "metadata": {},
   "outputs": [
    {
     "data": {
      "text/plain": [
       "Model Name    0.000000\n",
       "Price         0.000000\n",
       "CC            1.560323\n",
       "Mileage       0.835887\n",
       "Weight        0.000000\n",
       "Links         0.000000\n",
       "dtype: float64"
      ]
     },
     "execution_count": 225,
     "metadata": {},
     "output_type": "execute_result"
    }
   ],
   "source": [
    "df.isnull().sum()/len(df)*100"
   ]
  },
  {
   "cell_type": "code",
   "execution_count": 226,
   "id": "c6fc8e3f-f69f-46b0-9de7-bbb41f937b59",
   "metadata": {},
   "outputs": [
    {
     "data": {
      "text/html": [
       "<div>\n",
       "<style scoped>\n",
       "    .dataframe tbody tr th:only-of-type {\n",
       "        vertical-align: middle;\n",
       "    }\n",
       "\n",
       "    .dataframe tbody tr th {\n",
       "        vertical-align: top;\n",
       "    }\n",
       "\n",
       "    .dataframe thead th {\n",
       "        text-align: right;\n",
       "    }\n",
       "</style>\n",
       "<table border=\"1\" class=\"dataframe\">\n",
       "  <thead>\n",
       "    <tr style=\"text-align: right;\">\n",
       "      <th></th>\n",
       "      <th>Model Name</th>\n",
       "      <th>Price</th>\n",
       "      <th>CC</th>\n",
       "      <th>Mileage</th>\n",
       "      <th>Weight</th>\n",
       "      <th>Links</th>\n",
       "    </tr>\n",
       "  </thead>\n",
       "  <tbody>\n",
       "    <tr>\n",
       "      <th>count</th>\n",
       "      <td>3589</td>\n",
       "      <td>3589</td>\n",
       "      <td>3533</td>\n",
       "      <td>3559</td>\n",
       "      <td>3589</td>\n",
       "      <td>3589</td>\n",
       "    </tr>\n",
       "    <tr>\n",
       "      <th>unique</th>\n",
       "      <td>361</td>\n",
       "      <td>344</td>\n",
       "      <td>130</td>\n",
       "      <td>123</td>\n",
       "      <td>183</td>\n",
       "      <td>361</td>\n",
       "    </tr>\n",
       "    <tr>\n",
       "      <th>top</th>\n",
       "      <td>Royal Enfield Himalayan</td>\n",
       "      <td>₹ 2,10,784</td>\n",
       "      <td>97.2 CC</td>\n",
       "      <td>45 Km/l</td>\n",
       "      <td>183 Kg</td>\n",
       "      <td>https://www.carandbike.com/royal-enfield-bikes...</td>\n",
       "    </tr>\n",
       "    <tr>\n",
       "      <th>freq</th>\n",
       "      <td>270</td>\n",
       "      <td>270</td>\n",
       "      <td>543</td>\n",
       "      <td>821</td>\n",
       "      <td>543</td>\n",
       "      <td>270</td>\n",
       "    </tr>\n",
       "  </tbody>\n",
       "</table>\n",
       "</div>"
      ],
      "text/plain": [
       "                     Model Name       Price       CC  Mileage  Weight  \\\n",
       "count                      3589        3589     3533     3559    3589   \n",
       "unique                      361         344      130      123     183   \n",
       "top     Royal Enfield Himalayan  ₹ 2,10,784  97.2 CC  45 Km/l  183 Kg   \n",
       "freq                        270         270      543      821     543   \n",
       "\n",
       "                                                    Links  \n",
       "count                                                3589  \n",
       "unique                                                361  \n",
       "top     https://www.carandbike.com/royal-enfield-bikes...  \n",
       "freq                                                  270  "
      ]
     },
     "execution_count": 226,
     "metadata": {},
     "output_type": "execute_result"
    }
   ],
   "source": [
    "df.describe()"
   ]
  },
  {
   "cell_type": "code",
   "execution_count": 227,
   "id": "6d30304e-4eb6-45c0-a464-53a1b53dbd3e",
   "metadata": {},
   "outputs": [
    {
     "data": {
      "text/plain": [
       "97.2 CC      543\n",
       "109.5 CC     542\n",
       "349.0 CC     540\n",
       "155.0 CC     275\n",
       "124.7 CC     274\n",
       "            ... \n",
       "799.0 CC       1\n",
       "124.5 CC       1\n",
       "765.0 CC       1\n",
       "1131.0 CC      1\n",
       "1078.0 CC      1\n",
       "Name: CC, Length: 130, dtype: int64"
      ]
     },
     "execution_count": 227,
     "metadata": {},
     "output_type": "execute_result"
    }
   ],
   "source": [
    "df['CC'].value_counts()"
   ]
  },
  {
   "cell_type": "code",
   "execution_count": 228,
   "id": "91ed7d37-7b20-4255-ae6b-658584db2e60",
   "metadata": {},
   "outputs": [
    {
     "data": {
      "text/html": [
       "<div>\n",
       "<style scoped>\n",
       "    .dataframe tbody tr th:only-of-type {\n",
       "        vertical-align: middle;\n",
       "    }\n",
       "\n",
       "    .dataframe tbody tr th {\n",
       "        vertical-align: top;\n",
       "    }\n",
       "\n",
       "    .dataframe thead th {\n",
       "        text-align: right;\n",
       "    }\n",
       "</style>\n",
       "<table border=\"1\" class=\"dataframe\">\n",
       "  <thead>\n",
       "    <tr style=\"text-align: right;\">\n",
       "      <th></th>\n",
       "      <th>Model Name</th>\n",
       "      <th>Price</th>\n",
       "      <th>CC</th>\n",
       "      <th>Mileage</th>\n",
       "      <th>Weight</th>\n",
       "      <th>Links</th>\n",
       "    </tr>\n",
       "    <tr>\n",
       "      <th>Serial No</th>\n",
       "      <th></th>\n",
       "      <th></th>\n",
       "      <th></th>\n",
       "      <th></th>\n",
       "      <th></th>\n",
       "      <th></th>\n",
       "    </tr>\n",
       "  </thead>\n",
       "  <tbody>\n",
       "    <tr>\n",
       "      <th>0</th>\n",
       "      <td>Royal Enfield Himalayan</td>\n",
       "      <td>₹ 2,10,784</td>\n",
       "      <td>411.0 CC</td>\n",
       "      <td>45 Km/l</td>\n",
       "      <td>191 Kg</td>\n",
       "      <td>https://www.carandbike.com/royal-enfield-bikes...</td>\n",
       "    </tr>\n",
       "    <tr>\n",
       "      <th>1</th>\n",
       "      <td>Royal Enfield Classic Chrome</td>\n",
       "      <td>₹ 1,88,868</td>\n",
       "      <td>499.0 CC</td>\n",
       "      <td>27 Km/l</td>\n",
       "      <td>194 Kg</td>\n",
       "      <td>https://www.carandbike.com/royal-enfield-bikes...</td>\n",
       "    </tr>\n",
       "    <tr>\n",
       "      <th>2</th>\n",
       "      <td>Royal Enfield Meteor 350</td>\n",
       "      <td>₹ 2,05,844</td>\n",
       "      <td>349.0 CC</td>\n",
       "      <td>41.88 Km/l</td>\n",
       "      <td>183 Kg</td>\n",
       "      <td>https://www.carandbike.com/royal-enfield-bikes...</td>\n",
       "    </tr>\n",
       "  </tbody>\n",
       "</table>\n",
       "</div>"
      ],
      "text/plain": [
       "                             Model Name       Price        CC     Mileage  \\\n",
       "Serial No                                                                   \n",
       "0               Royal Enfield Himalayan  ₹ 2,10,784  411.0 CC     45 Km/l   \n",
       "1          Royal Enfield Classic Chrome  ₹ 1,88,868  499.0 CC     27 Km/l   \n",
       "2              Royal Enfield Meteor 350  ₹ 2,05,844  349.0 CC  41.88 Km/l   \n",
       "\n",
       "           Weight                                              Links  \n",
       "Serial No                                                             \n",
       "0          191 Kg  https://www.carandbike.com/royal-enfield-bikes...  \n",
       "1          194 Kg  https://www.carandbike.com/royal-enfield-bikes...  \n",
       "2          183 Kg  https://www.carandbike.com/royal-enfield-bikes...  "
      ]
     },
     "execution_count": 228,
     "metadata": {},
     "output_type": "execute_result"
    }
   ],
   "source": [
    "df.head(3)"
   ]
  },
  {
   "cell_type": "code",
   "execution_count": 229,
   "id": "214ab0ae-b0c1-4686-b19d-86a52d4c6373",
   "metadata": {},
   "outputs": [
    {
     "data": {
      "text/plain": [
       "Royal Enfield Himalayan      270\n",
       "Royal Enfield Classic 350    270\n",
       "Hero HF Deluxe               270\n",
       "Honda SP 125                 270\n",
       "Honda Dio                    270\n",
       "                            ... \n",
       "Husqvarna Svartpilen 250       1\n",
       "Honda CB200X                   1\n",
       "Aprilia SR 150                 1\n",
       "Suzuki Gixxer                  1\n",
       "BGauss A2                      1\n",
       "Name: Model Name, Length: 361, dtype: int64"
      ]
     },
     "execution_count": 229,
     "metadata": {},
     "output_type": "execute_result"
    }
   ],
   "source": [
    "df['Model Name'].value_counts()"
   ]
  },
  {
   "cell_type": "markdown",
   "id": "9f967efe-6f87-4cc5-8ee5-ae7fc114e786",
   "metadata": {},
   "source": [
    "# check for any duplicate rows in dataset and drop it."
   ]
  },
  {
   "cell_type": "code",
   "execution_count": 230,
   "id": "1cb1ddab-a2cf-4a8d-bf28-b5b7681560d2",
   "metadata": {},
   "outputs": [
    {
     "data": {
      "text/html": [
       "<div>\n",
       "<style scoped>\n",
       "    .dataframe tbody tr th:only-of-type {\n",
       "        vertical-align: middle;\n",
       "    }\n",
       "\n",
       "    .dataframe tbody tr th {\n",
       "        vertical-align: top;\n",
       "    }\n",
       "\n",
       "    .dataframe thead th {\n",
       "        text-align: right;\n",
       "    }\n",
       "</style>\n",
       "<table border=\"1\" class=\"dataframe\">\n",
       "  <thead>\n",
       "    <tr style=\"text-align: right;\">\n",
       "      <th></th>\n",
       "      <th>Model Name</th>\n",
       "      <th>Price</th>\n",
       "      <th>CC</th>\n",
       "      <th>Mileage</th>\n",
       "      <th>Weight</th>\n",
       "      <th>Links</th>\n",
       "    </tr>\n",
       "    <tr>\n",
       "      <th>Serial No</th>\n",
       "      <th></th>\n",
       "      <th></th>\n",
       "      <th></th>\n",
       "      <th></th>\n",
       "      <th></th>\n",
       "      <th></th>\n",
       "    </tr>\n",
       "  </thead>\n",
       "  <tbody>\n",
       "    <tr>\n",
       "      <th>0</th>\n",
       "      <td>Royal Enfield Himalayan</td>\n",
       "      <td>₹ 2,10,784</td>\n",
       "      <td>411.0 CC</td>\n",
       "      <td>45 Km/l</td>\n",
       "      <td>191 Kg</td>\n",
       "      <td>https://www.carandbike.com/royal-enfield-bikes...</td>\n",
       "    </tr>\n",
       "    <tr>\n",
       "      <th>1</th>\n",
       "      <td>Royal Enfield Classic Chrome</td>\n",
       "      <td>₹ 1,88,868</td>\n",
       "      <td>499.0 CC</td>\n",
       "      <td>27 Km/l</td>\n",
       "      <td>194 Kg</td>\n",
       "      <td>https://www.carandbike.com/royal-enfield-bikes...</td>\n",
       "    </tr>\n",
       "    <tr>\n",
       "      <th>2</th>\n",
       "      <td>Royal Enfield Meteor 350</td>\n",
       "      <td>₹ 2,05,844</td>\n",
       "      <td>349.0 CC</td>\n",
       "      <td>41.88 Km/l</td>\n",
       "      <td>183 Kg</td>\n",
       "      <td>https://www.carandbike.com/royal-enfield-bikes...</td>\n",
       "    </tr>\n",
       "    <tr>\n",
       "      <th>3</th>\n",
       "      <td>Royal Enfield Bullet 350</td>\n",
       "      <td>₹ 1,27,094</td>\n",
       "      <td>346.0 CC</td>\n",
       "      <td>45 Km/l</td>\n",
       "      <td>183 Kg</td>\n",
       "      <td>https://www.carandbike.com/royal-enfield-bikes...</td>\n",
       "    </tr>\n",
       "    <tr>\n",
       "      <th>4</th>\n",
       "      <td>Hero Splendor +</td>\n",
       "      <td>₹ 69,380</td>\n",
       "      <td>97.2 CC</td>\n",
       "      <td>70 Km/l</td>\n",
       "      <td>110 Kg</td>\n",
       "      <td>https://www.carandbike.com/hero-bikes/splendor...</td>\n",
       "    </tr>\n",
       "  </tbody>\n",
       "</table>\n",
       "</div>"
      ],
      "text/plain": [
       "                             Model Name       Price        CC     Mileage  \\\n",
       "Serial No                                                                   \n",
       "0               Royal Enfield Himalayan  ₹ 2,10,784  411.0 CC     45 Km/l   \n",
       "1          Royal Enfield Classic Chrome  ₹ 1,88,868  499.0 CC     27 Km/l   \n",
       "2              Royal Enfield Meteor 350  ₹ 2,05,844  349.0 CC  41.88 Km/l   \n",
       "3              Royal Enfield Bullet 350  ₹ 1,27,094  346.0 CC     45 Km/l   \n",
       "4                       Hero Splendor +    ₹ 69,380   97.2 CC     70 Km/l   \n",
       "\n",
       "           Weight                                              Links  \n",
       "Serial No                                                             \n",
       "0          191 Kg  https://www.carandbike.com/royal-enfield-bikes...  \n",
       "1          194 Kg  https://www.carandbike.com/royal-enfield-bikes...  \n",
       "2          183 Kg  https://www.carandbike.com/royal-enfield-bikes...  \n",
       "3          183 Kg  https://www.carandbike.com/royal-enfield-bikes...  \n",
       "4          110 Kg  https://www.carandbike.com/hero-bikes/splendor...  "
      ]
     },
     "execution_count": 230,
     "metadata": {},
     "output_type": "execute_result"
    }
   ],
   "source": [
    "df.head()"
   ]
  },
  {
   "cell_type": "code",
   "execution_count": 231,
   "id": "96a290b5-c568-4568-8477-3c460e17233d",
   "metadata": {},
   "outputs": [
    {
     "data": {
      "text/plain": [
       "True     3228\n",
       "False     361\n",
       "dtype: int64"
      ]
     },
     "execution_count": 231,
     "metadata": {},
     "output_type": "execute_result"
    }
   ],
   "source": [
    "df.duplicated().value_counts()"
   ]
  },
  {
   "cell_type": "code",
   "execution_count": 232,
   "id": "673cf4c2-4c93-45fb-99d1-828597c8d0ca",
   "metadata": {},
   "outputs": [],
   "source": [
    "df.drop_duplicates(inplace = True)"
   ]
  },
  {
   "cell_type": "code",
   "execution_count": 233,
   "id": "5f236171-cae3-4215-906e-fc97aab0f8c7",
   "metadata": {},
   "outputs": [
    {
     "data": {
      "text/plain": [
       "(361, 6)"
      ]
     },
     "execution_count": 233,
     "metadata": {},
     "output_type": "execute_result"
    }
   ],
   "source": [
    "df.shape"
   ]
  },
  {
   "cell_type": "code",
   "execution_count": 234,
   "id": "6fd5bbe6-be3b-4eb9-8cce-872ccf8c5a2e",
   "metadata": {},
   "outputs": [
    {
     "data": {
      "text/html": [
       "<div>\n",
       "<style scoped>\n",
       "    .dataframe tbody tr th:only-of-type {\n",
       "        vertical-align: middle;\n",
       "    }\n",
       "\n",
       "    .dataframe tbody tr th {\n",
       "        vertical-align: top;\n",
       "    }\n",
       "\n",
       "    .dataframe thead th {\n",
       "        text-align: right;\n",
       "    }\n",
       "</style>\n",
       "<table border=\"1\" class=\"dataframe\">\n",
       "  <thead>\n",
       "    <tr style=\"text-align: right;\">\n",
       "      <th></th>\n",
       "      <th>Model Name</th>\n",
       "      <th>Price</th>\n",
       "      <th>CC</th>\n",
       "      <th>Mileage</th>\n",
       "      <th>Weight</th>\n",
       "      <th>Links</th>\n",
       "    </tr>\n",
       "    <tr>\n",
       "      <th>Serial No</th>\n",
       "      <th></th>\n",
       "      <th></th>\n",
       "      <th></th>\n",
       "      <th></th>\n",
       "      <th></th>\n",
       "      <th></th>\n",
       "    </tr>\n",
       "  </thead>\n",
       "  <tbody>\n",
       "    <tr>\n",
       "      <th>0</th>\n",
       "      <td>Royal Enfield Himalayan</td>\n",
       "      <td>₹ 2,10,784</td>\n",
       "      <td>411.0 CC</td>\n",
       "      <td>45 Km/l</td>\n",
       "      <td>191 Kg</td>\n",
       "      <td>https://www.carandbike.com/royal-enfield-bikes...</td>\n",
       "    </tr>\n",
       "    <tr>\n",
       "      <th>1</th>\n",
       "      <td>Royal Enfield Classic Chrome</td>\n",
       "      <td>₹ 1,88,868</td>\n",
       "      <td>499.0 CC</td>\n",
       "      <td>27 Km/l</td>\n",
       "      <td>194 Kg</td>\n",
       "      <td>https://www.carandbike.com/royal-enfield-bikes...</td>\n",
       "    </tr>\n",
       "    <tr>\n",
       "      <th>2</th>\n",
       "      <td>Royal Enfield Meteor 350</td>\n",
       "      <td>₹ 2,05,844</td>\n",
       "      <td>349.0 CC</td>\n",
       "      <td>41.88 Km/l</td>\n",
       "      <td>183 Kg</td>\n",
       "      <td>https://www.carandbike.com/royal-enfield-bikes...</td>\n",
       "    </tr>\n",
       "  </tbody>\n",
       "</table>\n",
       "</div>"
      ],
      "text/plain": [
       "                             Model Name       Price        CC     Mileage  \\\n",
       "Serial No                                                                   \n",
       "0               Royal Enfield Himalayan  ₹ 2,10,784  411.0 CC     45 Km/l   \n",
       "1          Royal Enfield Classic Chrome  ₹ 1,88,868  499.0 CC     27 Km/l   \n",
       "2              Royal Enfield Meteor 350  ₹ 2,05,844  349.0 CC  41.88 Km/l   \n",
       "\n",
       "           Weight                                              Links  \n",
       "Serial No                                                             \n",
       "0          191 Kg  https://www.carandbike.com/royal-enfield-bikes...  \n",
       "1          194 Kg  https://www.carandbike.com/royal-enfield-bikes...  \n",
       "2          183 Kg  https://www.carandbike.com/royal-enfield-bikes...  "
      ]
     },
     "execution_count": 234,
     "metadata": {},
     "output_type": "execute_result"
    }
   ],
   "source": [
    "df.head(3)"
   ]
  },
  {
   "cell_type": "markdown",
   "id": "4fb2b6d9-9966-47aa-bc3b-100c7e623d9a",
   "metadata": {},
   "source": [
    "# 1) Lets create a new column called brands from an existing column model name."
   ]
  },
  {
   "cell_type": "code",
   "execution_count": 235,
   "id": "70fc3c2b-94d9-4270-9a4c-bf388d9769e4",
   "metadata": {},
   "outputs": [],
   "source": [
    "df['Brand'] = df['Model Name'].apply(lambda x : x.split()[0])"
   ]
  },
  {
   "cell_type": "code",
   "execution_count": 236,
   "id": "3cc51aed-2ae3-4f80-b92d-1c33ca62cf80",
   "metadata": {},
   "outputs": [
    {
     "data": {
      "text/html": [
       "<div>\n",
       "<style scoped>\n",
       "    .dataframe tbody tr th:only-of-type {\n",
       "        vertical-align: middle;\n",
       "    }\n",
       "\n",
       "    .dataframe tbody tr th {\n",
       "        vertical-align: top;\n",
       "    }\n",
       "\n",
       "    .dataframe thead th {\n",
       "        text-align: right;\n",
       "    }\n",
       "</style>\n",
       "<table border=\"1\" class=\"dataframe\">\n",
       "  <thead>\n",
       "    <tr style=\"text-align: right;\">\n",
       "      <th></th>\n",
       "      <th>Model Name</th>\n",
       "      <th>Price</th>\n",
       "      <th>CC</th>\n",
       "      <th>Mileage</th>\n",
       "      <th>Weight</th>\n",
       "      <th>Links</th>\n",
       "      <th>Brand</th>\n",
       "    </tr>\n",
       "    <tr>\n",
       "      <th>Serial No</th>\n",
       "      <th></th>\n",
       "      <th></th>\n",
       "      <th></th>\n",
       "      <th></th>\n",
       "      <th></th>\n",
       "      <th></th>\n",
       "      <th></th>\n",
       "    </tr>\n",
       "  </thead>\n",
       "  <tbody>\n",
       "    <tr>\n",
       "      <th>0</th>\n",
       "      <td>Royal Enfield Himalayan</td>\n",
       "      <td>₹ 2,10,784</td>\n",
       "      <td>411.0 CC</td>\n",
       "      <td>45 Km/l</td>\n",
       "      <td>191 Kg</td>\n",
       "      <td>https://www.carandbike.com/royal-enfield-bikes...</td>\n",
       "      <td>Royal</td>\n",
       "    </tr>\n",
       "    <tr>\n",
       "      <th>1</th>\n",
       "      <td>Royal Enfield Classic Chrome</td>\n",
       "      <td>₹ 1,88,868</td>\n",
       "      <td>499.0 CC</td>\n",
       "      <td>27 Km/l</td>\n",
       "      <td>194 Kg</td>\n",
       "      <td>https://www.carandbike.com/royal-enfield-bikes...</td>\n",
       "      <td>Royal</td>\n",
       "    </tr>\n",
       "    <tr>\n",
       "      <th>2</th>\n",
       "      <td>Royal Enfield Meteor 350</td>\n",
       "      <td>₹ 2,05,844</td>\n",
       "      <td>349.0 CC</td>\n",
       "      <td>41.88 Km/l</td>\n",
       "      <td>183 Kg</td>\n",
       "      <td>https://www.carandbike.com/royal-enfield-bikes...</td>\n",
       "      <td>Royal</td>\n",
       "    </tr>\n",
       "    <tr>\n",
       "      <th>3</th>\n",
       "      <td>Royal Enfield Bullet 350</td>\n",
       "      <td>₹ 1,27,094</td>\n",
       "      <td>346.0 CC</td>\n",
       "      <td>45 Km/l</td>\n",
       "      <td>183 Kg</td>\n",
       "      <td>https://www.carandbike.com/royal-enfield-bikes...</td>\n",
       "      <td>Royal</td>\n",
       "    </tr>\n",
       "    <tr>\n",
       "      <th>4</th>\n",
       "      <td>Hero Splendor +</td>\n",
       "      <td>₹ 69,380</td>\n",
       "      <td>97.2 CC</td>\n",
       "      <td>70 Km/l</td>\n",
       "      <td>110 Kg</td>\n",
       "      <td>https://www.carandbike.com/hero-bikes/splendor...</td>\n",
       "      <td>Hero</td>\n",
       "    </tr>\n",
       "    <tr>\n",
       "      <th>...</th>\n",
       "      <td>...</td>\n",
       "      <td>...</td>\n",
       "      <td>...</td>\n",
       "      <td>...</td>\n",
       "      <td>...</td>\n",
       "      <td>...</td>\n",
       "      <td>...</td>\n",
       "    </tr>\n",
       "    <tr>\n",
       "      <th>368</th>\n",
       "      <td>22Kymco Flow</td>\n",
       "      <td>₹ 74,740</td>\n",
       "      <td>NaN</td>\n",
       "      <td>160 Km/Full Charge</td>\n",
       "      <td>85 Kg</td>\n",
       "      <td>https://www.carandbike.com/22kymco-bikes/flow</td>\n",
       "      <td>22Kymco</td>\n",
       "    </tr>\n",
       "    <tr>\n",
       "      <th>369</th>\n",
       "      <td>Odysse Racer</td>\n",
       "      <td>₹ 59,500</td>\n",
       "      <td>NaN</td>\n",
       "      <td>70 - 75 Km/Full Charge</td>\n",
       "      <td>100 Kg</td>\n",
       "      <td>https://www.carandbike.com/odysse-bikes/racer</td>\n",
       "      <td>Odysse</td>\n",
       "    </tr>\n",
       "    <tr>\n",
       "      <th>370</th>\n",
       "      <td>MV Agusta Brutale 1090</td>\n",
       "      <td>₹ 21,02,268</td>\n",
       "      <td>1078.0 CC</td>\n",
       "      <td>15 Km/l</td>\n",
       "      <td>183 Kg</td>\n",
       "      <td>https://www.carandbike.com/mv-agusta-bikes/bru...</td>\n",
       "      <td>MV</td>\n",
       "    </tr>\n",
       "    <tr>\n",
       "      <th>371</th>\n",
       "      <td>BMW F900XR</td>\n",
       "      <td>₹ 12,30,000</td>\n",
       "      <td>895.0 CC</td>\n",
       "      <td>24 Km/l</td>\n",
       "      <td>219 Kg</td>\n",
       "      <td>https://www.carandbike.com/bmw-bikes/f900xr</td>\n",
       "      <td>BMW</td>\n",
       "    </tr>\n",
       "    <tr>\n",
       "      <th>372</th>\n",
       "      <td>BGauss A2</td>\n",
       "      <td>₹ 52,499</td>\n",
       "      <td>NaN</td>\n",
       "      <td>110 Km/Full Charge</td>\n",
       "      <td>88 Kg</td>\n",
       "      <td>https://www.carandbike.com/bgauss-bikes/a2</td>\n",
       "      <td>BGauss</td>\n",
       "    </tr>\n",
       "  </tbody>\n",
       "</table>\n",
       "<p>361 rows × 7 columns</p>\n",
       "</div>"
      ],
      "text/plain": [
       "                             Model Name        Price         CC  \\\n",
       "Serial No                                                         \n",
       "0               Royal Enfield Himalayan   ₹ 2,10,784   411.0 CC   \n",
       "1          Royal Enfield Classic Chrome   ₹ 1,88,868   499.0 CC   \n",
       "2              Royal Enfield Meteor 350   ₹ 2,05,844   349.0 CC   \n",
       "3              Royal Enfield Bullet 350   ₹ 1,27,094   346.0 CC   \n",
       "4                       Hero Splendor +     ₹ 69,380    97.2 CC   \n",
       "...                                 ...          ...        ...   \n",
       "368                        22Kymco Flow     ₹ 74,740        NaN   \n",
       "369                        Odysse Racer     ₹ 59,500        NaN   \n",
       "370              MV Agusta Brutale 1090  ₹ 21,02,268  1078.0 CC   \n",
       "371                          BMW F900XR  ₹ 12,30,000   895.0 CC   \n",
       "372                           BGauss A2     ₹ 52,499        NaN   \n",
       "\n",
       "                          Mileage  Weight  \\\n",
       "Serial No                                   \n",
       "0                         45 Km/l  191 Kg   \n",
       "1                         27 Km/l  194 Kg   \n",
       "2                      41.88 Km/l  183 Kg   \n",
       "3                         45 Km/l  183 Kg   \n",
       "4                         70 Km/l  110 Kg   \n",
       "...                           ...     ...   \n",
       "368            160 Km/Full Charge   85 Kg   \n",
       "369        70 - 75 Km/Full Charge  100 Kg   \n",
       "370                       15 Km/l  183 Kg   \n",
       "371                       24 Km/l  219 Kg   \n",
       "372            110 Km/Full Charge   88 Kg   \n",
       "\n",
       "                                                       Links    Brand  \n",
       "Serial No                                                              \n",
       "0          https://www.carandbike.com/royal-enfield-bikes...    Royal  \n",
       "1          https://www.carandbike.com/royal-enfield-bikes...    Royal  \n",
       "2          https://www.carandbike.com/royal-enfield-bikes...    Royal  \n",
       "3          https://www.carandbike.com/royal-enfield-bikes...    Royal  \n",
       "4          https://www.carandbike.com/hero-bikes/splendor...     Hero  \n",
       "...                                                      ...      ...  \n",
       "368            https://www.carandbike.com/22kymco-bikes/flow  22Kymco  \n",
       "369            https://www.carandbike.com/odysse-bikes/racer   Odysse  \n",
       "370        https://www.carandbike.com/mv-agusta-bikes/bru...       MV  \n",
       "371              https://www.carandbike.com/bmw-bikes/f900xr      BMW  \n",
       "372               https://www.carandbike.com/bgauss-bikes/a2   BGauss  \n",
       "\n",
       "[361 rows x 7 columns]"
      ]
     },
     "execution_count": 236,
     "metadata": {},
     "output_type": "execute_result"
    }
   ],
   "source": [
    "df"
   ]
  },
  {
   "cell_type": "code",
   "execution_count": 237,
   "id": "f45251dd-f232-4ac1-8702-10b28a957f12",
   "metadata": {
    "tags": []
   },
   "outputs": [
    {
     "data": {
      "text/plain": [
       "array(['Royal Enfield Himalayan', 'Royal Enfield Classic Chrome',\n",
       "       'Royal Enfield Meteor 350', 'Royal Enfield Bullet 350',\n",
       "       'Hero Splendor +', 'Honda CB Shine', 'Honda Activa 6G',\n",
       "       'Royal Enfield Classic 350', 'Yamaha MT-15', 'Honda Dio',\n",
       "       'Honda SP 125', 'Hero HF Deluxe', 'Bajaj Pulsar 150',\n",
       "       'Hero Super Splendor', 'Bajaj Pulsar 125', 'Yamaha FZ S V3.0 FI',\n",
       "       'Bajaj Pulsar 220', 'Bajaj Pulsar NS 125', 'Hero Passion Pro i3S',\n",
       "       'KTM RC 125', 'Honda CB Unicorn 160', 'Yamaha MT-15 V2.0',\n",
       "       'Yamaha R15 V3.0', 'Hero Pleasure + 110', 'Hero HF Deluxe i3s',\n",
       "       'Hero Xtreme 160R', 'Hero Glamour 125', 'Hero XPulse 200 4V',\n",
       "       'Hero Maestro Edge', 'Royal Enfield Continental GT 650',\n",
       "       'Revolt RV400', 'Hero Splendor Pro', 'Royal Enfield Scram 411',\n",
       "       'Kawasaki Ninja H2R', 'Hero Xtreme 200S', 'Hero Splendor iSmart',\n",
       "       'Hero XPulse 200', 'TVS XL 100', 'Hero XPulse 200T',\n",
       "       'Royal Enfield Interceptor 650', 'Hero Maestro Edge 125',\n",
       "       'TVS Raider', 'Yamaha YZF R15 V4.0', 'Yamaha YZF R1',\n",
       "       'Honda CD 110 Dream', 'Bajaj Platina 110', 'Bajaj Pulsar 200 NS',\n",
       "       'TVS Apache RTR 160', 'Honda Hornet 2.0', 'KTM RC 200',\n",
       "       'Bajaj Platina 100', 'Suzuki Gixxer SF', 'TVS Jupiter',\n",
       "       'Yamaha Aerox 155', 'Bajaj Avenger Cruise 220', 'Honda Livo',\n",
       "       'Kawasaki Ninja 300', 'TVS Ntorq 125', 'Yamaha FZ 25',\n",
       "       'Honda X-Blade', 'Suzuki V-Strom SX 250', 'Honda Activa 125 FI',\n",
       "       'Bajaj CT 100', 'Hero HF 100', 'Suzuki New Access 125',\n",
       "       'Bajaj Pulsar NS160', 'KTM RC 390', 'Hero Electric Optima HX',\n",
       "       'JAWA Forty Two', 'Yamaha Fascino 125', 'Bajaj Pulsar 180',\n",
       "       'Hero Destini 125', 'Honda CB 350 RS', 'KTM 250 Duke',\n",
       "       'TVS Apache RTR 160 4V', 'BMW G 310 R', 'Revolt RV300',\n",
       "       'Yamaha Ray-ZR 125FI', 'TVS Radeon', 'Suzuki Hayabusa',\n",
       "       'Ather 450', 'KTM 390 Duke', 'Yamaha MT-09', 'TVS Sport',\n",
       "       'TVS iQube', 'Bajaj Pulsar N250', 'Benelli TNT 600i',\n",
       "       'Honda CBR 1000RR', 'Yezdi Roadster', 'Suzuki Avenis',\n",
       "       'TVS Scooty Pep +', 'TVS Apache RR 310', 'Ola Electric S1',\n",
       "       'KTM 200 Duke', 'Suzuki Gixxer SF 250', 'Kawasaki Ninja ZX-10R',\n",
       "       'BMW S 1000 RR', 'Suzuki Burgman', 'Tork Motors Kratos',\n",
       "       'Bajaj Dominar 250', 'TVS Star City +', 'TVS Apache RTR 180',\n",
       "       'Bajaj CT 110', 'Yamaha FZ-X', 'Bajaj Avenger Street 160',\n",
       "       'Hero Electric Photon HX', 'Kawasaki Ninja 650', 'TVS Victor',\n",
       "       'Atumobile Atum 1.0', 'Honda Grazia', 'Bajaj Chetak',\n",
       "       'Okinawa Praise', 'Oben Electric Rorr', 'Bajaj Avenger Street 220',\n",
       "       'JAWA Perak', 'Bajaj Pulsar RS 200', 'Piaggio Vespa',\n",
       "       'BMW R 1250 GS', 'Suzuki Intruder', 'KTM 125 Duke',\n",
       "       'Honda Gold Wing', 'TVS Jupiter 125', 'Suzuki Gixxer',\n",
       "       'Aprilia SR 150', 'Honda CB200X', 'Husqvarna Svartpilen 250',\n",
       "       'TVS Scooty Zest 110', 'Yamaha R15S V3.0', 'Kawasaki Ninja 400',\n",
       "       'Kawasaki Z900', 'Kawasaki Ninja 1000', 'Yamaha FZ V3.0 FI',\n",
       "       'Honda H Ness CB 350', 'Indian Scout Bobber', 'BMW R nine T',\n",
       "       'Yamaha Fazer 25', 'Kawasaki Ninja H2', 'JAWA 42',\n",
       "       'Bajaj Dominar 400 [2019]', 'Hero Electric NYX HX',\n",
       "       'TVS Apache RTR 200 4V', 'Kawasaki Z1000', 'Gravton Motors Quanta',\n",
       "       'Kawasaki Z250', 'BMW G 310 GS', 'Benelli Imperiale 400',\n",
       "       'Husqvarna Vitpilen 250', 'MV Agusta F3 800 RC', 'Yezdi Scrambler',\n",
       "       'Yamaha FZS 25', 'BMW R 1200', 'Harley-Davidson Fat Boy',\n",
       "       'BMW K 1600', 'Honda CB300R', 'Hero Electric Atria LX',\n",
       "       'Triumph Tiger 1200', 'Harley-Davidson Iron 883',\n",
       "       'Yezdi Adventure', 'Hero Electric Flash LX',\n",
       "       'Kawasaki Ninja ZX-10RR', 'KTM 250 Adventure', 'JAWA 300',\n",
       "       'Harley-Davidson CVO Limited', 'Honda CRF1000L Africa Twin',\n",
       "       'Okinawa Okhi 90', 'Kawasaki Ninja ZX-6R', 'Ducati Panigale V4',\n",
       "       'Honda CBR650R', 'BMW R 1250 GS Adventure',\n",
       "       'Harley-Davidson Roadster', 'Kawasaki KLX 110',\n",
       "       'TVS Apache RTR 165 RP', 'Ducati Monster 797', 'Aprilia SR 160',\n",
       "       'Kawasaki Z1000R', 'BMW S 1000 R', 'Odysse Evoqis',\n",
       "       'MV Agusta Brutale 800 RR', 'Bajaj Pulsar F250', 'Ampere V48',\n",
       "       'Ducati Monster 821', 'Kawasaki Ninja ZX-14R', 'Aprilia RSV4',\n",
       "       'BMW 850 GS', 'Kabira Mobility KM 3000', 'BMW 750 GS',\n",
       "       'Ampere Reo', 'KTM 790 Duke', 'Okinawa Ridge +',\n",
       "       'Harley-Davidson Forty-Eight', 'Ducati  Multistrada V2',\n",
       "       'Piaggio Vespa 150', 'Benelli TRK 251', 'Okinawa Lite',\n",
       "       'Aprilia Storm 125', 'Triumph Street Triple',\n",
       "       'Harley-Davidson Sportster S', 'Kawasaki Vulcan S',\n",
       "       'Ducati Scrambler', 'Indian Scout', 'Mahindra Mojo',\n",
       "       'Kawasaki Ninja H2 SX', 'Benelli Leoncino 250',\n",
       "       'Suzuki Gixxer 250', 'MV Agusta F4 RR', 'Moto Guzzi Audace',\n",
       "       'Indian Chief Vintage', 'Okaya Classiq', 'Kawasaki Ninja H2 SX SE',\n",
       "       'Ducati Diavel 1260', 'KTM 390 Adventure',\n",
       "       'Harley-Davidson Street Bob', 'Benelli Leoncino',\n",
       "       'Indian Scout Sixty', 'Honda CB 650 R', 'Ducati Hyperstrada',\n",
       "       'BMW K 1600 B', 'Kawasaki Versys X-300', 'Okinawa R30',\n",
       "       'Suzuki V-Strom 650XT', 'Okinawa i-Praise', 'Ampere Magnus',\n",
       "       'FB Mondial HPS 300', 'Honda CRF1100L Africa Twin',\n",
       "       'Ducati Monster', 'Simple Energy One', 'Benelli TRK 502',\n",
       "       'Ducati Scrambler 1100', 'Kawasaki KX250F',\n",
       "       'Indian Chief Dark Horse', 'TVS Apache RTR 200 FI E100',\n",
       "       'Odysse V2', 'Indian Roadmaster',\n",
       "       'Harley-Davidson Softail Low Rider', 'Ducati 959 Panigale',\n",
       "       'Okinawa Dual', 'BMW F900R', 'Kabira Mobility KM 4000',\n",
       "       'Harley-Davidson Softail Deluxe', 'Aprilia SR 125',\n",
       "       'Harley-Davidson 1200 Custom', 'BMW R 1200 GS Adventure',\n",
       "       'Ducati 1299 Panigale', 'Honda CB500X', 'Evolet Polo',\n",
       "       'Honda CB1000R +', 'MV Agusta Brutale 800',\n",
       "       'Ducati Multistrada 950', 'Ducati Multistrada 1260',\n",
       "       'Triumph Trident 660', 'Aprilia SXR 160', 'Kawasaki KLX 140G',\n",
       "       'MV Agusta Turismo Veloce 800', 'Kawasaki W800 Street',\n",
       "       'Moto Guzzi V9 Roamer', 'Triumph Tiger 900', 'Kawasaki KLX 450R',\n",
       "       'Ducati Monster 1200', 'CFMoto 300NK', 'Triumph Thruxton R',\n",
       "       'Li-ions Elektrik Spock', 'Polarity Executive', 'BMW R 1250 R',\n",
       "       'Benelli BN 302R', 'BMW S 1000 XR', 'Ampere Zeal Ex',\n",
       "       'BMW R 1200 RT', 'MV Agusta Dragster 800 RR', 'Kawasaki Z H2',\n",
       "       'Lohia Omastar', 'Indian FTR 1200', 'Triumph Bonneville Bobber',\n",
       "       'CFMoto 650NK', 'Ampere Magnus Pro', 'Triumph Bonneville T120',\n",
       "       'Ducati XDiavel', 'Ampere Zeal', 'BMW R nineT Scrambler',\n",
       "       'Triumph Bonneville T100', 'Indian Springfield', 'Kawasaki Z650',\n",
       "       'Avantura Choppers Pravega', 'Ducati Hypermotard',\n",
       "       'Polarity Sport', 'BGauss D15', 'CFMoto 650GT', 'BMW M 1000 RR',\n",
       "       'Ducati Multistrada 1200', 'BMW R 1200 RS',\n",
       "       'Ducati Scrambler Desert Sled', 'Aprilia RS 660',\n",
       "       'Triumph Street Scrambler', 'Evolet Pony', 'Triumph Rocket 3',\n",
       "       'Indian Chieftain', 'Benelli 502C', 'Triumph Tiger Sport 660',\n",
       "       'Cleveland Cyclewerks Misfit', 'Indian Roadmaster Elite',\n",
       "       'Ducati Multistrada 1200 Enduro', 'Nexzu Mobility Dextro',\n",
       "       'Harley-Davidson Street Glide Special', 'Bounce Infinity E1',\n",
       "       'Moto Guzzi Eldorado', 'BMW C 400 GT', 'Gemopai Astrid Lite',\n",
       "       'Ducati Multistrada V4', 'Aprilia SXR 125', 'Crayon Motors Envy',\n",
       "       'Triumph Speedmaster', 'Harley-Davidson Road King',\n",
       "       'Indian Chief Bobber Dark Horse', 'Kawasaki KX 450',\n",
       "       'One Moto Electa', 'BMW R 18', 'Triumph Scrambler 1200',\n",
       "       'Triumph Tiger 850 Sport', 'Kawasaki Z900RS', 'Evolet Derby',\n",
       "       'Kawasaki Versys 650', 'Harley-Davidson Fat Bob',\n",
       "       'Boom Motors Corbett-14', 'Ola Electric S1 Pro',\n",
       "       'Ducati SuperSport', 'Avantura Choppers Rudra',\n",
       "       'Kawasaki Versys 1000', 'Harley-Davidson Pan America 1250',\n",
       "       'Ducati Panigale V2', 'BMW R 1250 RT', 'Moto Guzzi MGX-21',\n",
       "       'Nexzu Mobility Dextro +', 'Kawasaki Z650RS',\n",
       "       'Triumph Speed Triple 1200 RS', 'Triumph Street Twin',\n",
       "       'Ducati StreetFighter V4', 'Kawasaki KX 100',\n",
       "       'Ducati Hypermotard 950', 'Moto Guzzi V9 Bobber',\n",
       "       'Aprilia Tuono 660', 'Ampere Reo Elite', 'BMW R 1200 R',\n",
       "       'Triumph  Speed Twin', 'Aprilia Tuono V4',\n",
       "       'Harley-Davidson Heritage Softail Classic', 'CFMoto 650MT',\n",
       "       'BMW K 1600 GTL', 'Indian Chieftain Dark Horse', 'BGauss B8',\n",
       "       'Moto Guzzi V85 TT', 'Indian Super Chief Limited',\n",
       "       'Indian Chief Classic', 'Earth Energy EV Glyde +',\n",
       "       'Cleveland Cyclewerks Ace Deluxe',\n",
       "       'Harley-Davidson Road Glide Special', 'EeVe Soul',\n",
       "       'Indian Chieftain Elite', '22Kymco Flow', 'Odysse Racer',\n",
       "       'MV Agusta Brutale 1090', 'BMW F900XR', 'BGauss A2'], dtype=object)"
      ]
     },
     "execution_count": 237,
     "metadata": {},
     "output_type": "execute_result"
    }
   ],
   "source": [
    "df['Model Name'].unique()"
   ]
  },
  {
   "cell_type": "markdown",
   "id": "9a846a57-b35f-4cfd-a2d8-d0453185201d",
   "metadata": {},
   "source": [
    "# 2) Lets replace brand name"
   ]
  },
  {
   "cell_type": "code",
   "execution_count": 238,
   "id": "32ef40a9-dc3d-4ef3-bed1-97a3a2b12fcc",
   "metadata": {},
   "outputs": [],
   "source": [
    "df['Brand']= df['Brand'].replace({'Royal': 'Royal Enfield'})"
   ]
  },
  {
   "cell_type": "code",
   "execution_count": 239,
   "id": "99d3cc17-3d0e-49f4-8a96-bdad7eb5dd7e",
   "metadata": {},
   "outputs": [
    {
     "data": {
      "text/html": [
       "<div>\n",
       "<style scoped>\n",
       "    .dataframe tbody tr th:only-of-type {\n",
       "        vertical-align: middle;\n",
       "    }\n",
       "\n",
       "    .dataframe tbody tr th {\n",
       "        vertical-align: top;\n",
       "    }\n",
       "\n",
       "    .dataframe thead th {\n",
       "        text-align: right;\n",
       "    }\n",
       "</style>\n",
       "<table border=\"1\" class=\"dataframe\">\n",
       "  <thead>\n",
       "    <tr style=\"text-align: right;\">\n",
       "      <th></th>\n",
       "      <th>Model Name</th>\n",
       "      <th>Price</th>\n",
       "      <th>CC</th>\n",
       "      <th>Mileage</th>\n",
       "      <th>Weight</th>\n",
       "      <th>Links</th>\n",
       "      <th>Brand</th>\n",
       "    </tr>\n",
       "    <tr>\n",
       "      <th>Serial No</th>\n",
       "      <th></th>\n",
       "      <th></th>\n",
       "      <th></th>\n",
       "      <th></th>\n",
       "      <th></th>\n",
       "      <th></th>\n",
       "      <th></th>\n",
       "    </tr>\n",
       "  </thead>\n",
       "  <tbody>\n",
       "    <tr>\n",
       "      <th>0</th>\n",
       "      <td>Royal Enfield Himalayan</td>\n",
       "      <td>₹ 2,10,784</td>\n",
       "      <td>411.0 CC</td>\n",
       "      <td>45 Km/l</td>\n",
       "      <td>191 Kg</td>\n",
       "      <td>https://www.carandbike.com/royal-enfield-bikes...</td>\n",
       "      <td>Royal Enfield</td>\n",
       "    </tr>\n",
       "    <tr>\n",
       "      <th>1</th>\n",
       "      <td>Royal Enfield Classic Chrome</td>\n",
       "      <td>₹ 1,88,868</td>\n",
       "      <td>499.0 CC</td>\n",
       "      <td>27 Km/l</td>\n",
       "      <td>194 Kg</td>\n",
       "      <td>https://www.carandbike.com/royal-enfield-bikes...</td>\n",
       "      <td>Royal Enfield</td>\n",
       "    </tr>\n",
       "    <tr>\n",
       "      <th>2</th>\n",
       "      <td>Royal Enfield Meteor 350</td>\n",
       "      <td>₹ 2,05,844</td>\n",
       "      <td>349.0 CC</td>\n",
       "      <td>41.88 Km/l</td>\n",
       "      <td>183 Kg</td>\n",
       "      <td>https://www.carandbike.com/royal-enfield-bikes...</td>\n",
       "      <td>Royal Enfield</td>\n",
       "    </tr>\n",
       "    <tr>\n",
       "      <th>3</th>\n",
       "      <td>Royal Enfield Bullet 350</td>\n",
       "      <td>₹ 1,27,094</td>\n",
       "      <td>346.0 CC</td>\n",
       "      <td>45 Km/l</td>\n",
       "      <td>183 Kg</td>\n",
       "      <td>https://www.carandbike.com/royal-enfield-bikes...</td>\n",
       "      <td>Royal Enfield</td>\n",
       "    </tr>\n",
       "    <tr>\n",
       "      <th>4</th>\n",
       "      <td>Hero Splendor +</td>\n",
       "      <td>₹ 69,380</td>\n",
       "      <td>97.2 CC</td>\n",
       "      <td>70 Km/l</td>\n",
       "      <td>110 Kg</td>\n",
       "      <td>https://www.carandbike.com/hero-bikes/splendor...</td>\n",
       "      <td>Hero</td>\n",
       "    </tr>\n",
       "    <tr>\n",
       "      <th>...</th>\n",
       "      <td>...</td>\n",
       "      <td>...</td>\n",
       "      <td>...</td>\n",
       "      <td>...</td>\n",
       "      <td>...</td>\n",
       "      <td>...</td>\n",
       "      <td>...</td>\n",
       "    </tr>\n",
       "    <tr>\n",
       "      <th>368</th>\n",
       "      <td>22Kymco Flow</td>\n",
       "      <td>₹ 74,740</td>\n",
       "      <td>NaN</td>\n",
       "      <td>160 Km/Full Charge</td>\n",
       "      <td>85 Kg</td>\n",
       "      <td>https://www.carandbike.com/22kymco-bikes/flow</td>\n",
       "      <td>22Kymco</td>\n",
       "    </tr>\n",
       "    <tr>\n",
       "      <th>369</th>\n",
       "      <td>Odysse Racer</td>\n",
       "      <td>₹ 59,500</td>\n",
       "      <td>NaN</td>\n",
       "      <td>70 - 75 Km/Full Charge</td>\n",
       "      <td>100 Kg</td>\n",
       "      <td>https://www.carandbike.com/odysse-bikes/racer</td>\n",
       "      <td>Odysse</td>\n",
       "    </tr>\n",
       "    <tr>\n",
       "      <th>370</th>\n",
       "      <td>MV Agusta Brutale 1090</td>\n",
       "      <td>₹ 21,02,268</td>\n",
       "      <td>1078.0 CC</td>\n",
       "      <td>15 Km/l</td>\n",
       "      <td>183 Kg</td>\n",
       "      <td>https://www.carandbike.com/mv-agusta-bikes/bru...</td>\n",
       "      <td>MV</td>\n",
       "    </tr>\n",
       "    <tr>\n",
       "      <th>371</th>\n",
       "      <td>BMW F900XR</td>\n",
       "      <td>₹ 12,30,000</td>\n",
       "      <td>895.0 CC</td>\n",
       "      <td>24 Km/l</td>\n",
       "      <td>219 Kg</td>\n",
       "      <td>https://www.carandbike.com/bmw-bikes/f900xr</td>\n",
       "      <td>BMW</td>\n",
       "    </tr>\n",
       "    <tr>\n",
       "      <th>372</th>\n",
       "      <td>BGauss A2</td>\n",
       "      <td>₹ 52,499</td>\n",
       "      <td>NaN</td>\n",
       "      <td>110 Km/Full Charge</td>\n",
       "      <td>88 Kg</td>\n",
       "      <td>https://www.carandbike.com/bgauss-bikes/a2</td>\n",
       "      <td>BGauss</td>\n",
       "    </tr>\n",
       "  </tbody>\n",
       "</table>\n",
       "<p>361 rows × 7 columns</p>\n",
       "</div>"
      ],
      "text/plain": [
       "                             Model Name        Price         CC  \\\n",
       "Serial No                                                         \n",
       "0               Royal Enfield Himalayan   ₹ 2,10,784   411.0 CC   \n",
       "1          Royal Enfield Classic Chrome   ₹ 1,88,868   499.0 CC   \n",
       "2              Royal Enfield Meteor 350   ₹ 2,05,844   349.0 CC   \n",
       "3              Royal Enfield Bullet 350   ₹ 1,27,094   346.0 CC   \n",
       "4                       Hero Splendor +     ₹ 69,380    97.2 CC   \n",
       "...                                 ...          ...        ...   \n",
       "368                        22Kymco Flow     ₹ 74,740        NaN   \n",
       "369                        Odysse Racer     ₹ 59,500        NaN   \n",
       "370              MV Agusta Brutale 1090  ₹ 21,02,268  1078.0 CC   \n",
       "371                          BMW F900XR  ₹ 12,30,000   895.0 CC   \n",
       "372                           BGauss A2     ₹ 52,499        NaN   \n",
       "\n",
       "                          Mileage  Weight  \\\n",
       "Serial No                                   \n",
       "0                         45 Km/l  191 Kg   \n",
       "1                         27 Km/l  194 Kg   \n",
       "2                      41.88 Km/l  183 Kg   \n",
       "3                         45 Km/l  183 Kg   \n",
       "4                         70 Km/l  110 Kg   \n",
       "...                           ...     ...   \n",
       "368            160 Km/Full Charge   85 Kg   \n",
       "369        70 - 75 Km/Full Charge  100 Kg   \n",
       "370                       15 Km/l  183 Kg   \n",
       "371                       24 Km/l  219 Kg   \n",
       "372            110 Km/Full Charge   88 Kg   \n",
       "\n",
       "                                                       Links          Brand  \n",
       "Serial No                                                                    \n",
       "0          https://www.carandbike.com/royal-enfield-bikes...  Royal Enfield  \n",
       "1          https://www.carandbike.com/royal-enfield-bikes...  Royal Enfield  \n",
       "2          https://www.carandbike.com/royal-enfield-bikes...  Royal Enfield  \n",
       "3          https://www.carandbike.com/royal-enfield-bikes...  Royal Enfield  \n",
       "4          https://www.carandbike.com/hero-bikes/splendor...           Hero  \n",
       "...                                                      ...            ...  \n",
       "368            https://www.carandbike.com/22kymco-bikes/flow        22Kymco  \n",
       "369            https://www.carandbike.com/odysse-bikes/racer         Odysse  \n",
       "370        https://www.carandbike.com/mv-agusta-bikes/bru...             MV  \n",
       "371              https://www.carandbike.com/bmw-bikes/f900xr            BMW  \n",
       "372               https://www.carandbike.com/bgauss-bikes/a2         BGauss  \n",
       "\n",
       "[361 rows x 7 columns]"
      ]
     },
     "execution_count": 239,
     "metadata": {},
     "output_type": "execute_result"
    }
   ],
   "source": [
    "df"
   ]
  },
  {
   "cell_type": "markdown",
   "id": "782e5448-706d-4a74-afd2-d697ebab8ebc",
   "metadata": {},
   "source": [
    "# 3) Lets extract price column"
   ]
  },
  {
   "cell_type": "code",
   "execution_count": 240,
   "id": "b420fc3d-f15c-43cf-beed-bed4df1e12d4",
   "metadata": {},
   "outputs": [
    {
     "data": {
      "text/plain": [
       "Serial No\n",
       "0       ₹ 2,10,784\n",
       "1       ₹ 1,88,868\n",
       "2       ₹ 2,05,844\n",
       "3       ₹ 1,27,094\n",
       "4         ₹ 69,380\n",
       "          ...     \n",
       "368       ₹ 74,740\n",
       "369       ₹ 59,500\n",
       "370    ₹ 21,02,268\n",
       "371    ₹ 12,30,000\n",
       "372       ₹ 52,499\n",
       "Name: Price, Length: 361, dtype: object"
      ]
     },
     "execution_count": 240,
     "metadata": {},
     "output_type": "execute_result"
    }
   ],
   "source": [
    "df['Price']"
   ]
  },
  {
   "cell_type": "code",
   "execution_count": 241,
   "id": "0f7c2a73-a960-4940-a871-507027e55634",
   "metadata": {},
   "outputs": [
    {
     "data": {
      "text/html": [
       "<div>\n",
       "<style scoped>\n",
       "    .dataframe tbody tr th:only-of-type {\n",
       "        vertical-align: middle;\n",
       "    }\n",
       "\n",
       "    .dataframe tbody tr th {\n",
       "        vertical-align: top;\n",
       "    }\n",
       "\n",
       "    .dataframe thead th {\n",
       "        text-align: right;\n",
       "    }\n",
       "</style>\n",
       "<table border=\"1\" class=\"dataframe\">\n",
       "  <thead>\n",
       "    <tr style=\"text-align: right;\">\n",
       "      <th></th>\n",
       "      <th>Model Name</th>\n",
       "      <th>Price</th>\n",
       "      <th>CC</th>\n",
       "      <th>Mileage</th>\n",
       "      <th>Weight</th>\n",
       "      <th>Links</th>\n",
       "      <th>Brand</th>\n",
       "    </tr>\n",
       "    <tr>\n",
       "      <th>Serial No</th>\n",
       "      <th></th>\n",
       "      <th></th>\n",
       "      <th></th>\n",
       "      <th></th>\n",
       "      <th></th>\n",
       "      <th></th>\n",
       "      <th></th>\n",
       "    </tr>\n",
       "  </thead>\n",
       "  <tbody>\n",
       "    <tr>\n",
       "      <th>0</th>\n",
       "      <td>Royal Enfield Himalayan</td>\n",
       "      <td>₹ 2,10,784</td>\n",
       "      <td>411.0 CC</td>\n",
       "      <td>45 Km/l</td>\n",
       "      <td>191 Kg</td>\n",
       "      <td>https://www.carandbike.com/royal-enfield-bikes...</td>\n",
       "      <td>Royal Enfield</td>\n",
       "    </tr>\n",
       "    <tr>\n",
       "      <th>1</th>\n",
       "      <td>Royal Enfield Classic Chrome</td>\n",
       "      <td>₹ 1,88,868</td>\n",
       "      <td>499.0 CC</td>\n",
       "      <td>27 Km/l</td>\n",
       "      <td>194 Kg</td>\n",
       "      <td>https://www.carandbike.com/royal-enfield-bikes...</td>\n",
       "      <td>Royal Enfield</td>\n",
       "    </tr>\n",
       "  </tbody>\n",
       "</table>\n",
       "</div>"
      ],
      "text/plain": [
       "                             Model Name       Price        CC  Mileage  \\\n",
       "Serial No                                                                \n",
       "0               Royal Enfield Himalayan  ₹ 2,10,784  411.0 CC  45 Km/l   \n",
       "1          Royal Enfield Classic Chrome  ₹ 1,88,868  499.0 CC  27 Km/l   \n",
       "\n",
       "           Weight                                              Links  \\\n",
       "Serial No                                                              \n",
       "0          191 Kg  https://www.carandbike.com/royal-enfield-bikes...   \n",
       "1          194 Kg  https://www.carandbike.com/royal-enfield-bikes...   \n",
       "\n",
       "                   Brand  \n",
       "Serial No                 \n",
       "0          Royal Enfield  \n",
       "1          Royal Enfield  "
      ]
     },
     "execution_count": 241,
     "metadata": {},
     "output_type": "execute_result"
    }
   ],
   "source": [
    "df.head(2)"
   ]
  },
  {
   "cell_type": "code",
   "execution_count": 242,
   "id": "6f599890-0c02-4bcf-a500-6d1bccb93a70",
   "metadata": {
    "tags": []
   },
   "outputs": [
    {
     "data": {
      "text/plain": [
       "array(['₹ 2,10,784', '₹ 1,88,868', '₹ 2,05,844', '₹ 1,27,094', '₹ 69,380',\n",
       "       '₹ 72,787', '₹ 69,645', '₹ 1,84,374', '₹ 1,44,900', '₹ 64,510',\n",
       "       '₹ 78,381', '₹ 48,950', '₹ 95,872', '₹ 73,900', '₹ 72,122',\n",
       "       '₹ 1,15,900', '₹ 1,23,245', '₹ 93,818', '₹ 67,400', '₹ 1,80,538',\n",
       "       '₹ 98,931', '₹ 1,60,900', '₹ 1,57,600', '₹ 61,900', '₹ 59,800',\n",
       "       '₹ 1,11,610', '₹ 74,900', '₹ 1,30,150', '₹ 65,900', '₹ 2,98,079',\n",
       "       '₹ 1,29,463', '₹ 49,598', '₹ 2,03,000', '₹ 79,90,000',\n",
       "       '₹ 1,20,214', '₹ 65,950', '₹ 1,18,230', '₹ 40,990', '₹ 1,15,800',\n",
       "       '₹ 2,81,518', '₹ 73,450', '₹ 84,573', '₹ 1,70,800', '₹ 20,39,233',\n",
       "       '₹ 65,248', '₹ 65,930', '₹ 1,31,219', '₹ 1,12,940', '₹ 1,32,238',\n",
       "       '₹ 2,13,000', '₹ 52,915', '₹ 1,29,300', '₹ 70,085', '₹ 1,29,000',\n",
       "       '₹ 1,22,630', '₹ 70,799', '₹ 3,37,000', '₹ 77,106', '₹ 1,34,800',\n",
       "       '₹ 1,11,895', '₹ 2,11,600', '₹ 72,637', '₹ 40,794', '₹ 49,400',\n",
       "       '₹ 72,600', '₹ 1,10,086', '₹ 3,14,000', '₹ 55,580', '₹ 1,71,415',\n",
       "       '₹ 70,000', '₹ 1,08,000', '₹ 67,990', '₹ 1,96,006', '₹ 2,28,736',\n",
       "       '₹ 1,11,565', '₹ 2,50,000', '₹ 1,14,264', '₹ 73,330', '₹ 59,942',\n",
       "       '₹ 16,40,000', '₹ 1,18,995', '₹ 2,87,545', '₹ 10,55,354',\n",
       "       '₹ 52,500', '₹ 1,66,358', '₹ 1,38,000', '₹ 6,20,000',\n",
       "       '₹ 16,43,309', '₹ 1,98,142', '₹ 86,500', '₹ 52,554', '₹ 2,59,000',\n",
       "       '₹ 85,099', '₹ 1,90,000', '₹ 1,81,900', '₹ 15,37,000',\n",
       "       '₹ 19,50,000', '₹ 84,300', '₹ 1,02,499', '₹ 1,54,176', '₹ 65,865',\n",
       "       '₹ 1,03,950', '₹ 46,413', '₹ 1,16,800', '₹ 1,01,094', '₹ 74,240',\n",
       "       '₹ 6,68,000', '₹ 54,042', '₹ 50,000', '₹ 82,566', '₹ 1,00,000',\n",
       "       '₹ 71,990', '₹ 1,02,999', '₹ 1,03,891', '₹ 2,08,187', '₹ 1,52,179',\n",
       "       '₹ 91,492', '₹ 20,45,000', '₹ 1,26,500', '₹ 1,76,000',\n",
       "       '₹ 39,71,822', '₹ 73,400', '₹ 1,18,800', '₹ 75,733', '₹ 1,44,500',\n",
       "       '₹ 2,18,000', '₹ 59,925', '₹ 1,58,939', '₹ 4,99,000', '₹ 8,50,000',\n",
       "       '₹ 11,51,000', '₹ 99,200', '₹ 1,96,239', '₹ 11,99,000',\n",
       "       '₹ 18,50,000', '₹ 1,44,180', '₹ 34,99,000', '₹ 1,93,142',\n",
       "       '₹ 2,02,755', '₹ 67,540', '₹ 1,29,315', '₹ 15,10,000', '₹ 99,000',\n",
       "       '₹ 3,08,000', '₹ 2,90,000', '₹ 1,89,799', '₹ 2,15,000',\n",
       "       '₹ 21,49,086', '₹ 2,04,900', '₹ 1,43,300', '₹ 15,85,000',\n",
       "       '₹ 18,25,000', '₹ 28,30,000', '₹ 2,77,000', '₹ 66,640',\n",
       "       '₹ 19,19,000', '₹ 9,38,000', '₹ 2,09,900', '₹ 59,640',\n",
       "       '₹ 16,98,000', '₹ 2,42,000', '₹ 1,80,415', '₹ 49,99,000',\n",
       "       '₹ 13,50,000', '₹ 1,03,866', '₹ 10,49,000', '₹ 23,50,000',\n",
       "       '₹ 9,35,000', '₹ 22,40,000', '₹ 10,99,000', '₹ 2,99,500',\n",
       "       '₹ 1,45,001', '₹ 8,03,000', '₹ 1,17,494', '₹ 16,10,000',\n",
       "       '₹ 17,90,000', '₹ 1,57,000', '₹ 20,52,356', '₹ 1,40,000',\n",
       "       '₹ 38,719', '₹ 19,70,000', '₹ 23,69,000', '₹ 12,50,000',\n",
       "       '₹ 1,26,990', '₹ 8,99,000', '₹ 44,838', '₹ 8,63,945', '₹ 64,998',\n",
       "       '₹ 10,61,000', '₹ 14,65,000', '₹ 1,22,664', '₹ 2,51,000',\n",
       "       '₹ 59,990', '₹ 85,431', '₹ 9,15,000', '₹ 15,51,000', '₹ 6,16,000',\n",
       "       '₹ 7,99,000', '₹ 12,69,500', '₹ 1,99,000', '₹ 22,89,000',\n",
       "       '₹ 1,71,200', '₹ 38,83,000', '₹ 23,14,000', '₹ 25,32,500',\n",
       "       '₹ 69,900', '₹ 28,19,000', '₹ 18,49,000', '₹ 3,35,000',\n",
       "       '₹ 12,59,000', '₹ 4,70,000', '₹ 10,99,500', '₹ 8,67,275',\n",
       "       '₹ 12,15,000', '₹ 28,10,000', '₹ 4,69,000', '₹ 58,992',\n",
       "       '₹ 8,84,000', '₹ 1,08,749', '₹ 45,999', '₹ 16,01,500',\n",
       "       '₹ 1,09,999', '₹ 4,86,000', '₹ 20,75,922', '₹ 1,20,000',\n",
       "       '₹ 75,000', '₹ 39,00,000', '₹ 13,75,000', '₹ 14,69,000',\n",
       "       '₹ 58,998', '₹ 10,80,000', '₹ 1,36,990', '₹ 18,65,000',\n",
       "       '₹ 1,07,595', '₹ 10,89,000', '₹ 17,25,000', '₹ 51,82,000',\n",
       "       '₹ 6,87,386', '₹ 44,499', '₹ 14,46,657', '₹ 16,98,553',\n",
       "       '₹ 15,49,000', '₹ 15,99,000', '₹ 7,45,000', '₹ 1,26,000',\n",
       "       '₹ 4,06,600', '₹ 20,80,665', '₹ 7,33,000', '₹ 14,79,000',\n",
       "       '₹ 13,70,000', '₹ 20,10,000', '₹ 2,29,000', '₹ 11,92,000',\n",
       "       '₹ 65,000', '₹ 38,000', '₹ 16,25,000', '₹ 3,10,000', '₹ 21,30,000',\n",
       "       '₹ 74,489', '₹ 18,35,000', '₹ 21,90,000', '₹ 40,850',\n",
       "       '₹ 12,25,000', '₹ 4,29,000', '₹ 79,966', '₹ 16,48,000', '₹ 74,490',\n",
       "       '₹ 16,75,000', '₹ 9,49,000', '₹ 33,50,000', '₹ 6,24,000',\n",
       "       '₹ 21,40,000', '₹ 11,12,000', '₹ 40,000', '₹ 99,999', '₹ 5,59,000',\n",
       "       '₹ 42,00,000', '₹ 15,32,000', '₹ 15,55,000', '₹ 9,80,000',\n",
       "       '₹ 13,39,000', '₹ 39,499', '₹ 19,90,000', '₹ 32,01,000',\n",
       "       '₹ 4,98,000', '₹ 8,95,000', '₹ 2,49,000', '₹ 48,00,000',\n",
       "       '₹ 17,99,000', '₹ 47,000', '₹ 30,53,000', '₹ 45,099',\n",
       "       '₹ 23,67,000', '₹ 9,95,000', '₹ 84,787', '₹ 18,99,000',\n",
       "       '₹ 1,15,000', '₹ 53,000', '₹ 11,95,000', '₹ 24,99,000',\n",
       "       '₹ 21,39,925', '₹ 8,59,000', '₹ 10,73,000', '₹ 15,70,000',\n",
       "       '₹ 46,499', '₹ 7,15,000', '₹ 14,59,000', '₹ 86,999', '₹ 1,20,149',\n",
       "       '₹ 13,49,000', '₹ 23,90,000', '₹ 11,72,000', '₹ 16,90,000',\n",
       "       '₹ 17,48,826', '₹ 22,50,000', '₹ 30,26,000', '₹ 66,500',\n",
       "       '₹ 6,72,000', '₹ 16,95,000', '₹ 7,95,000', '₹ 19,99,000',\n",
       "       '₹ 4,87,800', '₹ 14,02,278', '₹ 13,09,000', '₹ 47,264',\n",
       "       '₹ 15,05,000', '₹ 20,66,000', '₹ 19,71,000', '₹ 5,29,000',\n",
       "       '₹ 29,30,000', '₹ 29,99,000', '₹ 62,999', '₹ 15,40,000',\n",
       "       '₹ 22,82,155', '₹ 21,29,500', '₹ 92,000', '₹ 2,23,000',\n",
       "       '₹ 32,99,000', '₹ 38,00,000', '₹ 74,740', '₹ 59,500',\n",
       "       '₹ 21,02,268', '₹ 12,30,000', '₹ 52,499'], dtype=object)"
      ]
     },
     "execution_count": 242,
     "metadata": {},
     "output_type": "execute_result"
    }
   ],
   "source": [
    "df['Price'].unique()"
   ]
  },
  {
   "cell_type": "code",
   "execution_count": 243,
   "id": "85627c7e-bcda-4ba4-a0fd-6c3ae6dd52eb",
   "metadata": {},
   "outputs": [],
   "source": [
    "import re\n",
    "df['Price'] = df['Price'].apply(lambda x : float(''.join(re.findall(r'\\d+', x)))) "
   ]
  },
  {
   "cell_type": "code",
   "execution_count": 244,
   "id": "07aee522-1878-4260-9b96-d45e03d77bf7",
   "metadata": {},
   "outputs": [
    {
     "data": {
      "text/html": [
       "<div>\n",
       "<style scoped>\n",
       "    .dataframe tbody tr th:only-of-type {\n",
       "        vertical-align: middle;\n",
       "    }\n",
       "\n",
       "    .dataframe tbody tr th {\n",
       "        vertical-align: top;\n",
       "    }\n",
       "\n",
       "    .dataframe thead th {\n",
       "        text-align: right;\n",
       "    }\n",
       "</style>\n",
       "<table border=\"1\" class=\"dataframe\">\n",
       "  <thead>\n",
       "    <tr style=\"text-align: right;\">\n",
       "      <th></th>\n",
       "      <th>Model Name</th>\n",
       "      <th>Price</th>\n",
       "      <th>CC</th>\n",
       "      <th>Mileage</th>\n",
       "      <th>Weight</th>\n",
       "      <th>Links</th>\n",
       "      <th>Brand</th>\n",
       "    </tr>\n",
       "    <tr>\n",
       "      <th>Serial No</th>\n",
       "      <th></th>\n",
       "      <th></th>\n",
       "      <th></th>\n",
       "      <th></th>\n",
       "      <th></th>\n",
       "      <th></th>\n",
       "      <th></th>\n",
       "    </tr>\n",
       "  </thead>\n",
       "  <tbody>\n",
       "    <tr>\n",
       "      <th>0</th>\n",
       "      <td>Royal Enfield Himalayan</td>\n",
       "      <td>210784.0</td>\n",
       "      <td>411.0 CC</td>\n",
       "      <td>45 Km/l</td>\n",
       "      <td>191 Kg</td>\n",
       "      <td>https://www.carandbike.com/royal-enfield-bikes...</td>\n",
       "      <td>Royal Enfield</td>\n",
       "    </tr>\n",
       "    <tr>\n",
       "      <th>1</th>\n",
       "      <td>Royal Enfield Classic Chrome</td>\n",
       "      <td>188868.0</td>\n",
       "      <td>499.0 CC</td>\n",
       "      <td>27 Km/l</td>\n",
       "      <td>194 Kg</td>\n",
       "      <td>https://www.carandbike.com/royal-enfield-bikes...</td>\n",
       "      <td>Royal Enfield</td>\n",
       "    </tr>\n",
       "  </tbody>\n",
       "</table>\n",
       "</div>"
      ],
      "text/plain": [
       "                             Model Name     Price        CC  Mileage  Weight  \\\n",
       "Serial No                                                                      \n",
       "0               Royal Enfield Himalayan  210784.0  411.0 CC  45 Km/l  191 Kg   \n",
       "1          Royal Enfield Classic Chrome  188868.0  499.0 CC  27 Km/l  194 Kg   \n",
       "\n",
       "                                                       Links          Brand  \n",
       "Serial No                                                                    \n",
       "0          https://www.carandbike.com/royal-enfield-bikes...  Royal Enfield  \n",
       "1          https://www.carandbike.com/royal-enfield-bikes...  Royal Enfield  "
      ]
     },
     "execution_count": 244,
     "metadata": {},
     "output_type": "execute_result"
    }
   ],
   "source": [
    "df.head(2)"
   ]
  },
  {
   "cell_type": "markdown",
   "id": "a2bee5e2-aba0-488b-973e-615625df7775",
   "metadata": {},
   "source": [
    "# 4) lets extract cc column"
   ]
  },
  {
   "cell_type": "code",
   "execution_count": 245,
   "id": "ff5b5117-3cda-4d22-92b9-7b3bec182e95",
   "metadata": {},
   "outputs": [
    {
     "data": {
      "text/html": [
       "<div>\n",
       "<style scoped>\n",
       "    .dataframe tbody tr th:only-of-type {\n",
       "        vertical-align: middle;\n",
       "    }\n",
       "\n",
       "    .dataframe tbody tr th {\n",
       "        vertical-align: top;\n",
       "    }\n",
       "\n",
       "    .dataframe thead th {\n",
       "        text-align: right;\n",
       "    }\n",
       "</style>\n",
       "<table border=\"1\" class=\"dataframe\">\n",
       "  <thead>\n",
       "    <tr style=\"text-align: right;\">\n",
       "      <th></th>\n",
       "      <th>Model Name</th>\n",
       "      <th>Price</th>\n",
       "      <th>CC</th>\n",
       "      <th>Mileage</th>\n",
       "      <th>Weight</th>\n",
       "      <th>Links</th>\n",
       "      <th>Brand</th>\n",
       "    </tr>\n",
       "    <tr>\n",
       "      <th>Serial No</th>\n",
       "      <th></th>\n",
       "      <th></th>\n",
       "      <th></th>\n",
       "      <th></th>\n",
       "      <th></th>\n",
       "      <th></th>\n",
       "      <th></th>\n",
       "    </tr>\n",
       "  </thead>\n",
       "  <tbody>\n",
       "    <tr>\n",
       "      <th>0</th>\n",
       "      <td>Royal Enfield Himalayan</td>\n",
       "      <td>210784.0</td>\n",
       "      <td>411.0 CC</td>\n",
       "      <td>45 Km/l</td>\n",
       "      <td>191 Kg</td>\n",
       "      <td>https://www.carandbike.com/royal-enfield-bikes...</td>\n",
       "      <td>Royal Enfield</td>\n",
       "    </tr>\n",
       "    <tr>\n",
       "      <th>1</th>\n",
       "      <td>Royal Enfield Classic Chrome</td>\n",
       "      <td>188868.0</td>\n",
       "      <td>499.0 CC</td>\n",
       "      <td>27 Km/l</td>\n",
       "      <td>194 Kg</td>\n",
       "      <td>https://www.carandbike.com/royal-enfield-bikes...</td>\n",
       "      <td>Royal Enfield</td>\n",
       "    </tr>\n",
       "  </tbody>\n",
       "</table>\n",
       "</div>"
      ],
      "text/plain": [
       "                             Model Name     Price        CC  Mileage  Weight  \\\n",
       "Serial No                                                                      \n",
       "0               Royal Enfield Himalayan  210784.0  411.0 CC  45 Km/l  191 Kg   \n",
       "1          Royal Enfield Classic Chrome  188868.0  499.0 CC  27 Km/l  194 Kg   \n",
       "\n",
       "                                                       Links          Brand  \n",
       "Serial No                                                                    \n",
       "0          https://www.carandbike.com/royal-enfield-bikes...  Royal Enfield  \n",
       "1          https://www.carandbike.com/royal-enfield-bikes...  Royal Enfield  "
      ]
     },
     "execution_count": 245,
     "metadata": {},
     "output_type": "execute_result"
    }
   ],
   "source": [
    "df.head(2)"
   ]
  },
  {
   "cell_type": "code",
   "execution_count": 246,
   "id": "a424814a-b520-424d-af01-2583170079a1",
   "metadata": {
    "tags": []
   },
   "outputs": [
    {
     "data": {
      "text/plain": [
       "array(['411.0 CC', '499.0 CC', '349.0 CC', '346.0 CC', '97.2 CC',\n",
       "       '124.7 CC', '109.5 CC', '155.0 CC', '124.0 CC', '149.5 CC',\n",
       "       '124.4 CC', '149.0 CC', '220.0 CC', '113.2 CC', '162.7 CC',\n",
       "       '110.9 CC', '163.0 CC', '199.6 CC', '648.0 CC', nan, '998.0 CC',\n",
       "       '99.7 CC', '124.6 CC', '124.8 CC', '115.0 CC', '199.5 CC',\n",
       "       '159.7 CC', '184.4 CC', '102.0 CC', '154.9 CC', '109.7 CC',\n",
       "       '296.0 CC', '249.0 CC', '160.3 CC', '373.2 CC', '293.0 CC',\n",
       "       '125.0 CC', '178.6 CC', '348.4 CC', '248.8 CC', '313.0 CC',\n",
       "       '1340.0 CC', '847.0 CC', '249.1 CC', '600.0 CC', '999.0 CC',\n",
       "       '334.0 CC', '124.3 CC', '87.8 CC', '312.2 CC', '177.4 CC',\n",
       "       '649.0 CC', '1254.0 CC', '1833.0 CC', '154.8 CC', '399.0 CC',\n",
       "       '948.0 CC', '1043.0 CC', '1133.0 CC', '1170.0 CC', '373.3 CC',\n",
       "       '197.8 CC', '374.0 CC', '798.0 CC', '1868.0 CC', '1649.0 CC',\n",
       "       '286.0 CC', '1160.0 CC', '883.0 CC', '248.0 CC', '1923.0 CC',\n",
       "       '999.1 CC', '636.0 CC', '1103.0 CC', '648.7 CC', '1202.0 CC',\n",
       "       '112.0 CC', '164.9 CC', '803.0 CC', '160.0 CC', '821.0 CC',\n",
       "       '1441.0 CC', '1099.0 CC', '853.0 CC', '799.0 CC', '937.0 CC',\n",
       "       '124.5 CC', '765.0 CC', '1252.0 CC', '1131.0 CC', '295.0 CC',\n",
       "       '1380.0 CC', '1811.0 CC', '1262.0 CC', '373.0 CC', '1745.0 CC',\n",
       "       '500.0 CC', '645.0 CC', '1084.0 CC', '1079.0 CC', '1890.0 CC',\n",
       "       '955.0 CC', '895.0 CC', '1285.0 CC', '471.0 CC', '660.0 CC',\n",
       "       '144.0 CC', '773.0 CC', '850.0 CC', '888.0 CC', '449.0 CC',\n",
       "       '1198.0 CC', '292.4 CC', '1200.0 CC', '300.0 CC', '48.0 CC',\n",
       "       '1203.0 CC', '1197.0 CC', '900.0 CC', '2025.7 CC', '649.3 CC',\n",
       "       '1198.4 CC', '659.0 CC', '2458.0 CC', '229.0 CC', '350.0 CC',\n",
       "       '1158.0 CC', '1802.0 CC', '99.0 CC', '1077.0 CC', '1078.0 CC'],\n",
       "      dtype=object)"
      ]
     },
     "execution_count": 246,
     "metadata": {},
     "output_type": "execute_result"
    }
   ],
   "source": [
    "df['CC'].unique()"
   ]
  },
  {
   "cell_type": "code",
   "execution_count": 247,
   "id": "13d6c58f-d961-4e59-840e-50693c843f15",
   "metadata": {},
   "outputs": [
    {
     "data": {
      "text/plain": [
       "Serial No\n",
       "0       411.0 CC\n",
       "1       499.0 CC\n",
       "2       349.0 CC\n",
       "3       346.0 CC\n",
       "4        97.2 CC\n",
       "         ...    \n",
       "368          NaN\n",
       "369          NaN\n",
       "370    1078.0 CC\n",
       "371     895.0 CC\n",
       "372          NaN\n",
       "Name: CC, Length: 361, dtype: object"
      ]
     },
     "execution_count": 247,
     "metadata": {},
     "output_type": "execute_result"
    }
   ],
   "source": [
    "df['CC']"
   ]
  },
  {
   "cell_type": "code",
   "execution_count": 248,
   "id": "11395d72-ecb2-4f2b-b6d4-ec244b82f3b5",
   "metadata": {},
   "outputs": [
    {
     "data": {
      "text/plain": [
       "str"
      ]
     },
     "execution_count": 248,
     "metadata": {},
     "output_type": "execute_result"
    }
   ],
   "source": [
    "type('CC')"
   ]
  },
  {
   "cell_type": "code",
   "execution_count": 249,
   "id": "664d94aa-2e18-4d5d-be3c-ad39ea9656e7",
   "metadata": {},
   "outputs": [],
   "source": [
    "df.loc[df.CC.notnull(), 'CC'] = df.loc[df.CC.notnull(), 'CC'].apply(lambda x : (x.split()[0]))"
   ]
  },
  {
   "cell_type": "code",
   "execution_count": 250,
   "id": "b250fc8b-5ec3-4203-8788-ff052e9f8b6f",
   "metadata": {},
   "outputs": [
    {
     "data": {
      "text/html": [
       "<div>\n",
       "<style scoped>\n",
       "    .dataframe tbody tr th:only-of-type {\n",
       "        vertical-align: middle;\n",
       "    }\n",
       "\n",
       "    .dataframe tbody tr th {\n",
       "        vertical-align: top;\n",
       "    }\n",
       "\n",
       "    .dataframe thead th {\n",
       "        text-align: right;\n",
       "    }\n",
       "</style>\n",
       "<table border=\"1\" class=\"dataframe\">\n",
       "  <thead>\n",
       "    <tr style=\"text-align: right;\">\n",
       "      <th></th>\n",
       "      <th>Model Name</th>\n",
       "      <th>Price</th>\n",
       "      <th>CC</th>\n",
       "      <th>Mileage</th>\n",
       "      <th>Weight</th>\n",
       "      <th>Links</th>\n",
       "      <th>Brand</th>\n",
       "    </tr>\n",
       "    <tr>\n",
       "      <th>Serial No</th>\n",
       "      <th></th>\n",
       "      <th></th>\n",
       "      <th></th>\n",
       "      <th></th>\n",
       "      <th></th>\n",
       "      <th></th>\n",
       "      <th></th>\n",
       "    </tr>\n",
       "  </thead>\n",
       "  <tbody>\n",
       "    <tr>\n",
       "      <th>0</th>\n",
       "      <td>Royal Enfield Himalayan</td>\n",
       "      <td>210784.0</td>\n",
       "      <td>411.0</td>\n",
       "      <td>45 Km/l</td>\n",
       "      <td>191 Kg</td>\n",
       "      <td>https://www.carandbike.com/royal-enfield-bikes...</td>\n",
       "      <td>Royal Enfield</td>\n",
       "    </tr>\n",
       "    <tr>\n",
       "      <th>1</th>\n",
       "      <td>Royal Enfield Classic Chrome</td>\n",
       "      <td>188868.0</td>\n",
       "      <td>499.0</td>\n",
       "      <td>27 Km/l</td>\n",
       "      <td>194 Kg</td>\n",
       "      <td>https://www.carandbike.com/royal-enfield-bikes...</td>\n",
       "      <td>Royal Enfield</td>\n",
       "    </tr>\n",
       "  </tbody>\n",
       "</table>\n",
       "</div>"
      ],
      "text/plain": [
       "                             Model Name     Price     CC  Mileage  Weight  \\\n",
       "Serial No                                                                   \n",
       "0               Royal Enfield Himalayan  210784.0  411.0  45 Km/l  191 Kg   \n",
       "1          Royal Enfield Classic Chrome  188868.0  499.0  27 Km/l  194 Kg   \n",
       "\n",
       "                                                       Links          Brand  \n",
       "Serial No                                                                    \n",
       "0          https://www.carandbike.com/royal-enfield-bikes...  Royal Enfield  \n",
       "1          https://www.carandbike.com/royal-enfield-bikes...  Royal Enfield  "
      ]
     },
     "execution_count": 250,
     "metadata": {},
     "output_type": "execute_result"
    }
   ],
   "source": [
    "df.head(2)"
   ]
  },
  {
   "cell_type": "code",
   "execution_count": 251,
   "id": "8595c8c4-bfaf-4d21-85ca-c1c57455af76",
   "metadata": {},
   "outputs": [
    {
     "data": {
      "text/plain": [
       "str"
      ]
     },
     "execution_count": 251,
     "metadata": {},
     "output_type": "execute_result"
    }
   ],
   "source": [
    "type('Mileage')"
   ]
  },
  {
   "cell_type": "code",
   "execution_count": 252,
   "id": "6728966a-47f9-4aa6-8d5d-1f193cb632fd",
   "metadata": {},
   "outputs": [
    {
     "name": "stdout",
     "output_type": "stream",
     "text": [
      "<class 'pandas.core.series.Series'>\n",
      "Int64Index: 361 entries, 0 to 372\n",
      "Series name: Mileage\n",
      "Non-Null Count  Dtype \n",
      "--------------  ----- \n",
      "331 non-null    object\n",
      "dtypes: object(1)\n",
      "memory usage: 5.6+ KB\n"
     ]
    }
   ],
   "source": [
    "df['Mileage'].info()"
   ]
  },
  {
   "cell_type": "code",
   "execution_count": 253,
   "id": "9507d76b-1d79-4e93-ad1c-774436745297",
   "metadata": {},
   "outputs": [
    {
     "data": {
      "text/plain": [
       "30"
      ]
     },
     "execution_count": 253,
     "metadata": {},
     "output_type": "execute_result"
    }
   ],
   "source": [
    "df['Mileage'].isnull().sum()"
   ]
  },
  {
   "cell_type": "code",
   "execution_count": 254,
   "id": "73eb9ac6-bf96-43c7-b98e-dbc142666dfe",
   "metadata": {},
   "outputs": [],
   "source": [
    "df.loc[df.Mileage.notnull(), 'Mileage'] = df.loc[df.Mileage.notnull(), 'Mileage'].apply(lambda x : float(x.split()[0]))"
   ]
  },
  {
   "cell_type": "code",
   "execution_count": 255,
   "id": "7617c093-3a41-46f3-a33c-07d0e0fad8c0",
   "metadata": {},
   "outputs": [
    {
     "data": {
      "text/html": [
       "<div>\n",
       "<style scoped>\n",
       "    .dataframe tbody tr th:only-of-type {\n",
       "        vertical-align: middle;\n",
       "    }\n",
       "\n",
       "    .dataframe tbody tr th {\n",
       "        vertical-align: top;\n",
       "    }\n",
       "\n",
       "    .dataframe thead th {\n",
       "        text-align: right;\n",
       "    }\n",
       "</style>\n",
       "<table border=\"1\" class=\"dataframe\">\n",
       "  <thead>\n",
       "    <tr style=\"text-align: right;\">\n",
       "      <th></th>\n",
       "      <th>Model Name</th>\n",
       "      <th>Price</th>\n",
       "      <th>CC</th>\n",
       "      <th>Mileage</th>\n",
       "      <th>Weight</th>\n",
       "      <th>Links</th>\n",
       "      <th>Brand</th>\n",
       "    </tr>\n",
       "    <tr>\n",
       "      <th>Serial No</th>\n",
       "      <th></th>\n",
       "      <th></th>\n",
       "      <th></th>\n",
       "      <th></th>\n",
       "      <th></th>\n",
       "      <th></th>\n",
       "      <th></th>\n",
       "    </tr>\n",
       "  </thead>\n",
       "  <tbody>\n",
       "    <tr>\n",
       "      <th>0</th>\n",
       "      <td>Royal Enfield Himalayan</td>\n",
       "      <td>210784.0</td>\n",
       "      <td>411.0</td>\n",
       "      <td>45.0</td>\n",
       "      <td>191 Kg</td>\n",
       "      <td>https://www.carandbike.com/royal-enfield-bikes...</td>\n",
       "      <td>Royal Enfield</td>\n",
       "    </tr>\n",
       "    <tr>\n",
       "      <th>1</th>\n",
       "      <td>Royal Enfield Classic Chrome</td>\n",
       "      <td>188868.0</td>\n",
       "      <td>499.0</td>\n",
       "      <td>27.0</td>\n",
       "      <td>194 Kg</td>\n",
       "      <td>https://www.carandbike.com/royal-enfield-bikes...</td>\n",
       "      <td>Royal Enfield</td>\n",
       "    </tr>\n",
       "    <tr>\n",
       "      <th>2</th>\n",
       "      <td>Royal Enfield Meteor 350</td>\n",
       "      <td>205844.0</td>\n",
       "      <td>349.0</td>\n",
       "      <td>41.88</td>\n",
       "      <td>183 Kg</td>\n",
       "      <td>https://www.carandbike.com/royal-enfield-bikes...</td>\n",
       "      <td>Royal Enfield</td>\n",
       "    </tr>\n",
       "    <tr>\n",
       "      <th>3</th>\n",
       "      <td>Royal Enfield Bullet 350</td>\n",
       "      <td>127094.0</td>\n",
       "      <td>346.0</td>\n",
       "      <td>45.0</td>\n",
       "      <td>183 Kg</td>\n",
       "      <td>https://www.carandbike.com/royal-enfield-bikes...</td>\n",
       "      <td>Royal Enfield</td>\n",
       "    </tr>\n",
       "    <tr>\n",
       "      <th>4</th>\n",
       "      <td>Hero Splendor +</td>\n",
       "      <td>69380.0</td>\n",
       "      <td>97.2</td>\n",
       "      <td>70.0</td>\n",
       "      <td>110 Kg</td>\n",
       "      <td>https://www.carandbike.com/hero-bikes/splendor...</td>\n",
       "      <td>Hero</td>\n",
       "    </tr>\n",
       "  </tbody>\n",
       "</table>\n",
       "</div>"
      ],
      "text/plain": [
       "                             Model Name     Price     CC Mileage  Weight  \\\n",
       "Serial No                                                                  \n",
       "0               Royal Enfield Himalayan  210784.0  411.0    45.0  191 Kg   \n",
       "1          Royal Enfield Classic Chrome  188868.0  499.0    27.0  194 Kg   \n",
       "2              Royal Enfield Meteor 350  205844.0  349.0   41.88  183 Kg   \n",
       "3              Royal Enfield Bullet 350  127094.0  346.0    45.0  183 Kg   \n",
       "4                       Hero Splendor +   69380.0   97.2    70.0  110 Kg   \n",
       "\n",
       "                                                       Links          Brand  \n",
       "Serial No                                                                    \n",
       "0          https://www.carandbike.com/royal-enfield-bikes...  Royal Enfield  \n",
       "1          https://www.carandbike.com/royal-enfield-bikes...  Royal Enfield  \n",
       "2          https://www.carandbike.com/royal-enfield-bikes...  Royal Enfield  \n",
       "3          https://www.carandbike.com/royal-enfield-bikes...  Royal Enfield  \n",
       "4          https://www.carandbike.com/hero-bikes/splendor...           Hero  "
      ]
     },
     "execution_count": 255,
     "metadata": {},
     "output_type": "execute_result"
    }
   ],
   "source": [
    "df.head()"
   ]
  },
  {
   "cell_type": "code",
   "execution_count": 256,
   "id": "edcb2e4e-647b-4aea-99b5-2dd3f38a637a",
   "metadata": {},
   "outputs": [
    {
     "data": {
      "text/plain": [
       "str"
      ]
     },
     "execution_count": 256,
     "metadata": {},
     "output_type": "execute_result"
    }
   ],
   "source": [
    "type('Weight')"
   ]
  },
  {
   "cell_type": "code",
   "execution_count": 257,
   "id": "e9e201b9-0221-4d58-8afe-864818c480fc",
   "metadata": {},
   "outputs": [],
   "source": [
    "import re\n",
    "df['Weight'] = df['Weight'].apply(lambda x : float(x.split()[0]))"
   ]
  },
  {
   "cell_type": "code",
   "execution_count": 258,
   "id": "7a24cc74-67e8-48e6-9c5f-86e0a31fcc40",
   "metadata": {},
   "outputs": [
    {
     "data": {
      "text/html": [
       "<div>\n",
       "<style scoped>\n",
       "    .dataframe tbody tr th:only-of-type {\n",
       "        vertical-align: middle;\n",
       "    }\n",
       "\n",
       "    .dataframe tbody tr th {\n",
       "        vertical-align: top;\n",
       "    }\n",
       "\n",
       "    .dataframe thead th {\n",
       "        text-align: right;\n",
       "    }\n",
       "</style>\n",
       "<table border=\"1\" class=\"dataframe\">\n",
       "  <thead>\n",
       "    <tr style=\"text-align: right;\">\n",
       "      <th></th>\n",
       "      <th>Model Name</th>\n",
       "      <th>Price</th>\n",
       "      <th>CC</th>\n",
       "      <th>Mileage</th>\n",
       "      <th>Weight</th>\n",
       "      <th>Links</th>\n",
       "      <th>Brand</th>\n",
       "    </tr>\n",
       "    <tr>\n",
       "      <th>Serial No</th>\n",
       "      <th></th>\n",
       "      <th></th>\n",
       "      <th></th>\n",
       "      <th></th>\n",
       "      <th></th>\n",
       "      <th></th>\n",
       "      <th></th>\n",
       "    </tr>\n",
       "  </thead>\n",
       "  <tbody>\n",
       "    <tr>\n",
       "      <th>0</th>\n",
       "      <td>Royal Enfield Himalayan</td>\n",
       "      <td>210784.0</td>\n",
       "      <td>411.0</td>\n",
       "      <td>45.0</td>\n",
       "      <td>191.0</td>\n",
       "      <td>https://www.carandbike.com/royal-enfield-bikes...</td>\n",
       "      <td>Royal Enfield</td>\n",
       "    </tr>\n",
       "    <tr>\n",
       "      <th>1</th>\n",
       "      <td>Royal Enfield Classic Chrome</td>\n",
       "      <td>188868.0</td>\n",
       "      <td>499.0</td>\n",
       "      <td>27.0</td>\n",
       "      <td>194.0</td>\n",
       "      <td>https://www.carandbike.com/royal-enfield-bikes...</td>\n",
       "      <td>Royal Enfield</td>\n",
       "    </tr>\n",
       "    <tr>\n",
       "      <th>2</th>\n",
       "      <td>Royal Enfield Meteor 350</td>\n",
       "      <td>205844.0</td>\n",
       "      <td>349.0</td>\n",
       "      <td>41.88</td>\n",
       "      <td>183.0</td>\n",
       "      <td>https://www.carandbike.com/royal-enfield-bikes...</td>\n",
       "      <td>Royal Enfield</td>\n",
       "    </tr>\n",
       "    <tr>\n",
       "      <th>3</th>\n",
       "      <td>Royal Enfield Bullet 350</td>\n",
       "      <td>127094.0</td>\n",
       "      <td>346.0</td>\n",
       "      <td>45.0</td>\n",
       "      <td>183.0</td>\n",
       "      <td>https://www.carandbike.com/royal-enfield-bikes...</td>\n",
       "      <td>Royal Enfield</td>\n",
       "    </tr>\n",
       "    <tr>\n",
       "      <th>4</th>\n",
       "      <td>Hero Splendor +</td>\n",
       "      <td>69380.0</td>\n",
       "      <td>97.2</td>\n",
       "      <td>70.0</td>\n",
       "      <td>110.0</td>\n",
       "      <td>https://www.carandbike.com/hero-bikes/splendor...</td>\n",
       "      <td>Hero</td>\n",
       "    </tr>\n",
       "  </tbody>\n",
       "</table>\n",
       "</div>"
      ],
      "text/plain": [
       "                             Model Name     Price     CC Mileage  Weight  \\\n",
       "Serial No                                                                  \n",
       "0               Royal Enfield Himalayan  210784.0  411.0    45.0   191.0   \n",
       "1          Royal Enfield Classic Chrome  188868.0  499.0    27.0   194.0   \n",
       "2              Royal Enfield Meteor 350  205844.0  349.0   41.88   183.0   \n",
       "3              Royal Enfield Bullet 350  127094.0  346.0    45.0   183.0   \n",
       "4                       Hero Splendor +   69380.0   97.2    70.0   110.0   \n",
       "\n",
       "                                                       Links          Brand  \n",
       "Serial No                                                                    \n",
       "0          https://www.carandbike.com/royal-enfield-bikes...  Royal Enfield  \n",
       "1          https://www.carandbike.com/royal-enfield-bikes...  Royal Enfield  \n",
       "2          https://www.carandbike.com/royal-enfield-bikes...  Royal Enfield  \n",
       "3          https://www.carandbike.com/royal-enfield-bikes...  Royal Enfield  \n",
       "4          https://www.carandbike.com/hero-bikes/splendor...           Hero  "
      ]
     },
     "execution_count": 258,
     "metadata": {},
     "output_type": "execute_result"
    }
   ],
   "source": [
    "df.head()"
   ]
  },
  {
   "cell_type": "code",
   "execution_count": 259,
   "id": "4d201768-68e8-4b24-b6f6-624ce43ac104",
   "metadata": {},
   "outputs": [],
   "source": [
    "df = df[['Brand','Model Name','Price','CC','Mileage','Weight','Links']]"
   ]
  },
  {
   "cell_type": "code",
   "execution_count": 260,
   "id": "57e1b07c-d72c-4011-83c3-629960ccb2bf",
   "metadata": {},
   "outputs": [
    {
     "data": {
      "text/html": [
       "<div>\n",
       "<style scoped>\n",
       "    .dataframe tbody tr th:only-of-type {\n",
       "        vertical-align: middle;\n",
       "    }\n",
       "\n",
       "    .dataframe tbody tr th {\n",
       "        vertical-align: top;\n",
       "    }\n",
       "\n",
       "    .dataframe thead th {\n",
       "        text-align: right;\n",
       "    }\n",
       "</style>\n",
       "<table border=\"1\" class=\"dataframe\">\n",
       "  <thead>\n",
       "    <tr style=\"text-align: right;\">\n",
       "      <th></th>\n",
       "      <th>Brand</th>\n",
       "      <th>Model Name</th>\n",
       "      <th>Price</th>\n",
       "      <th>CC</th>\n",
       "      <th>Mileage</th>\n",
       "      <th>Weight</th>\n",
       "      <th>Links</th>\n",
       "    </tr>\n",
       "    <tr>\n",
       "      <th>Serial No</th>\n",
       "      <th></th>\n",
       "      <th></th>\n",
       "      <th></th>\n",
       "      <th></th>\n",
       "      <th></th>\n",
       "      <th></th>\n",
       "      <th></th>\n",
       "    </tr>\n",
       "  </thead>\n",
       "  <tbody>\n",
       "    <tr>\n",
       "      <th>0</th>\n",
       "      <td>Royal Enfield</td>\n",
       "      <td>Royal Enfield Himalayan</td>\n",
       "      <td>210784.0</td>\n",
       "      <td>411.0</td>\n",
       "      <td>45.0</td>\n",
       "      <td>191.0</td>\n",
       "      <td>https://www.carandbike.com/royal-enfield-bikes...</td>\n",
       "    </tr>\n",
       "    <tr>\n",
       "      <th>1</th>\n",
       "      <td>Royal Enfield</td>\n",
       "      <td>Royal Enfield Classic Chrome</td>\n",
       "      <td>188868.0</td>\n",
       "      <td>499.0</td>\n",
       "      <td>27.0</td>\n",
       "      <td>194.0</td>\n",
       "      <td>https://www.carandbike.com/royal-enfield-bikes...</td>\n",
       "    </tr>\n",
       "    <tr>\n",
       "      <th>2</th>\n",
       "      <td>Royal Enfield</td>\n",
       "      <td>Royal Enfield Meteor 350</td>\n",
       "      <td>205844.0</td>\n",
       "      <td>349.0</td>\n",
       "      <td>41.88</td>\n",
       "      <td>183.0</td>\n",
       "      <td>https://www.carandbike.com/royal-enfield-bikes...</td>\n",
       "    </tr>\n",
       "    <tr>\n",
       "      <th>3</th>\n",
       "      <td>Royal Enfield</td>\n",
       "      <td>Royal Enfield Bullet 350</td>\n",
       "      <td>127094.0</td>\n",
       "      <td>346.0</td>\n",
       "      <td>45.0</td>\n",
       "      <td>183.0</td>\n",
       "      <td>https://www.carandbike.com/royal-enfield-bikes...</td>\n",
       "    </tr>\n",
       "    <tr>\n",
       "      <th>4</th>\n",
       "      <td>Hero</td>\n",
       "      <td>Hero Splendor +</td>\n",
       "      <td>69380.0</td>\n",
       "      <td>97.2</td>\n",
       "      <td>70.0</td>\n",
       "      <td>110.0</td>\n",
       "      <td>https://www.carandbike.com/hero-bikes/splendor...</td>\n",
       "    </tr>\n",
       "  </tbody>\n",
       "</table>\n",
       "</div>"
      ],
      "text/plain": [
       "                   Brand                    Model Name     Price     CC  \\\n",
       "Serial No                                                                 \n",
       "0          Royal Enfield       Royal Enfield Himalayan  210784.0  411.0   \n",
       "1          Royal Enfield  Royal Enfield Classic Chrome  188868.0  499.0   \n",
       "2          Royal Enfield      Royal Enfield Meteor 350  205844.0  349.0   \n",
       "3          Royal Enfield      Royal Enfield Bullet 350  127094.0  346.0   \n",
       "4                   Hero               Hero Splendor +   69380.0   97.2   \n",
       "\n",
       "          Mileage  Weight                                              Links  \n",
       "Serial No                                                                     \n",
       "0            45.0   191.0  https://www.carandbike.com/royal-enfield-bikes...  \n",
       "1            27.0   194.0  https://www.carandbike.com/royal-enfield-bikes...  \n",
       "2           41.88   183.0  https://www.carandbike.com/royal-enfield-bikes...  \n",
       "3            45.0   183.0  https://www.carandbike.com/royal-enfield-bikes...  \n",
       "4            70.0   110.0  https://www.carandbike.com/hero-bikes/splendor...  "
      ]
     },
     "execution_count": 260,
     "metadata": {},
     "output_type": "execute_result"
    }
   ],
   "source": [
    "df.head()"
   ]
  },
  {
   "cell_type": "code",
   "execution_count": 261,
   "id": "23e65dcc-82a4-4d17-badb-09831960d9e6",
   "metadata": {},
   "outputs": [
    {
     "name": "stderr",
     "output_type": "stream",
     "text": [
      "C:\\Users\\240G_up\\AppData\\Local\\Temp\\ipykernel_8908\\4213178885.py:1: SettingWithCopyWarning: \n",
      "A value is trying to be set on a copy of a slice from a DataFrame\n",
      "\n",
      "See the caveats in the documentation: https://pandas.pydata.org/pandas-docs/stable/user_guide/indexing.html#returning-a-view-versus-a-copy\n",
      "  df.drop('Links', axis = 1, inplace = True)\n"
     ]
    }
   ],
   "source": [
    "df.drop('Links', axis = 1, inplace = True)"
   ]
  },
  {
   "cell_type": "code",
   "execution_count": 262,
   "id": "5b2a0200-44b4-42da-b886-75ab48c42841",
   "metadata": {},
   "outputs": [
    {
     "data": {
      "text/html": [
       "<div>\n",
       "<style scoped>\n",
       "    .dataframe tbody tr th:only-of-type {\n",
       "        vertical-align: middle;\n",
       "    }\n",
       "\n",
       "    .dataframe tbody tr th {\n",
       "        vertical-align: top;\n",
       "    }\n",
       "\n",
       "    .dataframe thead th {\n",
       "        text-align: right;\n",
       "    }\n",
       "</style>\n",
       "<table border=\"1\" class=\"dataframe\">\n",
       "  <thead>\n",
       "    <tr style=\"text-align: right;\">\n",
       "      <th></th>\n",
       "      <th>Brand</th>\n",
       "      <th>Model Name</th>\n",
       "      <th>Price</th>\n",
       "      <th>CC</th>\n",
       "      <th>Mileage</th>\n",
       "      <th>Weight</th>\n",
       "    </tr>\n",
       "    <tr>\n",
       "      <th>Serial No</th>\n",
       "      <th></th>\n",
       "      <th></th>\n",
       "      <th></th>\n",
       "      <th></th>\n",
       "      <th></th>\n",
       "      <th></th>\n",
       "    </tr>\n",
       "  </thead>\n",
       "  <tbody>\n",
       "    <tr>\n",
       "      <th>0</th>\n",
       "      <td>Royal Enfield</td>\n",
       "      <td>Royal Enfield Himalayan</td>\n",
       "      <td>210784.0</td>\n",
       "      <td>411.0</td>\n",
       "      <td>45.0</td>\n",
       "      <td>191.0</td>\n",
       "    </tr>\n",
       "    <tr>\n",
       "      <th>1</th>\n",
       "      <td>Royal Enfield</td>\n",
       "      <td>Royal Enfield Classic Chrome</td>\n",
       "      <td>188868.0</td>\n",
       "      <td>499.0</td>\n",
       "      <td>27.0</td>\n",
       "      <td>194.0</td>\n",
       "    </tr>\n",
       "  </tbody>\n",
       "</table>\n",
       "</div>"
      ],
      "text/plain": [
       "                   Brand                    Model Name     Price     CC  \\\n",
       "Serial No                                                                 \n",
       "0          Royal Enfield       Royal Enfield Himalayan  210784.0  411.0   \n",
       "1          Royal Enfield  Royal Enfield Classic Chrome  188868.0  499.0   \n",
       "\n",
       "          Mileage  Weight  \n",
       "Serial No                  \n",
       "0            45.0   191.0  \n",
       "1            27.0   194.0  "
      ]
     },
     "execution_count": 262,
     "metadata": {},
     "output_type": "execute_result"
    }
   ],
   "source": [
    "df.head(2)"
   ]
  },
  {
   "cell_type": "code",
   "execution_count": 263,
   "id": "97910587-ed1e-4e24-aee6-695bc3494f1a",
   "metadata": {},
   "outputs": [
    {
     "data": {
      "text/plain": [
       "Serial No\n",
       "0       411.0\n",
       "1       499.0\n",
       "2       349.0\n",
       "3       346.0\n",
       "4        97.2\n",
       "        ...  \n",
       "368       NaN\n",
       "369       NaN\n",
       "370    1078.0\n",
       "371     895.0\n",
       "372       NaN\n",
       "Name: CC, Length: 361, dtype: object"
      ]
     },
     "execution_count": 263,
     "metadata": {},
     "output_type": "execute_result"
    }
   ],
   "source": [
    "df['CC']"
   ]
  },
  {
   "cell_type": "code",
   "execution_count": 264,
   "id": "b3dacbb8-122c-4dd5-91dc-800fd3f90e5e",
   "metadata": {},
   "outputs": [],
   "source": [
    "df['Electric'] = np.where(df.CC.isnull(), 1, 0)"
   ]
  },
  {
   "cell_type": "code",
   "execution_count": 265,
   "id": "f6ea931f-1fa7-4be7-8b93-07e20c66813a",
   "metadata": {},
   "outputs": [
    {
     "data": {
      "text/html": [
       "<div>\n",
       "<style scoped>\n",
       "    .dataframe tbody tr th:only-of-type {\n",
       "        vertical-align: middle;\n",
       "    }\n",
       "\n",
       "    .dataframe tbody tr th {\n",
       "        vertical-align: top;\n",
       "    }\n",
       "\n",
       "    .dataframe thead th {\n",
       "        text-align: right;\n",
       "    }\n",
       "</style>\n",
       "<table border=\"1\" class=\"dataframe\">\n",
       "  <thead>\n",
       "    <tr style=\"text-align: right;\">\n",
       "      <th></th>\n",
       "      <th>Brand</th>\n",
       "      <th>Model Name</th>\n",
       "      <th>Price</th>\n",
       "      <th>CC</th>\n",
       "      <th>Mileage</th>\n",
       "      <th>Weight</th>\n",
       "      <th>Electric</th>\n",
       "    </tr>\n",
       "    <tr>\n",
       "      <th>Serial No</th>\n",
       "      <th></th>\n",
       "      <th></th>\n",
       "      <th></th>\n",
       "      <th></th>\n",
       "      <th></th>\n",
       "      <th></th>\n",
       "      <th></th>\n",
       "    </tr>\n",
       "  </thead>\n",
       "  <tbody>\n",
       "    <tr>\n",
       "      <th>0</th>\n",
       "      <td>Royal Enfield</td>\n",
       "      <td>Royal Enfield Himalayan</td>\n",
       "      <td>210784.0</td>\n",
       "      <td>411.0</td>\n",
       "      <td>45.0</td>\n",
       "      <td>191.0</td>\n",
       "      <td>0</td>\n",
       "    </tr>\n",
       "    <tr>\n",
       "      <th>1</th>\n",
       "      <td>Royal Enfield</td>\n",
       "      <td>Royal Enfield Classic Chrome</td>\n",
       "      <td>188868.0</td>\n",
       "      <td>499.0</td>\n",
       "      <td>27.0</td>\n",
       "      <td>194.0</td>\n",
       "      <td>0</td>\n",
       "    </tr>\n",
       "    <tr>\n",
       "      <th>2</th>\n",
       "      <td>Royal Enfield</td>\n",
       "      <td>Royal Enfield Meteor 350</td>\n",
       "      <td>205844.0</td>\n",
       "      <td>349.0</td>\n",
       "      <td>41.88</td>\n",
       "      <td>183.0</td>\n",
       "      <td>0</td>\n",
       "    </tr>\n",
       "    <tr>\n",
       "      <th>3</th>\n",
       "      <td>Royal Enfield</td>\n",
       "      <td>Royal Enfield Bullet 350</td>\n",
       "      <td>127094.0</td>\n",
       "      <td>346.0</td>\n",
       "      <td>45.0</td>\n",
       "      <td>183.0</td>\n",
       "      <td>0</td>\n",
       "    </tr>\n",
       "    <tr>\n",
       "      <th>4</th>\n",
       "      <td>Hero</td>\n",
       "      <td>Hero Splendor +</td>\n",
       "      <td>69380.0</td>\n",
       "      <td>97.2</td>\n",
       "      <td>70.0</td>\n",
       "      <td>110.0</td>\n",
       "      <td>0</td>\n",
       "    </tr>\n",
       "    <tr>\n",
       "      <th>...</th>\n",
       "      <td>...</td>\n",
       "      <td>...</td>\n",
       "      <td>...</td>\n",
       "      <td>...</td>\n",
       "      <td>...</td>\n",
       "      <td>...</td>\n",
       "      <td>...</td>\n",
       "    </tr>\n",
       "    <tr>\n",
       "      <th>368</th>\n",
       "      <td>22Kymco</td>\n",
       "      <td>22Kymco Flow</td>\n",
       "      <td>74740.0</td>\n",
       "      <td>NaN</td>\n",
       "      <td>160.0</td>\n",
       "      <td>85.0</td>\n",
       "      <td>1</td>\n",
       "    </tr>\n",
       "    <tr>\n",
       "      <th>369</th>\n",
       "      <td>Odysse</td>\n",
       "      <td>Odysse Racer</td>\n",
       "      <td>59500.0</td>\n",
       "      <td>NaN</td>\n",
       "      <td>70.0</td>\n",
       "      <td>100.0</td>\n",
       "      <td>1</td>\n",
       "    </tr>\n",
       "    <tr>\n",
       "      <th>370</th>\n",
       "      <td>MV</td>\n",
       "      <td>MV Agusta Brutale 1090</td>\n",
       "      <td>2102268.0</td>\n",
       "      <td>1078.0</td>\n",
       "      <td>15.0</td>\n",
       "      <td>183.0</td>\n",
       "      <td>0</td>\n",
       "    </tr>\n",
       "    <tr>\n",
       "      <th>371</th>\n",
       "      <td>BMW</td>\n",
       "      <td>BMW F900XR</td>\n",
       "      <td>1230000.0</td>\n",
       "      <td>895.0</td>\n",
       "      <td>24.0</td>\n",
       "      <td>219.0</td>\n",
       "      <td>0</td>\n",
       "    </tr>\n",
       "    <tr>\n",
       "      <th>372</th>\n",
       "      <td>BGauss</td>\n",
       "      <td>BGauss A2</td>\n",
       "      <td>52499.0</td>\n",
       "      <td>NaN</td>\n",
       "      <td>110.0</td>\n",
       "      <td>88.0</td>\n",
       "      <td>1</td>\n",
       "    </tr>\n",
       "  </tbody>\n",
       "</table>\n",
       "<p>361 rows × 7 columns</p>\n",
       "</div>"
      ],
      "text/plain": [
       "                   Brand                    Model Name      Price      CC  \\\n",
       "Serial No                                                                   \n",
       "0          Royal Enfield       Royal Enfield Himalayan   210784.0   411.0   \n",
       "1          Royal Enfield  Royal Enfield Classic Chrome   188868.0   499.0   \n",
       "2          Royal Enfield      Royal Enfield Meteor 350   205844.0   349.0   \n",
       "3          Royal Enfield      Royal Enfield Bullet 350   127094.0   346.0   \n",
       "4                   Hero               Hero Splendor +    69380.0    97.2   \n",
       "...                  ...                           ...        ...     ...   \n",
       "368              22Kymco                  22Kymco Flow    74740.0     NaN   \n",
       "369               Odysse                  Odysse Racer    59500.0     NaN   \n",
       "370                   MV        MV Agusta Brutale 1090  2102268.0  1078.0   \n",
       "371                  BMW                    BMW F900XR  1230000.0   895.0   \n",
       "372               BGauss                     BGauss A2    52499.0     NaN   \n",
       "\n",
       "          Mileage  Weight  Electric  \n",
       "Serial No                            \n",
       "0            45.0   191.0         0  \n",
       "1            27.0   194.0         0  \n",
       "2           41.88   183.0         0  \n",
       "3            45.0   183.0         0  \n",
       "4            70.0   110.0         0  \n",
       "...           ...     ...       ...  \n",
       "368         160.0    85.0         1  \n",
       "369          70.0   100.0         1  \n",
       "370          15.0   183.0         0  \n",
       "371          24.0   219.0         0  \n",
       "372         110.0    88.0         1  \n",
       "\n",
       "[361 rows x 7 columns]"
      ]
     },
     "execution_count": 265,
     "metadata": {},
     "output_type": "execute_result"
    }
   ],
   "source": [
    "df"
   ]
  },
  {
   "cell_type": "markdown",
   "id": "bd705b56-b76d-4b38-ab79-9818733fdb45",
   "metadata": {},
   "source": [
    "# We have two columns with missing data.\n",
    "# Before handling the missing data lets find out is there any relation between missing values with any other columns."
   ]
  },
  {
   "cell_type": "code",
   "execution_count": 266,
   "id": "122396d5-74d0-4940-b00f-307324a9818e",
   "metadata": {},
   "outputs": [
    {
     "data": {
      "text/plain": [
       "Brand          0\n",
       "Model Name     0\n",
       "Price          0\n",
       "CC            56\n",
       "Mileage       30\n",
       "Weight         0\n",
       "Electric       0\n",
       "dtype: int64"
      ]
     },
     "execution_count": 266,
     "metadata": {},
     "output_type": "execute_result"
    }
   ],
   "source": [
    "df.isnull().sum()"
   ]
  },
  {
   "cell_type": "code",
   "execution_count": 267,
   "id": "c7b2ec6a-bbdb-4114-b5de-a1969de8764f",
   "metadata": {},
   "outputs": [
    {
     "data": {
      "text/plain": [
       "Brand          0.000000\n",
       "Model Name     0.000000\n",
       "Price          0.000000\n",
       "CC            15.512465\n",
       "Mileage        8.310249\n",
       "Weight         0.000000\n",
       "Electric       0.000000\n",
       "dtype: float64"
      ]
     },
     "execution_count": 267,
     "metadata": {},
     "output_type": "execute_result"
    }
   ],
   "source": [
    "df.isnull().sum()/len(df)*100"
   ]
  },
  {
   "cell_type": "code",
   "execution_count": 268,
   "id": "959f8ade-bb8a-45f1-8197-24a270eeadab",
   "metadata": {},
   "outputs": [
    {
     "data": {
      "text/html": [
       "<div>\n",
       "<style scoped>\n",
       "    .dataframe tbody tr th:only-of-type {\n",
       "        vertical-align: middle;\n",
       "    }\n",
       "\n",
       "    .dataframe tbody tr th {\n",
       "        vertical-align: top;\n",
       "    }\n",
       "\n",
       "    .dataframe thead th {\n",
       "        text-align: right;\n",
       "    }\n",
       "</style>\n",
       "<table border=\"1\" class=\"dataframe\">\n",
       "  <thead>\n",
       "    <tr style=\"text-align: right;\">\n",
       "      <th></th>\n",
       "      <th>Brand</th>\n",
       "      <th>Model Name</th>\n",
       "      <th>Price</th>\n",
       "      <th>CC</th>\n",
       "      <th>Mileage</th>\n",
       "      <th>Weight</th>\n",
       "      <th>Electric</th>\n",
       "    </tr>\n",
       "    <tr>\n",
       "      <th>Serial No</th>\n",
       "      <th></th>\n",
       "      <th></th>\n",
       "      <th></th>\n",
       "      <th></th>\n",
       "      <th></th>\n",
       "      <th></th>\n",
       "      <th></th>\n",
       "    </tr>\n",
       "  </thead>\n",
       "  <tbody>\n",
       "    <tr>\n",
       "      <th>42</th>\n",
       "      <td>Revolt</td>\n",
       "      <td>Revolt RV400</td>\n",
       "      <td>129463.0</td>\n",
       "      <td>NaN</td>\n",
       "      <td>150.0</td>\n",
       "      <td>108.0</td>\n",
       "      <td>1</td>\n",
       "    </tr>\n",
       "    <tr>\n",
       "      <th>79</th>\n",
       "      <td>Hero</td>\n",
       "      <td>Hero Electric Optima HX</td>\n",
       "      <td>55580.0</td>\n",
       "      <td>NaN</td>\n",
       "      <td>82.0</td>\n",
       "      <td>73.0</td>\n",
       "      <td>1</td>\n",
       "    </tr>\n",
       "    <tr>\n",
       "      <th>88</th>\n",
       "      <td>Revolt</td>\n",
       "      <td>Revolt RV300</td>\n",
       "      <td>114264.0</td>\n",
       "      <td>NaN</td>\n",
       "      <td>180.0</td>\n",
       "      <td>101.0</td>\n",
       "      <td>1</td>\n",
       "    </tr>\n",
       "    <tr>\n",
       "      <th>92</th>\n",
       "      <td>Ather</td>\n",
       "      <td>Ather 450</td>\n",
       "      <td>118995.0</td>\n",
       "      <td>NaN</td>\n",
       "      <td>100.0</td>\n",
       "      <td>108.0</td>\n",
       "      <td>1</td>\n",
       "    </tr>\n",
       "    <tr>\n",
       "      <th>96</th>\n",
       "      <td>TVS</td>\n",
       "      <td>TVS iQube</td>\n",
       "      <td>166358.0</td>\n",
       "      <td>NaN</td>\n",
       "      <td>75.0</td>\n",
       "      <td>118.0</td>\n",
       "      <td>1</td>\n",
       "    </tr>\n",
       "  </tbody>\n",
       "</table>\n",
       "</div>"
      ],
      "text/plain": [
       "            Brand               Model Name     Price   CC Mileage  Weight  \\\n",
       "Serial No                                                                   \n",
       "42         Revolt             Revolt RV400  129463.0  NaN   150.0   108.0   \n",
       "79           Hero  Hero Electric Optima HX   55580.0  NaN    82.0    73.0   \n",
       "88         Revolt             Revolt RV300  114264.0  NaN   180.0   101.0   \n",
       "92          Ather                Ather 450  118995.0  NaN   100.0   108.0   \n",
       "96            TVS                TVS iQube  166358.0  NaN    75.0   118.0   \n",
       "\n",
       "           Electric  \n",
       "Serial No            \n",
       "42                1  \n",
       "79                1  \n",
       "88                1  \n",
       "92                1  \n",
       "96                1  "
      ]
     },
     "execution_count": 268,
     "metadata": {},
     "output_type": "execute_result"
    }
   ],
   "source": [
    "df[df['CC'].isnull()].head()"
   ]
  },
  {
   "cell_type": "markdown",
   "id": "6beb3707-9d6f-40ab-8132-ef13c0f38318",
   "metadata": {},
   "source": [
    "# lets make cc to NA for electric bikes"
   ]
  },
  {
   "cell_type": "code",
   "execution_count": 270,
   "id": "be8da2c9-046a-4fe5-9cfd-9ce009af095d",
   "metadata": {},
   "outputs": [
    {
     "name": "stderr",
     "output_type": "stream",
     "text": [
      "C:\\Users\\240G_up\\AppData\\Local\\Temp\\ipykernel_8908\\268117469.py:1: SettingWithCopyWarning: \n",
      "A value is trying to be set on a copy of a slice from a DataFrame\n",
      "\n",
      "See the caveats in the documentation: https://pandas.pydata.org/pandas-docs/stable/user_guide/indexing.html#returning-a-view-versus-a-copy\n",
      "  df['CC'].fillna('N/A', inplace = True)\n"
     ]
    }
   ],
   "source": [
    "df['CC'].fillna('N/A', inplace = True)"
   ]
  },
  {
   "cell_type": "code",
   "execution_count": 271,
   "id": "c836007d-12c5-4c39-b0d9-c671ad5fd594",
   "metadata": {},
   "outputs": [
    {
     "data": {
      "text/plain": [
       "0"
      ]
     },
     "execution_count": 271,
     "metadata": {},
     "output_type": "execute_result"
    }
   ],
   "source": [
    "df.CC.isnull().sum()"
   ]
  },
  {
   "cell_type": "code",
   "execution_count": 272,
   "id": "557c08d5-b771-4973-8069-b7085be7264f",
   "metadata": {},
   "outputs": [
    {
     "data": {
      "text/plain": [
       "Brand          0\n",
       "Model Name     0\n",
       "Price          0\n",
       "CC             0\n",
       "Mileage       30\n",
       "Weight         0\n",
       "Electric       0\n",
       "dtype: int64"
      ]
     },
     "execution_count": 272,
     "metadata": {},
     "output_type": "execute_result"
    }
   ],
   "source": [
    "df.isnull().sum()"
   ]
  },
  {
   "cell_type": "markdown",
   "id": "f80431cc-9aca-4674-84e0-18ac1d82f6f1",
   "metadata": {},
   "source": [
    "# Lets check what NaN values we have in that column"
   ]
  },
  {
   "cell_type": "code",
   "execution_count": 273,
   "id": "d932dbda-371c-40cf-9d6a-86e7f78b7cad",
   "metadata": {},
   "outputs": [
    {
     "data": {
      "text/html": [
       "<div>\n",
       "<style scoped>\n",
       "    .dataframe tbody tr th:only-of-type {\n",
       "        vertical-align: middle;\n",
       "    }\n",
       "\n",
       "    .dataframe tbody tr th {\n",
       "        vertical-align: top;\n",
       "    }\n",
       "\n",
       "    .dataframe thead th {\n",
       "        text-align: right;\n",
       "    }\n",
       "</style>\n",
       "<table border=\"1\" class=\"dataframe\">\n",
       "  <thead>\n",
       "    <tr style=\"text-align: right;\">\n",
       "      <th></th>\n",
       "      <th>Brand</th>\n",
       "      <th>Model Name</th>\n",
       "      <th>Price</th>\n",
       "      <th>CC</th>\n",
       "      <th>Mileage</th>\n",
       "      <th>Weight</th>\n",
       "      <th>Electric</th>\n",
       "    </tr>\n",
       "    <tr>\n",
       "      <th>Serial No</th>\n",
       "      <th></th>\n",
       "      <th></th>\n",
       "      <th></th>\n",
       "      <th></th>\n",
       "      <th></th>\n",
       "      <th></th>\n",
       "      <th></th>\n",
       "    </tr>\n",
       "  </thead>\n",
       "  <tbody>\n",
       "    <tr>\n",
       "      <th>29</th>\n",
       "      <td>Bajaj</td>\n",
       "      <td>Bajaj Pulsar NS 125</td>\n",
       "      <td>93818.0</td>\n",
       "      <td>124.4</td>\n",
       "      <td>NaN</td>\n",
       "      <td>144.0</td>\n",
       "      <td>0</td>\n",
       "    </tr>\n",
       "    <tr>\n",
       "      <th>39</th>\n",
       "      <td>Hero</td>\n",
       "      <td>Hero XPulse 200 4V</td>\n",
       "      <td>130150.0</td>\n",
       "      <td>199.6</td>\n",
       "      <td>NaN</td>\n",
       "      <td>158.0</td>\n",
       "      <td>0</td>\n",
       "    </tr>\n",
       "    <tr>\n",
       "      <th>44</th>\n",
       "      <td>Royal Enfield</td>\n",
       "      <td>Royal Enfield Scram 411</td>\n",
       "      <td>203000.0</td>\n",
       "      <td>411.0</td>\n",
       "      <td>NaN</td>\n",
       "      <td>185.0</td>\n",
       "      <td>0</td>\n",
       "    </tr>\n",
       "    <tr>\n",
       "      <th>65</th>\n",
       "      <td>Yamaha</td>\n",
       "      <td>Yamaha Aerox 155</td>\n",
       "      <td>129000.0</td>\n",
       "      <td>155.0</td>\n",
       "      <td>NaN</td>\n",
       "      <td>122.0</td>\n",
       "      <td>0</td>\n",
       "    </tr>\n",
       "    <tr>\n",
       "      <th>72</th>\n",
       "      <td>Suzuki</td>\n",
       "      <td>Suzuki V-Strom SX 250</td>\n",
       "      <td>211600.0</td>\n",
       "      <td>249.0</td>\n",
       "      <td>NaN</td>\n",
       "      <td>167.0</td>\n",
       "      <td>0</td>\n",
       "    </tr>\n",
       "    <tr>\n",
       "      <th>97</th>\n",
       "      <td>Bajaj</td>\n",
       "      <td>Bajaj Pulsar N250</td>\n",
       "      <td>138000.0</td>\n",
       "      <td>249.1</td>\n",
       "      <td>NaN</td>\n",
       "      <td>162.0</td>\n",
       "      <td>0</td>\n",
       "    </tr>\n",
       "    <tr>\n",
       "      <th>100</th>\n",
       "      <td>Yezdi</td>\n",
       "      <td>Yezdi Roadster</td>\n",
       "      <td>198142.0</td>\n",
       "      <td>334.0</td>\n",
       "      <td>NaN</td>\n",
       "      <td>184.0</td>\n",
       "      <td>0</td>\n",
       "    </tr>\n",
       "    <tr>\n",
       "      <th>115</th>\n",
       "      <td>Yamaha</td>\n",
       "      <td>Yamaha FZ-X</td>\n",
       "      <td>116800.0</td>\n",
       "      <td>149.0</td>\n",
       "      <td>NaN</td>\n",
       "      <td>139.0</td>\n",
       "      <td>0</td>\n",
       "    </tr>\n",
       "    <tr>\n",
       "      <th>136</th>\n",
       "      <td>Honda</td>\n",
       "      <td>Honda CB200X</td>\n",
       "      <td>144500.0</td>\n",
       "      <td>184.4</td>\n",
       "      <td>NaN</td>\n",
       "      <td>147.0</td>\n",
       "      <td>0</td>\n",
       "    </tr>\n",
       "    <tr>\n",
       "      <th>139</th>\n",
       "      <td>Yamaha</td>\n",
       "      <td>Yamaha R15S V3.0</td>\n",
       "      <td>158939.0</td>\n",
       "      <td>155.0</td>\n",
       "      <td>NaN</td>\n",
       "      <td>142.0</td>\n",
       "      <td>0</td>\n",
       "    </tr>\n",
       "    <tr>\n",
       "      <th>160</th>\n",
       "      <td>Yezdi</td>\n",
       "      <td>Yezdi Scrambler</td>\n",
       "      <td>204900.0</td>\n",
       "      <td>334.0</td>\n",
       "      <td>NaN</td>\n",
       "      <td>182.0</td>\n",
       "      <td>0</td>\n",
       "    </tr>\n",
       "    <tr>\n",
       "      <th>169</th>\n",
       "      <td>Yezdi</td>\n",
       "      <td>Yezdi Adventure</td>\n",
       "      <td>209900.0</td>\n",
       "      <td>334.0</td>\n",
       "      <td>NaN</td>\n",
       "      <td>188.0</td>\n",
       "      <td>0</td>\n",
       "    </tr>\n",
       "    <tr>\n",
       "      <th>183</th>\n",
       "      <td>TVS</td>\n",
       "      <td>TVS Apache RTR 165 RP</td>\n",
       "      <td>145001.0</td>\n",
       "      <td>164.9</td>\n",
       "      <td>NaN</td>\n",
       "      <td>148.0</td>\n",
       "      <td>0</td>\n",
       "    </tr>\n",
       "    <tr>\n",
       "      <th>188</th>\n",
       "      <td>Odysse</td>\n",
       "      <td>Odysse Evoqis</td>\n",
       "      <td>157000.0</td>\n",
       "      <td>N/A</td>\n",
       "      <td>NaN</td>\n",
       "      <td>200.0</td>\n",
       "      <td>1</td>\n",
       "    </tr>\n",
       "    <tr>\n",
       "      <th>231</th>\n",
       "      <td>Suzuki</td>\n",
       "      <td>Suzuki V-Strom 650XT</td>\n",
       "      <td>884000.0</td>\n",
       "      <td>645.0</td>\n",
       "      <td>NaN</td>\n",
       "      <td>216.0</td>\n",
       "      <td>0</td>\n",
       "    </tr>\n",
       "    <tr>\n",
       "      <th>261</th>\n",
       "      <td>Triumph</td>\n",
       "      <td>Triumph Trident 660</td>\n",
       "      <td>745000.0</td>\n",
       "      <td>660.0</td>\n",
       "      <td>NaN</td>\n",
       "      <td>189.0</td>\n",
       "      <td>0</td>\n",
       "    </tr>\n",
       "    <tr>\n",
       "      <th>262</th>\n",
       "      <td>Aprilia</td>\n",
       "      <td>Aprilia SXR 160</td>\n",
       "      <td>126000.0</td>\n",
       "      <td>160.0</td>\n",
       "      <td>NaN</td>\n",
       "      <td>129.0</td>\n",
       "      <td>0</td>\n",
       "    </tr>\n",
       "    <tr>\n",
       "      <th>263</th>\n",
       "      <td>Kawasaki</td>\n",
       "      <td>Kawasaki KLX 140G</td>\n",
       "      <td>406600.0</td>\n",
       "      <td>144.0</td>\n",
       "      <td>NaN</td>\n",
       "      <td>99.0</td>\n",
       "      <td>0</td>\n",
       "    </tr>\n",
       "    <tr>\n",
       "      <th>296</th>\n",
       "      <td>BGauss</td>\n",
       "      <td>BGauss D15</td>\n",
       "      <td>99999.0</td>\n",
       "      <td>N/A</td>\n",
       "      <td>NaN</td>\n",
       "      <td>107.0</td>\n",
       "      <td>1</td>\n",
       "    </tr>\n",
       "    <tr>\n",
       "      <th>298</th>\n",
       "      <td>BMW</td>\n",
       "      <td>BMW M 1000 RR</td>\n",
       "      <td>4200000.0</td>\n",
       "      <td>999.0</td>\n",
       "      <td>NaN</td>\n",
       "      <td>192.0</td>\n",
       "      <td>0</td>\n",
       "    </tr>\n",
       "    <tr>\n",
       "      <th>302</th>\n",
       "      <td>Aprilia</td>\n",
       "      <td>Aprilia RS 660</td>\n",
       "      <td>1339000.0</td>\n",
       "      <td>659.0</td>\n",
       "      <td>NaN</td>\n",
       "      <td>183.0</td>\n",
       "      <td>0</td>\n",
       "    </tr>\n",
       "    <tr>\n",
       "      <th>308</th>\n",
       "      <td>Triumph</td>\n",
       "      <td>Triumph Tiger Sport 660</td>\n",
       "      <td>895000.0</td>\n",
       "      <td>660.0</td>\n",
       "      <td>NaN</td>\n",
       "      <td>206.0</td>\n",
       "      <td>0</td>\n",
       "    </tr>\n",
       "    <tr>\n",
       "      <th>312</th>\n",
       "      <td>Nexzu</td>\n",
       "      <td>Nexzu Mobility Dextro</td>\n",
       "      <td>47000.0</td>\n",
       "      <td>N/A</td>\n",
       "      <td>NaN</td>\n",
       "      <td>62.0</td>\n",
       "      <td>1</td>\n",
       "    </tr>\n",
       "    <tr>\n",
       "      <th>316</th>\n",
       "      <td>BMW</td>\n",
       "      <td>BMW C 400 GT</td>\n",
       "      <td>995000.0</td>\n",
       "      <td>350.0</td>\n",
       "      <td>NaN</td>\n",
       "      <td>202.0</td>\n",
       "      <td>0</td>\n",
       "    </tr>\n",
       "    <tr>\n",
       "      <th>318</th>\n",
       "      <td>Ducati</td>\n",
       "      <td>Ducati Multistrada V4</td>\n",
       "      <td>1899000.0</td>\n",
       "      <td>1158.0</td>\n",
       "      <td>NaN</td>\n",
       "      <td>232.0</td>\n",
       "      <td>0</td>\n",
       "    </tr>\n",
       "    <tr>\n",
       "      <th>319</th>\n",
       "      <td>Aprilia</td>\n",
       "      <td>Aprilia SXR 125</td>\n",
       "      <td>115000.0</td>\n",
       "      <td>125.0</td>\n",
       "      <td>NaN</td>\n",
       "      <td>129.0</td>\n",
       "      <td>0</td>\n",
       "    </tr>\n",
       "    <tr>\n",
       "      <th>343</th>\n",
       "      <td>Kawasaki</td>\n",
       "      <td>Kawasaki Z650RS</td>\n",
       "      <td>672000.0</td>\n",
       "      <td>649.0</td>\n",
       "      <td>NaN</td>\n",
       "      <td>192.0</td>\n",
       "      <td>0</td>\n",
       "    </tr>\n",
       "    <tr>\n",
       "      <th>346</th>\n",
       "      <td>Ducati</td>\n",
       "      <td>Ducati StreetFighter V4</td>\n",
       "      <td>1999000.0</td>\n",
       "      <td>1103.0</td>\n",
       "      <td>NaN</td>\n",
       "      <td>199.0</td>\n",
       "      <td>0</td>\n",
       "    </tr>\n",
       "    <tr>\n",
       "      <th>350</th>\n",
       "      <td>Aprilia</td>\n",
       "      <td>Aprilia Tuono 660</td>\n",
       "      <td>1309000.0</td>\n",
       "      <td>659.0</td>\n",
       "      <td>NaN</td>\n",
       "      <td>183.0</td>\n",
       "      <td>0</td>\n",
       "    </tr>\n",
       "    <tr>\n",
       "      <th>361</th>\n",
       "      <td>Indian</td>\n",
       "      <td>Indian Super Chief Limited</td>\n",
       "      <td>2282155.0</td>\n",
       "      <td>1890.0</td>\n",
       "      <td>NaN</td>\n",
       "      <td>324.0</td>\n",
       "      <td>0</td>\n",
       "    </tr>\n",
       "  </tbody>\n",
       "</table>\n",
       "</div>"
      ],
      "text/plain": [
       "                   Brand                  Model Name      Price      CC  \\\n",
       "Serial No                                                                 \n",
       "29                 Bajaj         Bajaj Pulsar NS 125    93818.0   124.4   \n",
       "39                  Hero          Hero XPulse 200 4V   130150.0   199.6   \n",
       "44         Royal Enfield     Royal Enfield Scram 411   203000.0   411.0   \n",
       "65                Yamaha            Yamaha Aerox 155   129000.0   155.0   \n",
       "72                Suzuki       Suzuki V-Strom SX 250   211600.0   249.0   \n",
       "97                 Bajaj           Bajaj Pulsar N250   138000.0   249.1   \n",
       "100                Yezdi              Yezdi Roadster   198142.0   334.0   \n",
       "115               Yamaha                 Yamaha FZ-X   116800.0   149.0   \n",
       "136                Honda                Honda CB200X   144500.0   184.4   \n",
       "139               Yamaha            Yamaha R15S V3.0   158939.0   155.0   \n",
       "160                Yezdi             Yezdi Scrambler   204900.0   334.0   \n",
       "169                Yezdi             Yezdi Adventure   209900.0   334.0   \n",
       "183                  TVS       TVS Apache RTR 165 RP   145001.0   164.9   \n",
       "188               Odysse               Odysse Evoqis   157000.0     N/A   \n",
       "231               Suzuki        Suzuki V-Strom 650XT   884000.0   645.0   \n",
       "261              Triumph         Triumph Trident 660   745000.0   660.0   \n",
       "262              Aprilia             Aprilia SXR 160   126000.0   160.0   \n",
       "263             Kawasaki           Kawasaki KLX 140G   406600.0   144.0   \n",
       "296               BGauss                  BGauss D15    99999.0     N/A   \n",
       "298                  BMW               BMW M 1000 RR  4200000.0   999.0   \n",
       "302              Aprilia              Aprilia RS 660  1339000.0   659.0   \n",
       "308              Triumph     Triumph Tiger Sport 660   895000.0   660.0   \n",
       "312                Nexzu       Nexzu Mobility Dextro    47000.0     N/A   \n",
       "316                  BMW                BMW C 400 GT   995000.0   350.0   \n",
       "318               Ducati       Ducati Multistrada V4  1899000.0  1158.0   \n",
       "319              Aprilia             Aprilia SXR 125   115000.0   125.0   \n",
       "343             Kawasaki             Kawasaki Z650RS   672000.0   649.0   \n",
       "346               Ducati     Ducati StreetFighter V4  1999000.0  1103.0   \n",
       "350              Aprilia           Aprilia Tuono 660  1309000.0   659.0   \n",
       "361               Indian  Indian Super Chief Limited  2282155.0  1890.0   \n",
       "\n",
       "          Mileage  Weight  Electric  \n",
       "Serial No                            \n",
       "29            NaN   144.0         0  \n",
       "39            NaN   158.0         0  \n",
       "44            NaN   185.0         0  \n",
       "65            NaN   122.0         0  \n",
       "72            NaN   167.0         0  \n",
       "97            NaN   162.0         0  \n",
       "100           NaN   184.0         0  \n",
       "115           NaN   139.0         0  \n",
       "136           NaN   147.0         0  \n",
       "139           NaN   142.0         0  \n",
       "160           NaN   182.0         0  \n",
       "169           NaN   188.0         0  \n",
       "183           NaN   148.0         0  \n",
       "188           NaN   200.0         1  \n",
       "231           NaN   216.0         0  \n",
       "261           NaN   189.0         0  \n",
       "262           NaN   129.0         0  \n",
       "263           NaN    99.0         0  \n",
       "296           NaN   107.0         1  \n",
       "298           NaN   192.0         0  \n",
       "302           NaN   183.0         0  \n",
       "308           NaN   206.0         0  \n",
       "312           NaN    62.0         1  \n",
       "316           NaN   202.0         0  \n",
       "318           NaN   232.0         0  \n",
       "319           NaN   129.0         0  \n",
       "343           NaN   192.0         0  \n",
       "346           NaN   199.0         0  \n",
       "350           NaN   183.0         0  \n",
       "361           NaN   324.0         0  "
      ]
     },
     "execution_count": 273,
     "metadata": {},
     "output_type": "execute_result"
    }
   ],
   "source": [
    "df.loc[df['Mileage'].isnull()]"
   ]
  },
  {
   "cell_type": "markdown",
   "id": "d393e493-b31f-4f5e-849b-ea0feb12f836",
   "metadata": {},
   "source": [
    "# we can replace mean value of mileage column for electric column which has both non electric = 0 and electric bike = 1."
   ]
  },
  {
   "cell_type": "code",
   "execution_count": 274,
   "id": "c0686f7f-65b7-487f-8767-203c9b9159a0",
   "metadata": {},
   "outputs": [],
   "source": [
    "df_mean = df.groupby(['Electric'])['Mileage'].mean() # Avearge mileage for non electric = 32km/l and electric bike = 112 km/charge"
   ]
  },
  {
   "cell_type": "code",
   "execution_count": 275,
   "id": "59b6b77e-9008-482b-8575-436143f4528e",
   "metadata": {},
   "outputs": [
    {
     "data": {
      "text/plain": [
       "Electric\n",
       "0     32.276223\n",
       "1    111.981132\n",
       "Name: Mileage, dtype: float64"
      ]
     },
     "execution_count": 275,
     "metadata": {},
     "output_type": "execute_result"
    }
   ],
   "source": [
    "df_mean"
   ]
  },
  {
   "cell_type": "code",
   "execution_count": 276,
   "id": "030549b7-bb17-4251-a68c-57533dd99865",
   "metadata": {},
   "outputs": [],
   "source": [
    "datax= df.loc[df['Electric']==0 ,['CC','Mileage','Weight','Price']]\n",
    "datax['CC']= datax['CC'].astype('float')\n",
    "datax['Mileage']= datax['Mileage'].astype('float')"
   ]
  },
  {
   "cell_type": "code",
   "execution_count": 277,
   "id": "3dec8d56-a0bd-4bb6-b0e0-b330557a20a6",
   "metadata": {},
   "outputs": [
    {
     "data": {
      "text/html": [
       "<div>\n",
       "<style scoped>\n",
       "    .dataframe tbody tr th:only-of-type {\n",
       "        vertical-align: middle;\n",
       "    }\n",
       "\n",
       "    .dataframe tbody tr th {\n",
       "        vertical-align: top;\n",
       "    }\n",
       "\n",
       "    .dataframe thead th {\n",
       "        text-align: right;\n",
       "    }\n",
       "</style>\n",
       "<table border=\"1\" class=\"dataframe\">\n",
       "  <thead>\n",
       "    <tr style=\"text-align: right;\">\n",
       "      <th></th>\n",
       "      <th>CC</th>\n",
       "      <th>Mileage</th>\n",
       "      <th>Weight</th>\n",
       "      <th>Price</th>\n",
       "    </tr>\n",
       "    <tr>\n",
       "      <th>Serial No</th>\n",
       "      <th></th>\n",
       "      <th></th>\n",
       "      <th></th>\n",
       "      <th></th>\n",
       "    </tr>\n",
       "  </thead>\n",
       "  <tbody>\n",
       "    <tr>\n",
       "      <th>0</th>\n",
       "      <td>411.0</td>\n",
       "      <td>45.00</td>\n",
       "      <td>191.0</td>\n",
       "      <td>210784.0</td>\n",
       "    </tr>\n",
       "    <tr>\n",
       "      <th>1</th>\n",
       "      <td>499.0</td>\n",
       "      <td>27.00</td>\n",
       "      <td>194.0</td>\n",
       "      <td>188868.0</td>\n",
       "    </tr>\n",
       "    <tr>\n",
       "      <th>2</th>\n",
       "      <td>349.0</td>\n",
       "      <td>41.88</td>\n",
       "      <td>183.0</td>\n",
       "      <td>205844.0</td>\n",
       "    </tr>\n",
       "    <tr>\n",
       "      <th>3</th>\n",
       "      <td>346.0</td>\n",
       "      <td>45.00</td>\n",
       "      <td>183.0</td>\n",
       "      <td>127094.0</td>\n",
       "    </tr>\n",
       "    <tr>\n",
       "      <th>4</th>\n",
       "      <td>97.2</td>\n",
       "      <td>70.00</td>\n",
       "      <td>110.0</td>\n",
       "      <td>69380.0</td>\n",
       "    </tr>\n",
       "    <tr>\n",
       "      <th>...</th>\n",
       "      <td>...</td>\n",
       "      <td>...</td>\n",
       "      <td>...</td>\n",
       "      <td>...</td>\n",
       "    </tr>\n",
       "    <tr>\n",
       "      <th>364</th>\n",
       "      <td>229.0</td>\n",
       "      <td>33.98</td>\n",
       "      <td>133.0</td>\n",
       "      <td>223000.0</td>\n",
       "    </tr>\n",
       "    <tr>\n",
       "      <th>365</th>\n",
       "      <td>1745.0</td>\n",
       "      <td>15.00</td>\n",
       "      <td>372.0</td>\n",
       "      <td>3299000.0</td>\n",
       "    </tr>\n",
       "    <tr>\n",
       "      <th>367</th>\n",
       "      <td>1811.0</td>\n",
       "      <td>18.00</td>\n",
       "      <td>388.0</td>\n",
       "      <td>3800000.0</td>\n",
       "    </tr>\n",
       "    <tr>\n",
       "      <th>370</th>\n",
       "      <td>1078.0</td>\n",
       "      <td>15.00</td>\n",
       "      <td>183.0</td>\n",
       "      <td>2102268.0</td>\n",
       "    </tr>\n",
       "    <tr>\n",
       "      <th>371</th>\n",
       "      <td>895.0</td>\n",
       "      <td>24.00</td>\n",
       "      <td>219.0</td>\n",
       "      <td>1230000.0</td>\n",
       "    </tr>\n",
       "  </tbody>\n",
       "</table>\n",
       "<p>305 rows × 4 columns</p>\n",
       "</div>"
      ],
      "text/plain": [
       "               CC  Mileage  Weight      Price\n",
       "Serial No                                    \n",
       "0           411.0    45.00   191.0   210784.0\n",
       "1           499.0    27.00   194.0   188868.0\n",
       "2           349.0    41.88   183.0   205844.0\n",
       "3           346.0    45.00   183.0   127094.0\n",
       "4            97.2    70.00   110.0    69380.0\n",
       "...           ...      ...     ...        ...\n",
       "364         229.0    33.98   133.0   223000.0\n",
       "365        1745.0    15.00   372.0  3299000.0\n",
       "367        1811.0    18.00   388.0  3800000.0\n",
       "370        1078.0    15.00   183.0  2102268.0\n",
       "371         895.0    24.00   219.0  1230000.0\n",
       "\n",
       "[305 rows x 4 columns]"
      ]
     },
     "execution_count": 277,
     "metadata": {},
     "output_type": "execute_result"
    }
   ],
   "source": [
    "datax"
   ]
  },
  {
   "cell_type": "markdown",
   "id": "247d7e6c-6c28-4535-a73b-cd26c38ecfad",
   "metadata": {},
   "source": [
    "# Check correlation for numerical values. "
   ]
  },
  {
   "cell_type": "code",
   "execution_count": 278,
   "id": "237332f6-929a-4411-8934-5cbc3fc2e718",
   "metadata": {},
   "outputs": [
    {
     "data": {
      "text/html": [
       "<div>\n",
       "<style scoped>\n",
       "    .dataframe tbody tr th:only-of-type {\n",
       "        vertical-align: middle;\n",
       "    }\n",
       "\n",
       "    .dataframe tbody tr th {\n",
       "        vertical-align: top;\n",
       "    }\n",
       "\n",
       "    .dataframe thead th {\n",
       "        text-align: right;\n",
       "    }\n",
       "</style>\n",
       "<table border=\"1\" class=\"dataframe\">\n",
       "  <thead>\n",
       "    <tr style=\"text-align: right;\">\n",
       "      <th></th>\n",
       "      <th>CC</th>\n",
       "      <th>Mileage</th>\n",
       "      <th>Weight</th>\n",
       "      <th>Price</th>\n",
       "    </tr>\n",
       "  </thead>\n",
       "  <tbody>\n",
       "    <tr>\n",
       "      <th>CC</th>\n",
       "      <td>1.000000</td>\n",
       "      <td>-0.732359</td>\n",
       "      <td>0.916206</td>\n",
       "      <td>0.811898</td>\n",
       "    </tr>\n",
       "    <tr>\n",
       "      <th>Mileage</th>\n",
       "      <td>-0.732359</td>\n",
       "      <td>1.000000</td>\n",
       "      <td>-0.704316</td>\n",
       "      <td>-0.630581</td>\n",
       "    </tr>\n",
       "    <tr>\n",
       "      <th>Weight</th>\n",
       "      <td>0.916206</td>\n",
       "      <td>-0.704316</td>\n",
       "      <td>1.000000</td>\n",
       "      <td>0.754903</td>\n",
       "    </tr>\n",
       "    <tr>\n",
       "      <th>Price</th>\n",
       "      <td>0.811898</td>\n",
       "      <td>-0.630581</td>\n",
       "      <td>0.754903</td>\n",
       "      <td>1.000000</td>\n",
       "    </tr>\n",
       "  </tbody>\n",
       "</table>\n",
       "</div>"
      ],
      "text/plain": [
       "               CC   Mileage    Weight     Price\n",
       "CC       1.000000 -0.732359  0.916206  0.811898\n",
       "Mileage -0.732359  1.000000 -0.704316 -0.630581\n",
       "Weight   0.916206 -0.704316  1.000000  0.754903\n",
       "Price    0.811898 -0.630581  0.754903  1.000000"
      ]
     },
     "execution_count": 278,
     "metadata": {},
     "output_type": "execute_result"
    }
   ],
   "source": [
    "datax.corr()"
   ]
  },
  {
   "cell_type": "code",
   "execution_count": 279,
   "id": "95626fa2-824e-4e1e-9125-afc27a9a7242",
   "metadata": {},
   "outputs": [
    {
     "data": {
      "text/plain": [
       "<AxesSubplot:>"
      ]
     },
     "execution_count": 279,
     "metadata": {},
     "output_type": "execute_result"
    },
    {
     "data": {
      "image/png": "[encoded data removed]",
      "text/plain": [
       "<Figure size 432x288 with 2 Axes>"
      ]
     },
     "metadata": {
      "needs_background": "light"
     },
     "output_type": "display_data"
    }
   ],
   "source": [
    "sns.heatmap(datax.corr(), annot = True)"
   ]
  },
  {
   "cell_type": "code",
   "execution_count": 280,
   "id": "89791fe2-42b4-4d08-aec5-71cb5f158ced",
   "metadata": {},
   "outputs": [],
   "source": [
    "# cc and weight are highly correlated correlated."
   ]
  },
  {
   "cell_type": "code",
   "execution_count": 281,
   "id": "1869d9de-49c5-4f18-8e01-f9557f46f9f9",
   "metadata": {},
   "outputs": [],
   "source": [
    "# df['Mileage'].fillna('df_mean', inplace = True)"
   ]
  },
  {
   "cell_type": "code",
   "execution_count": 282,
   "id": "86a47b40-b309-482a-b114-b59ca76f4679",
   "metadata": {},
   "outputs": [
    {
     "data": {
      "text/plain": [
       "Brand          0\n",
       "Model Name     0\n",
       "Price          0\n",
       "CC             0\n",
       "Mileage       30\n",
       "Weight         0\n",
       "Electric       0\n",
       "dtype: int64"
      ]
     },
     "execution_count": 282,
     "metadata": {},
     "output_type": "execute_result"
    }
   ],
   "source": [
    "df.isnull().sum()"
   ]
  },
  {
   "cell_type": "code",
   "execution_count": 283,
   "id": "cdae93c8-c45e-418c-8d1e-344ee9d7e5f9",
   "metadata": {},
   "outputs": [
    {
     "data": {
      "text/html": [
       "<div>\n",
       "<style scoped>\n",
       "    .dataframe tbody tr th:only-of-type {\n",
       "        vertical-align: middle;\n",
       "    }\n",
       "\n",
       "    .dataframe tbody tr th {\n",
       "        vertical-align: top;\n",
       "    }\n",
       "\n",
       "    .dataframe thead th {\n",
       "        text-align: right;\n",
       "    }\n",
       "</style>\n",
       "<table border=\"1\" class=\"dataframe\">\n",
       "  <thead>\n",
       "    <tr style=\"text-align: right;\">\n",
       "      <th></th>\n",
       "      <th>Brand</th>\n",
       "      <th>Model Name</th>\n",
       "      <th>Price</th>\n",
       "      <th>CC</th>\n",
       "      <th>Mileage</th>\n",
       "      <th>Weight</th>\n",
       "      <th>Electric</th>\n",
       "    </tr>\n",
       "    <tr>\n",
       "      <th>Serial No</th>\n",
       "      <th></th>\n",
       "      <th></th>\n",
       "      <th></th>\n",
       "      <th></th>\n",
       "      <th></th>\n",
       "      <th></th>\n",
       "      <th></th>\n",
       "    </tr>\n",
       "  </thead>\n",
       "  <tbody>\n",
       "    <tr>\n",
       "      <th>0</th>\n",
       "      <td>Royal Enfield</td>\n",
       "      <td>Royal Enfield Himalayan</td>\n",
       "      <td>210784.0</td>\n",
       "      <td>411.0</td>\n",
       "      <td>45.0</td>\n",
       "      <td>191.0</td>\n",
       "      <td>0</td>\n",
       "    </tr>\n",
       "    <tr>\n",
       "      <th>1</th>\n",
       "      <td>Royal Enfield</td>\n",
       "      <td>Royal Enfield Classic Chrome</td>\n",
       "      <td>188868.0</td>\n",
       "      <td>499.0</td>\n",
       "      <td>27.0</td>\n",
       "      <td>194.0</td>\n",
       "      <td>0</td>\n",
       "    </tr>\n",
       "    <tr>\n",
       "      <th>2</th>\n",
       "      <td>Royal Enfield</td>\n",
       "      <td>Royal Enfield Meteor 350</td>\n",
       "      <td>205844.0</td>\n",
       "      <td>349.0</td>\n",
       "      <td>41.88</td>\n",
       "      <td>183.0</td>\n",
       "      <td>0</td>\n",
       "    </tr>\n",
       "    <tr>\n",
       "      <th>3</th>\n",
       "      <td>Royal Enfield</td>\n",
       "      <td>Royal Enfield Bullet 350</td>\n",
       "      <td>127094.0</td>\n",
       "      <td>346.0</td>\n",
       "      <td>45.0</td>\n",
       "      <td>183.0</td>\n",
       "      <td>0</td>\n",
       "    </tr>\n",
       "    <tr>\n",
       "      <th>4</th>\n",
       "      <td>Hero</td>\n",
       "      <td>Hero Splendor +</td>\n",
       "      <td>69380.0</td>\n",
       "      <td>97.2</td>\n",
       "      <td>70.0</td>\n",
       "      <td>110.0</td>\n",
       "      <td>0</td>\n",
       "    </tr>\n",
       "  </tbody>\n",
       "</table>\n",
       "</div>"
      ],
      "text/plain": [
       "                   Brand                    Model Name     Price     CC  \\\n",
       "Serial No                                                                 \n",
       "0          Royal Enfield       Royal Enfield Himalayan  210784.0  411.0   \n",
       "1          Royal Enfield  Royal Enfield Classic Chrome  188868.0  499.0   \n",
       "2          Royal Enfield      Royal Enfield Meteor 350  205844.0  349.0   \n",
       "3          Royal Enfield      Royal Enfield Bullet 350  127094.0  346.0   \n",
       "4                   Hero               Hero Splendor +   69380.0   97.2   \n",
       "\n",
       "          Mileage  Weight  Electric  \n",
       "Serial No                            \n",
       "0            45.0   191.0         0  \n",
       "1            27.0   194.0         0  \n",
       "2           41.88   183.0         0  \n",
       "3            45.0   183.0         0  \n",
       "4            70.0   110.0         0  "
      ]
     },
     "execution_count": 283,
     "metadata": {},
     "output_type": "execute_result"
    }
   ],
   "source": [
    "df.head()"
   ]
  },
  {
   "cell_type": "code",
   "execution_count": 284,
   "id": "a192cc60-243f-47f2-8a80-a2808026ca32",
   "metadata": {},
   "outputs": [
    {
     "data": {
      "text/plain": [
       "Serial No\n",
       "0       45.00\n",
       "1       27.00\n",
       "2       41.88\n",
       "3       45.00\n",
       "4       70.00\n",
       "        ...  \n",
       "368    160.00\n",
       "369     70.00\n",
       "370     15.00\n",
       "371     24.00\n",
       "372    110.00\n",
       "Name: Mileage, Length: 361, dtype: float64"
      ]
     },
     "execution_count": 284,
     "metadata": {},
     "output_type": "execute_result"
    }
   ],
   "source": [
    "df['Mileage'].astype('float')"
   ]
  },
  {
   "cell_type": "code",
   "execution_count": 285,
   "id": "9b5eac88-d4d3-4454-815b-763365493862",
   "metadata": {},
   "outputs": [
    {
     "data": {
      "text/html": [
       "<div>\n",
       "<style scoped>\n",
       "    .dataframe tbody tr th:only-of-type {\n",
       "        vertical-align: middle;\n",
       "    }\n",
       "\n",
       "    .dataframe tbody tr th {\n",
       "        vertical-align: top;\n",
       "    }\n",
       "\n",
       "    .dataframe thead th {\n",
       "        text-align: right;\n",
       "    }\n",
       "</style>\n",
       "<table border=\"1\" class=\"dataframe\">\n",
       "  <thead>\n",
       "    <tr style=\"text-align: right;\">\n",
       "      <th></th>\n",
       "      <th>Price</th>\n",
       "      <th>Weight</th>\n",
       "      <th>Electric</th>\n",
       "    </tr>\n",
       "  </thead>\n",
       "  <tbody>\n",
       "    <tr>\n",
       "      <th>count</th>\n",
       "      <td>3.610000e+02</td>\n",
       "      <td>361.000000</td>\n",
       "      <td>361.000000</td>\n",
       "    </tr>\n",
       "    <tr>\n",
       "      <th>mean</th>\n",
       "      <td>8.399079e+05</td>\n",
       "      <td>178.839335</td>\n",
       "      <td>0.155125</td>\n",
       "    </tr>\n",
       "    <tr>\n",
       "      <th>std</th>\n",
       "      <td>1.052083e+06</td>\n",
       "      <td>73.839516</td>\n",
       "      <td>0.362526</td>\n",
       "    </tr>\n",
       "    <tr>\n",
       "      <th>min</th>\n",
       "      <td>3.800000e+04</td>\n",
       "      <td>55.000000</td>\n",
       "      <td>0.000000</td>\n",
       "    </tr>\n",
       "    <tr>\n",
       "      <th>25%</th>\n",
       "      <td>1.000000e+05</td>\n",
       "      <td>118.000000</td>\n",
       "      <td>0.000000</td>\n",
       "    </tr>\n",
       "    <tr>\n",
       "      <th>50%</th>\n",
       "      <td>2.420000e+05</td>\n",
       "      <td>169.000000</td>\n",
       "      <td>0.000000</td>\n",
       "    </tr>\n",
       "    <tr>\n",
       "      <th>75%</th>\n",
       "      <td>1.459000e+06</td>\n",
       "      <td>216.000000</td>\n",
       "      <td>0.000000</td>\n",
       "    </tr>\n",
       "    <tr>\n",
       "      <th>max</th>\n",
       "      <td>7.990000e+06</td>\n",
       "      <td>433.000000</td>\n",
       "      <td>1.000000</td>\n",
       "    </tr>\n",
       "  </tbody>\n",
       "</table>\n",
       "</div>"
      ],
      "text/plain": [
       "              Price      Weight    Electric\n",
       "count  3.610000e+02  361.000000  361.000000\n",
       "mean   8.399079e+05  178.839335    0.155125\n",
       "std    1.052083e+06   73.839516    0.362526\n",
       "min    3.800000e+04   55.000000    0.000000\n",
       "25%    1.000000e+05  118.000000    0.000000\n",
       "50%    2.420000e+05  169.000000    0.000000\n",
       "75%    1.459000e+06  216.000000    0.000000\n",
       "max    7.990000e+06  433.000000    1.000000"
      ]
     },
     "execution_count": 285,
     "metadata": {},
     "output_type": "execute_result"
    }
   ],
   "source": [
    "df.describe()"
   ]
  },
  {
   "cell_type": "code",
   "execution_count": 286,
   "id": "c8c83bc4-7f10-402d-9d43-87605c830d84",
   "metadata": {},
   "outputs": [
    {
     "data": {
      "text/html": [
       "<div>\n",
       "<style scoped>\n",
       "    .dataframe tbody tr th:only-of-type {\n",
       "        vertical-align: middle;\n",
       "    }\n",
       "\n",
       "    .dataframe tbody tr th {\n",
       "        vertical-align: top;\n",
       "    }\n",
       "\n",
       "    .dataframe thead th {\n",
       "        text-align: right;\n",
       "    }\n",
       "</style>\n",
       "<table border=\"1\" class=\"dataframe\">\n",
       "  <thead>\n",
       "    <tr style=\"text-align: right;\">\n",
       "      <th></th>\n",
       "      <th>Brand</th>\n",
       "      <th>Model Name</th>\n",
       "      <th>Price</th>\n",
       "      <th>CC</th>\n",
       "      <th>Mileage</th>\n",
       "      <th>Weight</th>\n",
       "      <th>Electric</th>\n",
       "    </tr>\n",
       "    <tr>\n",
       "      <th>Serial No</th>\n",
       "      <th></th>\n",
       "      <th></th>\n",
       "      <th></th>\n",
       "      <th></th>\n",
       "      <th></th>\n",
       "      <th></th>\n",
       "      <th></th>\n",
       "    </tr>\n",
       "  </thead>\n",
       "  <tbody>\n",
       "    <tr>\n",
       "      <th>0</th>\n",
       "      <td>Royal Enfield</td>\n",
       "      <td>Royal Enfield Himalayan</td>\n",
       "      <td>210784.0</td>\n",
       "      <td>411.0</td>\n",
       "      <td>45.0</td>\n",
       "      <td>191.0</td>\n",
       "      <td>0</td>\n",
       "    </tr>\n",
       "    <tr>\n",
       "      <th>1</th>\n",
       "      <td>Royal Enfield</td>\n",
       "      <td>Royal Enfield Classic Chrome</td>\n",
       "      <td>188868.0</td>\n",
       "      <td>499.0</td>\n",
       "      <td>27.0</td>\n",
       "      <td>194.0</td>\n",
       "      <td>0</td>\n",
       "    </tr>\n",
       "    <tr>\n",
       "      <th>2</th>\n",
       "      <td>Royal Enfield</td>\n",
       "      <td>Royal Enfield Meteor 350</td>\n",
       "      <td>205844.0</td>\n",
       "      <td>349.0</td>\n",
       "      <td>41.88</td>\n",
       "      <td>183.0</td>\n",
       "      <td>0</td>\n",
       "    </tr>\n",
       "  </tbody>\n",
       "</table>\n",
       "</div>"
      ],
      "text/plain": [
       "                   Brand                    Model Name     Price     CC  \\\n",
       "Serial No                                                                 \n",
       "0          Royal Enfield       Royal Enfield Himalayan  210784.0  411.0   \n",
       "1          Royal Enfield  Royal Enfield Classic Chrome  188868.0  499.0   \n",
       "2          Royal Enfield      Royal Enfield Meteor 350  205844.0  349.0   \n",
       "\n",
       "          Mileage  Weight  Electric  \n",
       "Serial No                            \n",
       "0            45.0   191.0         0  \n",
       "1            27.0   194.0         0  \n",
       "2           41.88   183.0         0  "
      ]
     },
     "execution_count": 286,
     "metadata": {},
     "output_type": "execute_result"
    }
   ],
   "source": [
    "df.head(3)"
   ]
  },
  {
   "cell_type": "markdown",
   "id": "0156aff9-5eea-4f0c-8f0a-6f786b3d5083",
   "metadata": {},
   "source": [
    "# Exploratory Analysis"
   ]
  },
  {
   "cell_type": "markdown",
   "id": "ccbda316-d25c-4aa6-ae4c-74af6925ab5c",
   "metadata": {},
   "source": [
    "#  Total number of models with brand."
   ]
  },
  {
   "cell_type": "code",
   "execution_count": 287,
   "id": "719aa8ba-ac72-42e0-bccd-8864335ca78d",
   "metadata": {
    "tags": []
   },
   "outputs": [
    {
     "data": {
      "text/plain": [
       "Kawasaki           31\n",
       "BMW                26\n",
       "Ducati             24\n",
       "Honda              23\n",
       "Hero               23\n",
       "Bajaj              20\n",
       "TVS                19\n",
       "Triumph            17\n",
       "Yamaha             16\n",
       "Harley-Davidson    16\n",
       "Indian             15\n",
       "Suzuki             11\n",
       "Aprilia            10\n",
       "KTM                10\n",
       "Royal Enfield       8\n",
       "Benelli             8\n",
       "Ampere              7\n",
       "Okinawa             7\n",
       "MV                  7\n",
       "Moto                6\n",
       "CFMoto              4\n",
       "JAWA                4\n",
       "BGauss              3\n",
       "Yezdi               3\n",
       "Evolet              3\n",
       "Odysse              3\n",
       "Polarity            2\n",
       "Cleveland           2\n",
       "Nexzu               2\n",
       "Kabira              2\n",
       "Ola                 2\n",
       "Avantura            2\n",
       "Husqvarna           2\n",
       "Piaggio             2\n",
       "Revolt              2\n",
       "Crayon              1\n",
       "One                 1\n",
       "Gemopai             1\n",
       "Bounce              1\n",
       "Boom                1\n",
       "Earth               1\n",
       "EeVe                1\n",
       "Okaya               1\n",
       "Lohia               1\n",
       "Li-ions             1\n",
       "Simple              1\n",
       "FB                  1\n",
       "Tork                1\n",
       "Mahindra            1\n",
       "Ather               1\n",
       "Gravton             1\n",
       "Oben                1\n",
       "Atumobile           1\n",
       "22Kymco             1\n",
       "Name: Brand, dtype: int64"
      ]
     },
     "execution_count": 287,
     "metadata": {},
     "output_type": "execute_result"
    }
   ],
   "source": [
    "df['Brand'].value_counts()"
   ]
  },
  {
   "cell_type": "code",
   "execution_count": 288,
   "id": "8fd6c3b9-dd08-4d18-a87a-ecb94e9cba40",
   "metadata": {},
   "outputs": [
    {
     "name": "stderr",
     "output_type": "stream",
     "text": [
      "C:\\Users\\240G_up\\AppData\\Local\\Programs\\Python\\Python310\\lib\\site-packages\\seaborn\\_decorators.py:36: FutureWarning: Pass the following variable as a keyword arg: x. From version 0.12, the only valid positional argument will be `data`, and passing other arguments without an explicit keyword will result in an error or misinterpretation.\n",
      "  warnings.warn(\n"
     ]
    },
    {
     "data": {
      "text/plain": [
       "Text(0.5, 1.0, 'Total number of models with brand')"
      ]
     },
     "execution_count": 288,
     "metadata": {},
     "output_type": "execute_result"
    },
    {
     "data": {
      "image/png": "[encoded data removed]",
      "text/plain": [
       "<Figure size 1080x432 with 1 Axes>"
      ]
     },
     "metadata": {
      "needs_background": "light"
     },
     "output_type": "display_data"
    }
   ],
   "source": [
    "plt.figure(figsize= (15,6))\n",
    "sns.countplot(df['Brand'], order = df['Brand'].value_counts().index)\n",
    "plt.xticks(rotation = 90);\n",
    "plt.title('Total number of models with brand')"
   ]
  },
  {
   "cell_type": "code",
   "execution_count": 289,
   "id": "5eeef1d1-0ac0-4f6a-a7dc-41d08289311f",
   "metadata": {},
   "outputs": [
    {
     "data": {
      "text/html": [
       "<div>\n",
       "<style scoped>\n",
       "    .dataframe tbody tr th:only-of-type {\n",
       "        vertical-align: middle;\n",
       "    }\n",
       "\n",
       "    .dataframe tbody tr th {\n",
       "        vertical-align: top;\n",
       "    }\n",
       "\n",
       "    .dataframe thead th {\n",
       "        text-align: right;\n",
       "    }\n",
       "</style>\n",
       "<table border=\"1\" class=\"dataframe\">\n",
       "  <thead>\n",
       "    <tr style=\"text-align: right;\">\n",
       "      <th></th>\n",
       "      <th>Brand</th>\n",
       "      <th>Model Name</th>\n",
       "      <th>Price</th>\n",
       "      <th>CC</th>\n",
       "      <th>Mileage</th>\n",
       "      <th>Weight</th>\n",
       "      <th>Electric</th>\n",
       "    </tr>\n",
       "    <tr>\n",
       "      <th>Serial No</th>\n",
       "      <th></th>\n",
       "      <th></th>\n",
       "      <th></th>\n",
       "      <th></th>\n",
       "      <th></th>\n",
       "      <th></th>\n",
       "      <th></th>\n",
       "    </tr>\n",
       "  </thead>\n",
       "  <tbody>\n",
       "    <tr>\n",
       "      <th>0</th>\n",
       "      <td>Royal Enfield</td>\n",
       "      <td>Royal Enfield Himalayan</td>\n",
       "      <td>210784.0</td>\n",
       "      <td>411.0</td>\n",
       "      <td>45.0</td>\n",
       "      <td>191.0</td>\n",
       "      <td>0</td>\n",
       "    </tr>\n",
       "    <tr>\n",
       "      <th>1</th>\n",
       "      <td>Royal Enfield</td>\n",
       "      <td>Royal Enfield Classic Chrome</td>\n",
       "      <td>188868.0</td>\n",
       "      <td>499.0</td>\n",
       "      <td>27.0</td>\n",
       "      <td>194.0</td>\n",
       "      <td>0</td>\n",
       "    </tr>\n",
       "  </tbody>\n",
       "</table>\n",
       "</div>"
      ],
      "text/plain": [
       "                   Brand                    Model Name     Price     CC  \\\n",
       "Serial No                                                                 \n",
       "0          Royal Enfield       Royal Enfield Himalayan  210784.0  411.0   \n",
       "1          Royal Enfield  Royal Enfield Classic Chrome  188868.0  499.0   \n",
       "\n",
       "          Mileage  Weight  Electric  \n",
       "Serial No                            \n",
       "0            45.0   191.0         0  \n",
       "1            27.0   194.0         0  "
      ]
     },
     "execution_count": 289,
     "metadata": {},
     "output_type": "execute_result"
    }
   ],
   "source": [
    "df.head(2)"
   ]
  },
  {
   "cell_type": "markdown",
   "id": "b369bf60-45ac-46bd-8fa3-88453abbbbf1",
   "metadata": {},
   "source": [
    "# Lets check for feature electric which bike has highest number."
   ]
  },
  {
   "cell_type": "code",
   "execution_count": 290,
   "id": "750511bd-0e5f-414f-9297-09f35455be33",
   "metadata": {},
   "outputs": [
    {
     "data": {
      "text/plain": [
       "0    305\n",
       "1     56\n",
       "Name: Electric, dtype: int64"
      ]
     },
     "execution_count": 290,
     "metadata": {},
     "output_type": "execute_result"
    }
   ],
   "source": [
    "df['Electric'].value_counts()"
   ]
  },
  {
   "cell_type": "code",
   "execution_count": 291,
   "id": "e84a8f9a-48d9-4845-96a5-2f031d89c903",
   "metadata": {},
   "outputs": [
    {
     "data": {
      "text/plain": [
       "Text(0.5, 1.0, 'Total number of Non electric and electric bikes')"
      ]
     },
     "execution_count": 291,
     "metadata": {},
     "output_type": "execute_result"
    },
    {
     "data": {
      "image/png": "[encoded data removed]",
      "text/plain": [
       "<Figure size 432x288 with 1 Axes>"
      ]
     },
     "metadata": {
      "needs_background": "light"
     },
     "output_type": "display_data"
    }
   ],
   "source": [
    "plt.hist(df['Electric'])\n",
    "plt.xticks([0,1], ['Non electric', 'Electric'])\n",
    "plt.xlabel('Electric')\n",
    "plt.ylabel('count')\n",
    "plt.title('Total number of Non electric and electric bikes')"
   ]
  },
  {
   "cell_type": "code",
   "execution_count": 292,
   "id": "f1e2b466-2b15-4258-a63c-734e92cd6853",
   "metadata": {},
   "outputs": [
    {
     "data": {
      "text/plain": [
       "Text(0.5, 1.0, 'Total number of Non electric and electric bikes')"
      ]
     },
     "execution_count": 292,
     "metadata": {},
     "output_type": "execute_result"
    },
    {
     "data": {
      "image/png": "[encoded data removed]",
      "text/plain": [
       "<Figure size 432x288 with 1 Axes>"
      ]
     },
     "metadata": {
      "needs_background": "light"
     },
     "output_type": "display_data"
    }
   ],
   "source": [
    "plt.bar(df['Electric'].value_counts().index, height = df['Electric'].value_counts().values)\n",
    "plt.xticks([0,1], ['Non Electric bikes', 'Electric Bike'])\n",
    "plt.xlabel('Electric')\n",
    "plt.ylabel('Count')\n",
    "plt.title('Total number of Non electric and electric bikes')"
   ]
  },
  {
   "cell_type": "code",
   "execution_count": 293,
   "id": "56bab178-faad-4a1a-ab6b-d98acf366616",
   "metadata": {},
   "outputs": [
    {
     "data": {
      "text/html": [
       "<div>\n",
       "<style scoped>\n",
       "    .dataframe tbody tr th:only-of-type {\n",
       "        vertical-align: middle;\n",
       "    }\n",
       "\n",
       "    .dataframe tbody tr th {\n",
       "        vertical-align: top;\n",
       "    }\n",
       "\n",
       "    .dataframe thead th {\n",
       "        text-align: right;\n",
       "    }\n",
       "</style>\n",
       "<table border=\"1\" class=\"dataframe\">\n",
       "  <thead>\n",
       "    <tr style=\"text-align: right;\">\n",
       "      <th></th>\n",
       "      <th>Brand</th>\n",
       "      <th>Model Name</th>\n",
       "      <th>Price</th>\n",
       "      <th>CC</th>\n",
       "      <th>Mileage</th>\n",
       "      <th>Weight</th>\n",
       "      <th>Electric</th>\n",
       "    </tr>\n",
       "    <tr>\n",
       "      <th>Serial No</th>\n",
       "      <th></th>\n",
       "      <th></th>\n",
       "      <th></th>\n",
       "      <th></th>\n",
       "      <th></th>\n",
       "      <th></th>\n",
       "      <th></th>\n",
       "    </tr>\n",
       "  </thead>\n",
       "  <tbody>\n",
       "    <tr>\n",
       "      <th>0</th>\n",
       "      <td>Royal Enfield</td>\n",
       "      <td>Royal Enfield Himalayan</td>\n",
       "      <td>210784.0</td>\n",
       "      <td>411.0</td>\n",
       "      <td>45.0</td>\n",
       "      <td>191.0</td>\n",
       "      <td>0</td>\n",
       "    </tr>\n",
       "    <tr>\n",
       "      <th>1</th>\n",
       "      <td>Royal Enfield</td>\n",
       "      <td>Royal Enfield Classic Chrome</td>\n",
       "      <td>188868.0</td>\n",
       "      <td>499.0</td>\n",
       "      <td>27.0</td>\n",
       "      <td>194.0</td>\n",
       "      <td>0</td>\n",
       "    </tr>\n",
       "    <tr>\n",
       "      <th>2</th>\n",
       "      <td>Royal Enfield</td>\n",
       "      <td>Royal Enfield Meteor 350</td>\n",
       "      <td>205844.0</td>\n",
       "      <td>349.0</td>\n",
       "      <td>41.88</td>\n",
       "      <td>183.0</td>\n",
       "      <td>0</td>\n",
       "    </tr>\n",
       "  </tbody>\n",
       "</table>\n",
       "</div>"
      ],
      "text/plain": [
       "                   Brand                    Model Name     Price     CC  \\\n",
       "Serial No                                                                 \n",
       "0          Royal Enfield       Royal Enfield Himalayan  210784.0  411.0   \n",
       "1          Royal Enfield  Royal Enfield Classic Chrome  188868.0  499.0   \n",
       "2          Royal Enfield      Royal Enfield Meteor 350  205844.0  349.0   \n",
       "\n",
       "          Mileage  Weight  Electric  \n",
       "Serial No                            \n",
       "0            45.0   191.0         0  \n",
       "1            27.0   194.0         0  \n",
       "2           41.88   183.0         0  "
      ]
     },
     "execution_count": 293,
     "metadata": {},
     "output_type": "execute_result"
    }
   ],
   "source": [
    "df.head(3)"
   ]
  },
  {
   "cell_type": "code",
   "execution_count": 294,
   "id": "5d12a91e-7b34-451b-8f70-6b44213a428f",
   "metadata": {},
   "outputs": [],
   "source": [
    "df_nonelctric = df.loc[df['Electric']== 0, 'CC']"
   ]
  },
  {
   "cell_type": "code",
   "execution_count": 295,
   "id": "773dbada-acf5-43b6-818f-8f6743f2a61a",
   "metadata": {},
   "outputs": [],
   "source": [
    "df_new = df_nonelctric.value_counts()"
   ]
  },
  {
   "cell_type": "code",
   "execution_count": 296,
   "id": "99648444-3961-456f-b19a-1b8acf6ecf76",
   "metadata": {},
   "outputs": [
    {
     "data": {
      "text/plain": [
       "Index(['249.0', '998.0', '1745.0', '1811.0', '649.0', '937.0', '109.7',\n",
       "       '1170.0', '155.0', '999.0',\n",
       "       ...\n",
       "       '1441.0', '164.9', '499.0', '112.0', '636.0', '999.1', '1923.0',\n",
       "       '248.0', '883.0', '1078.0'],\n",
       "      dtype='object', length=130)"
      ]
     },
     "execution_count": 296,
     "metadata": {},
     "output_type": "execute_result"
    }
   ],
   "source": [
    "df_new.index"
   ]
  },
  {
   "cell_type": "markdown",
   "id": "4460e4bd-2154-4253-8f09-0dfc642dcd75",
   "metadata": {},
   "source": [
    "# 1. What are the top 10 brands with most bikes in Indian market?"
   ]
  },
  {
   "cell_type": "code",
   "execution_count": 297,
   "id": "33a14f05-a97f-4dc7-a8be-a96d67b19082",
   "metadata": {},
   "outputs": [
    {
     "data": {
      "text/html": [
       "<div>\n",
       "<style scoped>\n",
       "    .dataframe tbody tr th:only-of-type {\n",
       "        vertical-align: middle;\n",
       "    }\n",
       "\n",
       "    .dataframe tbody tr th {\n",
       "        vertical-align: top;\n",
       "    }\n",
       "\n",
       "    .dataframe thead th {\n",
       "        text-align: right;\n",
       "    }\n",
       "</style>\n",
       "<table border=\"1\" class=\"dataframe\">\n",
       "  <thead>\n",
       "    <tr style=\"text-align: right;\">\n",
       "      <th></th>\n",
       "      <th>Brand</th>\n",
       "      <th>Model Name</th>\n",
       "      <th>Price</th>\n",
       "      <th>CC</th>\n",
       "      <th>Mileage</th>\n",
       "      <th>Weight</th>\n",
       "      <th>Electric</th>\n",
       "    </tr>\n",
       "    <tr>\n",
       "      <th>Serial No</th>\n",
       "      <th></th>\n",
       "      <th></th>\n",
       "      <th></th>\n",
       "      <th></th>\n",
       "      <th></th>\n",
       "      <th></th>\n",
       "      <th></th>\n",
       "    </tr>\n",
       "  </thead>\n",
       "  <tbody>\n",
       "    <tr>\n",
       "      <th>0</th>\n",
       "      <td>Royal Enfield</td>\n",
       "      <td>Royal Enfield Himalayan</td>\n",
       "      <td>210784.0</td>\n",
       "      <td>411.0</td>\n",
       "      <td>45.0</td>\n",
       "      <td>191.0</td>\n",
       "      <td>0</td>\n",
       "    </tr>\n",
       "    <tr>\n",
       "      <th>1</th>\n",
       "      <td>Royal Enfield</td>\n",
       "      <td>Royal Enfield Classic Chrome</td>\n",
       "      <td>188868.0</td>\n",
       "      <td>499.0</td>\n",
       "      <td>27.0</td>\n",
       "      <td>194.0</td>\n",
       "      <td>0</td>\n",
       "    </tr>\n",
       "    <tr>\n",
       "      <th>2</th>\n",
       "      <td>Royal Enfield</td>\n",
       "      <td>Royal Enfield Meteor 350</td>\n",
       "      <td>205844.0</td>\n",
       "      <td>349.0</td>\n",
       "      <td>41.88</td>\n",
       "      <td>183.0</td>\n",
       "      <td>0</td>\n",
       "    </tr>\n",
       "    <tr>\n",
       "      <th>3</th>\n",
       "      <td>Royal Enfield</td>\n",
       "      <td>Royal Enfield Bullet 350</td>\n",
       "      <td>127094.0</td>\n",
       "      <td>346.0</td>\n",
       "      <td>45.0</td>\n",
       "      <td>183.0</td>\n",
       "      <td>0</td>\n",
       "    </tr>\n",
       "    <tr>\n",
       "      <th>4</th>\n",
       "      <td>Hero</td>\n",
       "      <td>Hero Splendor +</td>\n",
       "      <td>69380.0</td>\n",
       "      <td>97.2</td>\n",
       "      <td>70.0</td>\n",
       "      <td>110.0</td>\n",
       "      <td>0</td>\n",
       "    </tr>\n",
       "  </tbody>\n",
       "</table>\n",
       "</div>"
      ],
      "text/plain": [
       "                   Brand                    Model Name     Price     CC  \\\n",
       "Serial No                                                                 \n",
       "0          Royal Enfield       Royal Enfield Himalayan  210784.0  411.0   \n",
       "1          Royal Enfield  Royal Enfield Classic Chrome  188868.0  499.0   \n",
       "2          Royal Enfield      Royal Enfield Meteor 350  205844.0  349.0   \n",
       "3          Royal Enfield      Royal Enfield Bullet 350  127094.0  346.0   \n",
       "4                   Hero               Hero Splendor +   69380.0   97.2   \n",
       "\n",
       "          Mileage  Weight  Electric  \n",
       "Serial No                            \n",
       "0            45.0   191.0         0  \n",
       "1            27.0   194.0         0  \n",
       "2           41.88   183.0         0  \n",
       "3            45.0   183.0         0  \n",
       "4            70.0   110.0         0  "
      ]
     },
     "execution_count": 297,
     "metadata": {},
     "output_type": "execute_result"
    }
   ],
   "source": [
    "df.head()"
   ]
  },
  {
   "cell_type": "code",
   "execution_count": 298,
   "id": "ef5afb3c-a736-4142-babe-1e78218d3666",
   "metadata": {},
   "outputs": [],
   "source": [
    "top_10 = df['Brand'].value_counts()[0:10]"
   ]
  },
  {
   "cell_type": "code",
   "execution_count": 299,
   "id": "ebcafad5-d562-4fa4-9032-9956e22139c5",
   "metadata": {},
   "outputs": [
    {
     "data": {
      "text/plain": [
       "Kawasaki           31\n",
       "BMW                26\n",
       "Ducati             24\n",
       "Honda              23\n",
       "Hero               23\n",
       "Bajaj              20\n",
       "TVS                19\n",
       "Triumph            17\n",
       "Yamaha             16\n",
       "Harley-Davidson    16\n",
       "Name: Brand, dtype: int64"
      ]
     },
     "execution_count": 299,
     "metadata": {},
     "output_type": "execute_result"
    }
   ],
   "source": [
    "top_10"
   ]
  },
  {
   "cell_type": "code",
   "execution_count": 300,
   "id": "4f8aa16e-4ef8-47ff-a6c4-637853b0b52e",
   "metadata": {},
   "outputs": [
    {
     "data": {
      "text/plain": [
       "Text(0.5, 1.0, 'Top 10 brands with most bikes in indian market')"
      ]
     },
     "execution_count": 300,
     "metadata": {},
     "output_type": "execute_result"
    },
    {
     "data": {
      "image/png": "[encoded data removed]",
      "text/plain": [
       "<Figure size 792x432 with 1 Axes>"
      ]
     },
     "metadata": {
      "needs_background": "light"
     },
     "output_type": "display_data"
    }
   ],
   "source": [
    "plt.figure(figsize = (11,6))\n",
    "plt.bar(top_10.index, height = top_10.values)\n",
    "plt.xlabel('Bike Brand')\n",
    "plt.ylabel('Count')\n",
    "plt.title('Top 10 brands with most bikes in indian market')"
   ]
  },
  {
   "cell_type": "code",
   "execution_count": 301,
   "id": "7ad19ca5-4807-406d-9fca-ff2bda6b2ee5",
   "metadata": {},
   "outputs": [
    {
     "data": {
      "text/plain": [
       "<AxesSubplot:xlabel='Brand', ylabel='count'>"
      ]
     },
     "execution_count": 301,
     "metadata": {},
     "output_type": "execute_result"
    },
    {
     "data": {
      "image/png": "[encoded data removed]",
      "text/plain": [
       "<Figure size 792x432 with 1 Axes>"
      ]
     },
     "metadata": {
      "needs_background": "light"
     },
     "output_type": "display_data"
    }
   ],
   "source": [
    "plt.figure(figsize = (11,6))\n",
    "sns.countplot(x = df.loc[df['Brand'].isin(top_10.index), 'Brand'])"
   ]
  },
  {
   "cell_type": "markdown",
   "id": "740a0264-1891-4a6c-9ba5-6538a8863680",
   "metadata": {},
   "source": [
    "# which Brand produces bikes with best mileage(non-electric)?"
   ]
  },
  {
   "cell_type": "code",
   "execution_count": 302,
   "id": "822280a9-f9b6-4e53-b1ae-51a0ddb6a9e2",
   "metadata": {},
   "outputs": [
    {
     "data": {
      "text/html": [
       "<div>\n",
       "<style scoped>\n",
       "    .dataframe tbody tr th:only-of-type {\n",
       "        vertical-align: middle;\n",
       "    }\n",
       "\n",
       "    .dataframe tbody tr th {\n",
       "        vertical-align: top;\n",
       "    }\n",
       "\n",
       "    .dataframe thead th {\n",
       "        text-align: right;\n",
       "    }\n",
       "</style>\n",
       "<table border=\"1\" class=\"dataframe\">\n",
       "  <thead>\n",
       "    <tr style=\"text-align: right;\">\n",
       "      <th></th>\n",
       "      <th>Brand</th>\n",
       "      <th>Model Name</th>\n",
       "      <th>Price</th>\n",
       "      <th>CC</th>\n",
       "      <th>Mileage</th>\n",
       "      <th>Weight</th>\n",
       "      <th>Electric</th>\n",
       "    </tr>\n",
       "    <tr>\n",
       "      <th>Serial No</th>\n",
       "      <th></th>\n",
       "      <th></th>\n",
       "      <th></th>\n",
       "      <th></th>\n",
       "      <th></th>\n",
       "      <th></th>\n",
       "      <th></th>\n",
       "    </tr>\n",
       "  </thead>\n",
       "  <tbody>\n",
       "    <tr>\n",
       "      <th>0</th>\n",
       "      <td>Royal Enfield</td>\n",
       "      <td>Royal Enfield Himalayan</td>\n",
       "      <td>210784.0</td>\n",
       "      <td>411.0</td>\n",
       "      <td>45.0</td>\n",
       "      <td>191.0</td>\n",
       "      <td>0</td>\n",
       "    </tr>\n",
       "    <tr>\n",
       "      <th>1</th>\n",
       "      <td>Royal Enfield</td>\n",
       "      <td>Royal Enfield Classic Chrome</td>\n",
       "      <td>188868.0</td>\n",
       "      <td>499.0</td>\n",
       "      <td>27.0</td>\n",
       "      <td>194.0</td>\n",
       "      <td>0</td>\n",
       "    </tr>\n",
       "  </tbody>\n",
       "</table>\n",
       "</div>"
      ],
      "text/plain": [
       "                   Brand                    Model Name     Price     CC  \\\n",
       "Serial No                                                                 \n",
       "0          Royal Enfield       Royal Enfield Himalayan  210784.0  411.0   \n",
       "1          Royal Enfield  Royal Enfield Classic Chrome  188868.0  499.0   \n",
       "\n",
       "          Mileage  Weight  Electric  \n",
       "Serial No                            \n",
       "0            45.0   191.0         0  \n",
       "1            27.0   194.0         0  "
      ]
     },
     "execution_count": 302,
     "metadata": {},
     "output_type": "execute_result"
    }
   ],
   "source": [
    "df.head(2)"
   ]
  },
  {
   "cell_type": "code",
   "execution_count": 303,
   "id": "35831c0f-7573-4398-bf38-60c5d6afcbc7",
   "metadata": {},
   "outputs": [],
   "source": [
    "top_5mileage = df[df['Electric']==0].groupby('Brand')['Mileage'].mean().nlargest(5)"
   ]
  },
  {
   "cell_type": "code",
   "execution_count": 304,
   "id": "47c840b3-13b3-4d80-8a82-7370b0f8e69d",
   "metadata": {},
   "outputs": [
    {
     "data": {
      "text/plain": [
       "Brand\n",
       "Hero      62.905882\n",
       "Lohia     60.000000\n",
       "TVS       56.788235\n",
       "Bajaj     54.670588\n",
       "Suzuki    46.111111\n",
       "Name: Mileage, dtype: float64"
      ]
     },
     "execution_count": 304,
     "metadata": {},
     "output_type": "execute_result"
    }
   ],
   "source": [
    "top_5mileage "
   ]
  },
  {
   "cell_type": "code",
   "execution_count": 305,
   "id": "6b503aa2-dd29-4fde-9803-ad295e076857",
   "metadata": {},
   "outputs": [
    {
     "data": {
      "text/plain": [
       "Text(0.5, 1.0, 'Bikes with best mileage (Non electric)')"
      ]
     },
     "execution_count": 305,
     "metadata": {},
     "output_type": "execute_result"
    },
    {
     "data": {
      "image/png": "[encoded data removed]",
      "text/plain": [
       "<Figure size 432x288 with 1 Axes>"
      ]
     },
     "metadata": {
      "needs_background": "light"
     },
     "output_type": "display_data"
    }
   ],
   "source": [
    "plt.bar(top_5mileage.index, height = top_5mileage.values)\n",
    "plt.xlabel('Brand')\n",
    "plt.ylabel('Avg Mileage')\n",
    "plt.title('Bikes with best mileage (Non electric)')"
   ]
  },
  {
   "cell_type": "code",
   "execution_count": 306,
   "id": "16d83e8e-03a0-4263-8c1d-05495cd81154",
   "metadata": {},
   "outputs": [
    {
     "data": {
      "text/plain": [
       "Text(0.5, 1.0, 'Bikes with best mileage (Non electric)')"
      ]
     },
     "execution_count": 306,
     "metadata": {},
     "output_type": "execute_result"
    },
    {
     "data": {
      "image/png": "[encoded data removed]",
      "text/plain": [
       "<Figure size 432x288 with 1 Axes>"
      ]
     },
     "metadata": {
      "needs_background": "light"
     },
     "output_type": "display_data"
    }
   ],
   "source": [
    "sns.barplot(y = top_5mileage.index, x = top_5mileage.values, data = df)\n",
    "plt.xlabel('Avg Mileage')\n",
    "plt.ylabel('Brand')\n",
    "plt.title('Bikes with best mileage (Non electric)')"
   ]
  },
  {
   "cell_type": "markdown",
   "id": "8d9746cd-4da5-4aaa-9442-96350795b6e9",
   "metadata": {},
   "source": [
    "# What are the top 5 luxury bike brands? And Note the highest pricing bike of the each brand?"
   ]
  },
  {
   "cell_type": "code",
   "execution_count": 307,
   "id": "fa9e676d-6e8b-4c62-9e7d-3aa652cbb82b",
   "metadata": {},
   "outputs": [
    {
     "data": {
      "text/html": [
       "<div>\n",
       "<style scoped>\n",
       "    .dataframe tbody tr th:only-of-type {\n",
       "        vertical-align: middle;\n",
       "    }\n",
       "\n",
       "    .dataframe tbody tr th {\n",
       "        vertical-align: top;\n",
       "    }\n",
       "\n",
       "    .dataframe thead th {\n",
       "        text-align: right;\n",
       "    }\n",
       "</style>\n",
       "<table border=\"1\" class=\"dataframe\">\n",
       "  <thead>\n",
       "    <tr style=\"text-align: right;\">\n",
       "      <th></th>\n",
       "      <th>Brand</th>\n",
       "      <th>Model Name</th>\n",
       "      <th>Price</th>\n",
       "      <th>CC</th>\n",
       "      <th>Mileage</th>\n",
       "      <th>Weight</th>\n",
       "      <th>Electric</th>\n",
       "    </tr>\n",
       "    <tr>\n",
       "      <th>Serial No</th>\n",
       "      <th></th>\n",
       "      <th></th>\n",
       "      <th></th>\n",
       "      <th></th>\n",
       "      <th></th>\n",
       "      <th></th>\n",
       "      <th></th>\n",
       "    </tr>\n",
       "  </thead>\n",
       "  <tbody>\n",
       "    <tr>\n",
       "      <th>0</th>\n",
       "      <td>Royal Enfield</td>\n",
       "      <td>Royal Enfield Himalayan</td>\n",
       "      <td>210784.0</td>\n",
       "      <td>411.0</td>\n",
       "      <td>45.0</td>\n",
       "      <td>191.0</td>\n",
       "      <td>0</td>\n",
       "    </tr>\n",
       "    <tr>\n",
       "      <th>1</th>\n",
       "      <td>Royal Enfield</td>\n",
       "      <td>Royal Enfield Classic Chrome</td>\n",
       "      <td>188868.0</td>\n",
       "      <td>499.0</td>\n",
       "      <td>27.0</td>\n",
       "      <td>194.0</td>\n",
       "      <td>0</td>\n",
       "    </tr>\n",
       "    <tr>\n",
       "      <th>2</th>\n",
       "      <td>Royal Enfield</td>\n",
       "      <td>Royal Enfield Meteor 350</td>\n",
       "      <td>205844.0</td>\n",
       "      <td>349.0</td>\n",
       "      <td>41.88</td>\n",
       "      <td>183.0</td>\n",
       "      <td>0</td>\n",
       "    </tr>\n",
       "    <tr>\n",
       "      <th>3</th>\n",
       "      <td>Royal Enfield</td>\n",
       "      <td>Royal Enfield Bullet 350</td>\n",
       "      <td>127094.0</td>\n",
       "      <td>346.0</td>\n",
       "      <td>45.0</td>\n",
       "      <td>183.0</td>\n",
       "      <td>0</td>\n",
       "    </tr>\n",
       "    <tr>\n",
       "      <th>4</th>\n",
       "      <td>Hero</td>\n",
       "      <td>Hero Splendor +</td>\n",
       "      <td>69380.0</td>\n",
       "      <td>97.2</td>\n",
       "      <td>70.0</td>\n",
       "      <td>110.0</td>\n",
       "      <td>0</td>\n",
       "    </tr>\n",
       "  </tbody>\n",
       "</table>\n",
       "</div>"
      ],
      "text/plain": [
       "                   Brand                    Model Name     Price     CC  \\\n",
       "Serial No                                                                 \n",
       "0          Royal Enfield       Royal Enfield Himalayan  210784.0  411.0   \n",
       "1          Royal Enfield  Royal Enfield Classic Chrome  188868.0  499.0   \n",
       "2          Royal Enfield      Royal Enfield Meteor 350  205844.0  349.0   \n",
       "3          Royal Enfield      Royal Enfield Bullet 350  127094.0  346.0   \n",
       "4                   Hero               Hero Splendor +   69380.0   97.2   \n",
       "\n",
       "          Mileage  Weight  Electric  \n",
       "Serial No                            \n",
       "0            45.0   191.0         0  \n",
       "1            27.0   194.0         0  \n",
       "2           41.88   183.0         0  \n",
       "3            45.0   183.0         0  \n",
       "4            70.0   110.0         0  "
      ]
     },
     "execution_count": 307,
     "metadata": {},
     "output_type": "execute_result"
    }
   ],
   "source": [
    "df.head(5)"
   ]
  },
  {
   "cell_type": "markdown",
   "id": "856f2fee-23e7-4e79-80de-3e5704b57502",
   "metadata": {},
   "source": [
    "# TOP 5 bike with average"
   ]
  },
  {
   "cell_type": "code",
   "execution_count": 308,
   "id": "22f3bbe2-690e-48ac-9954-718116a0d6df",
   "metadata": {},
   "outputs": [
    {
     "data": {
      "text/html": [
       "<div>\n",
       "<style scoped>\n",
       "    .dataframe tbody tr th:only-of-type {\n",
       "        vertical-align: middle;\n",
       "    }\n",
       "\n",
       "    .dataframe tbody tr th {\n",
       "        vertical-align: top;\n",
       "    }\n",
       "\n",
       "    .dataframe thead th {\n",
       "        text-align: right;\n",
       "    }\n",
       "</style>\n",
       "<table border=\"1\" class=\"dataframe\">\n",
       "  <thead>\n",
       "    <tr style=\"text-align: right;\">\n",
       "      <th></th>\n",
       "      <th>mean</th>\n",
       "      <th>max</th>\n",
       "    </tr>\n",
       "    <tr>\n",
       "      <th>Brand</th>\n",
       "      <th></th>\n",
       "      <th></th>\n",
       "    </tr>\n",
       "  </thead>\n",
       "  <tbody>\n",
       "    <tr>\n",
       "      <th>Indian</th>\n",
       "      <td>2.558467e+06</td>\n",
       "      <td>4800000.0</td>\n",
       "    </tr>\n",
       "    <tr>\n",
       "      <th>MV</th>\n",
       "      <td>2.288326e+06</td>\n",
       "      <td>3883000.0</td>\n",
       "    </tr>\n",
       "    <tr>\n",
       "      <th>Avantura</th>\n",
       "      <td>2.265000e+06</td>\n",
       "      <td>2390000.0</td>\n",
       "    </tr>\n",
       "    <tr>\n",
       "      <th>Moto</th>\n",
       "      <td>2.034167e+06</td>\n",
       "      <td>3026000.0</td>\n",
       "    </tr>\n",
       "    <tr>\n",
       "      <th>Harley-Davidson</th>\n",
       "      <td>1.939500e+06</td>\n",
       "      <td>4999000.0</td>\n",
       "    </tr>\n",
       "  </tbody>\n",
       "</table>\n",
       "</div>"
      ],
      "text/plain": [
       "                         mean        max\n",
       "Brand                                   \n",
       "Indian           2.558467e+06  4800000.0\n",
       "MV               2.288326e+06  3883000.0\n",
       "Avantura         2.265000e+06  2390000.0\n",
       "Moto             2.034167e+06  3026000.0\n",
       "Harley-Davidson  1.939500e+06  4999000.0"
      ]
     },
     "execution_count": 308,
     "metadata": {},
     "output_type": "execute_result"
    }
   ],
   "source": [
    "df[df['Electric']==0].groupby('Brand')['Price'].aggregate(['mean', 'max']).nlargest(5, 'mean')"
   ]
  },
  {
   "cell_type": "markdown",
   "id": "fee6c90c-5cde-4a16-aeb8-af6bfcc01bb5",
   "metadata": {},
   "source": [
    "# Top 5 bike with highest pricing"
   ]
  },
  {
   "cell_type": "code",
   "execution_count": 309,
   "id": "b89f6db6-5352-4173-942b-ff83ce0623df",
   "metadata": {},
   "outputs": [
    {
     "data": {
      "text/html": [
       "<div>\n",
       "<style scoped>\n",
       "    .dataframe tbody tr th:only-of-type {\n",
       "        vertical-align: middle;\n",
       "    }\n",
       "\n",
       "    .dataframe tbody tr th {\n",
       "        vertical-align: top;\n",
       "    }\n",
       "\n",
       "    .dataframe thead th {\n",
       "        text-align: right;\n",
       "    }\n",
       "</style>\n",
       "<table border=\"1\" class=\"dataframe\">\n",
       "  <thead>\n",
       "    <tr style=\"text-align: right;\">\n",
       "      <th></th>\n",
       "      <th>mean</th>\n",
       "      <th>max</th>\n",
       "    </tr>\n",
       "    <tr>\n",
       "      <th>Brand</th>\n",
       "      <th></th>\n",
       "      <th></th>\n",
       "    </tr>\n",
       "  </thead>\n",
       "  <tbody>\n",
       "    <tr>\n",
       "      <th>Kawasaki</th>\n",
       "      <td>1.364384e+06</td>\n",
       "      <td>7990000.0</td>\n",
       "    </tr>\n",
       "    <tr>\n",
       "      <th>Ducati</th>\n",
       "      <td>1.627338e+06</td>\n",
       "      <td>5182000.0</td>\n",
       "    </tr>\n",
       "    <tr>\n",
       "      <th>Harley-Davidson</th>\n",
       "      <td>1.939500e+06</td>\n",
       "      <td>4999000.0</td>\n",
       "    </tr>\n",
       "    <tr>\n",
       "      <th>Indian</th>\n",
       "      <td>2.558467e+06</td>\n",
       "      <td>4800000.0</td>\n",
       "    </tr>\n",
       "    <tr>\n",
       "      <th>BMW</th>\n",
       "      <td>1.789000e+06</td>\n",
       "      <td>4200000.0</td>\n",
       "    </tr>\n",
       "  </tbody>\n",
       "</table>\n",
       "</div>"
      ],
      "text/plain": [
       "                         mean        max\n",
       "Brand                                   \n",
       "Kawasaki         1.364384e+06  7990000.0\n",
       "Ducati           1.627338e+06  5182000.0\n",
       "Harley-Davidson  1.939500e+06  4999000.0\n",
       "Indian           2.558467e+06  4800000.0\n",
       "BMW              1.789000e+06  4200000.0"
      ]
     },
     "execution_count": 309,
     "metadata": {},
     "output_type": "execute_result"
    }
   ],
   "source": [
    "df[df['Electric']==0].groupby('Brand')['Price'].aggregate(['mean', 'max']).nlargest(5, 'max')"
   ]
  },
  {
   "cell_type": "code",
   "execution_count": null,
   "id": "0aa9c4dc-5c82-48fa-8c33-9b2c736b2f52",
   "metadata": {},
   "outputs": [],
   "source": []
  },
  {
   "cell_type": "code",
   "execution_count": null,
   "id": "0be4ef29-85e2-46c4-a578-0bdd9274743b",
   "metadata": {},
   "outputs": [],
   "source": []
  }
 ],
 "metadata": {
  "kernelspec": {
   "display_name": "Python 3 (ipykernel)",
   "language": "python",
   "name": "python3"
  },
  "language_info": {
   "codemirror_mode": {
    "name": "ipython",
    "version": 3
   },
   "file_extension": ".py",
   "mimetype": "text/x-python",
   "name": "python",
   "nbconvert_exporter": "python",
   "pygments_lexer": "ipython3",
   "version": "3.10.5"
  }
 },
 "nbformat": 4,
 "nbformat_minor": 5
}
